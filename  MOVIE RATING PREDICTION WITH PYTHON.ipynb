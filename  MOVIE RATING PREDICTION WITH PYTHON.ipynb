{
 "cells": [
  {
   "cell_type": "markdown",
   "id": "08a48f9c",
   "metadata": {},
   "source": [
    "## Unzip file"
   ]
  },
  {
   "cell_type": "code",
   "execution_count": 1,
   "id": "7fe9ea12",
   "metadata": {},
   "outputs": [],
   "source": [
    "import zipfile`"
   ]
  },
  {
   "cell_type": "code",
   "execution_count": 13,
   "id": "3eb6b2c8",
   "metadata": {},
   "outputs": [],
   "source": [
    "Zip_file_path = r\"C:\\Users\\saiki\\Downloads\\archive (1).zip\""
   ]
  },
  {
   "cell_type": "code",
   "execution_count": 11,
   "id": "ff6f77b3",
   "metadata": {},
   "outputs": [],
   "source": [
    "import os"
   ]
  },
  {
   "cell_type": "code",
   "execution_count": 14,
   "id": "0eedfe77",
   "metadata": {},
   "outputs": [
    {
     "name": "stdout",
     "output_type": "stream",
     "text": [
      "extract files to C:\\Users\\saiki\\Downloads\\archive_extract\n"
     ]
    }
   ],
   "source": [
    "if os.path.exists(Zip_file_path):\n",
    "    with zipfile.ZipFile(Zip_file_path,\"r\") as zip_file:\n",
    "        extract_path = r\"C:\\Users\\saiki\\Downloads\\archive_extract\"\n",
    "        zip_file.extractall(extract_path)\n",
    "        print(f\"extract files to {extract_path}\")\n",
    "else:\n",
    "    print(f\"file not found {Zip_file_path}\")"
   ]
  },
  {
   "cell_type": "markdown",
   "id": "e3251c3f",
   "metadata": {},
   "source": [
    "## Import libraries"
   ]
  },
  {
   "cell_type": "code",
   "execution_count": 1,
   "id": "18390102",
   "metadata": {},
   "outputs": [],
   "source": [
    "import pandas as pd\n",
    "import seaborn as sns\n",
    "import matplotlib.pyplot as plt"
   ]
  },
  {
   "cell_type": "markdown",
   "id": "99a05989",
   "metadata": {},
   "source": [
    "## Unicode Error"
   ]
  },
  {
   "cell_type": "code",
   "execution_count": 17,
   "id": "15a112ed",
   "metadata": {},
   "outputs": [],
   "source": [
    "import chardet"
   ]
  },
  {
   "cell_type": "code",
   "execution_count": 18,
   "id": "2c3b6b6d",
   "metadata": {},
   "outputs": [
    {
     "name": "stdout",
     "output_type": "stream",
     "text": [
      "{'encoding': 'ISO-8859-1', 'confidence': 0.7299889142069536, 'language': ''}\n"
     ]
    }
   ],
   "source": [
    "with open(r\"C:\\Users\\saiki\\Downloads\\archive_extract\\IMDb Movies India.csv\",\"rb\") as file:\n",
    "    data = file.read()\n",
    "    print(chardet.detect(data))"
   ]
  },
  {
   "cell_type": "markdown",
   "id": "d220d81d",
   "metadata": {},
   "source": [
    "## Loading the dataset"
   ]
  },
  {
   "cell_type": "code",
   "execution_count": 2,
   "id": "aca3840b",
   "metadata": {},
   "outputs": [],
   "source": [
    "df = pd.read_csv(r\"C:\\Users\\saiki\\Downloads\\archive_extract\\IMDb Movies India.csv\",encoding='ISO-8859-1')"
   ]
  },
  {
   "cell_type": "code",
   "execution_count": 3,
   "id": "761bc71d",
   "metadata": {},
   "outputs": [
    {
     "data": {
      "text/html": [
       "<div>\n",
       "<style scoped>\n",
       "    .dataframe tbody tr th:only-of-type {\n",
       "        vertical-align: middle;\n",
       "    }\n",
       "\n",
       "    .dataframe tbody tr th {\n",
       "        vertical-align: top;\n",
       "    }\n",
       "\n",
       "    .dataframe thead th {\n",
       "        text-align: right;\n",
       "    }\n",
       "</style>\n",
       "<table border=\"1\" class=\"dataframe\">\n",
       "  <thead>\n",
       "    <tr style=\"text-align: right;\">\n",
       "      <th></th>\n",
       "      <th>Name</th>\n",
       "      <th>Year</th>\n",
       "      <th>Duration</th>\n",
       "      <th>Genre</th>\n",
       "      <th>Rating</th>\n",
       "      <th>Votes</th>\n",
       "      <th>Director</th>\n",
       "      <th>Actor 1</th>\n",
       "      <th>Actor 2</th>\n",
       "      <th>Actor 3</th>\n",
       "    </tr>\n",
       "  </thead>\n",
       "  <tbody>\n",
       "    <tr>\n",
       "      <th>0</th>\n",
       "      <td></td>\n",
       "      <td>NaN</td>\n",
       "      <td>NaN</td>\n",
       "      <td>Drama</td>\n",
       "      <td>NaN</td>\n",
       "      <td>NaN</td>\n",
       "      <td>J.S. Randhawa</td>\n",
       "      <td>Manmauji</td>\n",
       "      <td>Birbal</td>\n",
       "      <td>Rajendra Bhatia</td>\n",
       "    </tr>\n",
       "    <tr>\n",
       "      <th>1</th>\n",
       "      <td>#Gadhvi (He thought he was Gandhi)</td>\n",
       "      <td>(2019)</td>\n",
       "      <td>109 min</td>\n",
       "      <td>Drama</td>\n",
       "      <td>7.0</td>\n",
       "      <td>8</td>\n",
       "      <td>Gaurav Bakshi</td>\n",
       "      <td>Rasika Dugal</td>\n",
       "      <td>Vivek Ghamande</td>\n",
       "      <td>Arvind Jangid</td>\n",
       "    </tr>\n",
       "    <tr>\n",
       "      <th>2</th>\n",
       "      <td>#Homecoming</td>\n",
       "      <td>(2021)</td>\n",
       "      <td>90 min</td>\n",
       "      <td>Drama, Musical</td>\n",
       "      <td>NaN</td>\n",
       "      <td>NaN</td>\n",
       "      <td>Soumyajit Majumdar</td>\n",
       "      <td>Sayani Gupta</td>\n",
       "      <td>Plabita Borthakur</td>\n",
       "      <td>Roy Angana</td>\n",
       "    </tr>\n",
       "    <tr>\n",
       "      <th>3</th>\n",
       "      <td>#Yaaram</td>\n",
       "      <td>(2019)</td>\n",
       "      <td>110 min</td>\n",
       "      <td>Comedy, Romance</td>\n",
       "      <td>4.4</td>\n",
       "      <td>35</td>\n",
       "      <td>Ovais Khan</td>\n",
       "      <td>Prateik</td>\n",
       "      <td>Ishita Raj</td>\n",
       "      <td>Siddhant Kapoor</td>\n",
       "    </tr>\n",
       "    <tr>\n",
       "      <th>4</th>\n",
       "      <td>...And Once Again</td>\n",
       "      <td>(2010)</td>\n",
       "      <td>105 min</td>\n",
       "      <td>Drama</td>\n",
       "      <td>NaN</td>\n",
       "      <td>NaN</td>\n",
       "      <td>Amol Palekar</td>\n",
       "      <td>Rajat Kapoor</td>\n",
       "      <td>Rituparna Sengupta</td>\n",
       "      <td>Antara Mali</td>\n",
       "    </tr>\n",
       "    <tr>\n",
       "      <th>...</th>\n",
       "      <td>...</td>\n",
       "      <td>...</td>\n",
       "      <td>...</td>\n",
       "      <td>...</td>\n",
       "      <td>...</td>\n",
       "      <td>...</td>\n",
       "      <td>...</td>\n",
       "      <td>...</td>\n",
       "      <td>...</td>\n",
       "      <td>...</td>\n",
       "    </tr>\n",
       "    <tr>\n",
       "      <th>15504</th>\n",
       "      <td>Zulm Ko Jala Doonga</td>\n",
       "      <td>(1988)</td>\n",
       "      <td>NaN</td>\n",
       "      <td>Action</td>\n",
       "      <td>4.6</td>\n",
       "      <td>11</td>\n",
       "      <td>Mahendra Shah</td>\n",
       "      <td>Naseeruddin Shah</td>\n",
       "      <td>Sumeet Saigal</td>\n",
       "      <td>Suparna Anand</td>\n",
       "    </tr>\n",
       "    <tr>\n",
       "      <th>15505</th>\n",
       "      <td>Zulmi</td>\n",
       "      <td>(1999)</td>\n",
       "      <td>129 min</td>\n",
       "      <td>Action, Drama</td>\n",
       "      <td>4.5</td>\n",
       "      <td>655</td>\n",
       "      <td>Kuku Kohli</td>\n",
       "      <td>Akshay Kumar</td>\n",
       "      <td>Twinkle Khanna</td>\n",
       "      <td>Aruna Irani</td>\n",
       "    </tr>\n",
       "    <tr>\n",
       "      <th>15506</th>\n",
       "      <td>Zulmi Raj</td>\n",
       "      <td>(2005)</td>\n",
       "      <td>NaN</td>\n",
       "      <td>Action</td>\n",
       "      <td>NaN</td>\n",
       "      <td>NaN</td>\n",
       "      <td>Kiran Thej</td>\n",
       "      <td>Sangeeta Tiwari</td>\n",
       "      <td>NaN</td>\n",
       "      <td>NaN</td>\n",
       "    </tr>\n",
       "    <tr>\n",
       "      <th>15507</th>\n",
       "      <td>Zulmi Shikari</td>\n",
       "      <td>(1988)</td>\n",
       "      <td>NaN</td>\n",
       "      <td>Action</td>\n",
       "      <td>NaN</td>\n",
       "      <td>NaN</td>\n",
       "      <td>NaN</td>\n",
       "      <td>NaN</td>\n",
       "      <td>NaN</td>\n",
       "      <td>NaN</td>\n",
       "    </tr>\n",
       "    <tr>\n",
       "      <th>15508</th>\n",
       "      <td>Zulm-O-Sitam</td>\n",
       "      <td>(1998)</td>\n",
       "      <td>130 min</td>\n",
       "      <td>Action, Drama</td>\n",
       "      <td>6.2</td>\n",
       "      <td>20</td>\n",
       "      <td>K.C. Bokadia</td>\n",
       "      <td>Dharmendra</td>\n",
       "      <td>Jaya Prada</td>\n",
       "      <td>Arjun Sarja</td>\n",
       "    </tr>\n",
       "  </tbody>\n",
       "</table>\n",
       "<p>15509 rows × 10 columns</p>\n",
       "</div>"
      ],
      "text/plain": [
       "                                     Name    Year Duration            Genre  \\\n",
       "0                                             NaN      NaN            Drama   \n",
       "1      #Gadhvi (He thought he was Gandhi)  (2019)  109 min            Drama   \n",
       "2                             #Homecoming  (2021)   90 min   Drama, Musical   \n",
       "3                                 #Yaaram  (2019)  110 min  Comedy, Romance   \n",
       "4                       ...And Once Again  (2010)  105 min            Drama   \n",
       "...                                   ...     ...      ...              ...   \n",
       "15504                 Zulm Ko Jala Doonga  (1988)      NaN           Action   \n",
       "15505                               Zulmi  (1999)  129 min    Action, Drama   \n",
       "15506                           Zulmi Raj  (2005)      NaN           Action   \n",
       "15507                       Zulmi Shikari  (1988)      NaN           Action   \n",
       "15508                        Zulm-O-Sitam  (1998)  130 min    Action, Drama   \n",
       "\n",
       "       Rating Votes            Director           Actor 1             Actor 2  \\\n",
       "0         NaN   NaN       J.S. Randhawa          Manmauji              Birbal   \n",
       "1         7.0     8       Gaurav Bakshi      Rasika Dugal      Vivek Ghamande   \n",
       "2         NaN   NaN  Soumyajit Majumdar      Sayani Gupta   Plabita Borthakur   \n",
       "3         4.4    35          Ovais Khan           Prateik          Ishita Raj   \n",
       "4         NaN   NaN        Amol Palekar      Rajat Kapoor  Rituparna Sengupta   \n",
       "...       ...   ...                 ...               ...                 ...   \n",
       "15504     4.6    11       Mahendra Shah  Naseeruddin Shah       Sumeet Saigal   \n",
       "15505     4.5   655          Kuku Kohli      Akshay Kumar      Twinkle Khanna   \n",
       "15506     NaN   NaN          Kiran Thej   Sangeeta Tiwari                 NaN   \n",
       "15507     NaN   NaN                 NaN               NaN                 NaN   \n",
       "15508     6.2    20        K.C. Bokadia        Dharmendra          Jaya Prada   \n",
       "\n",
       "               Actor 3  \n",
       "0      Rajendra Bhatia  \n",
       "1        Arvind Jangid  \n",
       "2           Roy Angana  \n",
       "3      Siddhant Kapoor  \n",
       "4          Antara Mali  \n",
       "...                ...  \n",
       "15504    Suparna Anand  \n",
       "15505      Aruna Irani  \n",
       "15506              NaN  \n",
       "15507              NaN  \n",
       "15508      Arjun Sarja  \n",
       "\n",
       "[15509 rows x 10 columns]"
      ]
     },
     "execution_count": 3,
     "metadata": {},
     "output_type": "execute_result"
    }
   ],
   "source": [
    "df"
   ]
  },
  {
   "cell_type": "markdown",
   "id": "9796282f",
   "metadata": {},
   "source": [
    "## Table info"
   ]
  },
  {
   "cell_type": "code",
   "execution_count": 4,
   "id": "a6124051",
   "metadata": {},
   "outputs": [
    {
     "name": "stdout",
     "output_type": "stream",
     "text": [
      "<class 'pandas.core.frame.DataFrame'>\n",
      "RangeIndex: 15509 entries, 0 to 15508\n",
      "Data columns (total 10 columns):\n",
      " #   Column    Non-Null Count  Dtype  \n",
      "---  ------    --------------  -----  \n",
      " 0   Name      15509 non-null  object \n",
      " 1   Year      14981 non-null  object \n",
      " 2   Duration  7240 non-null   object \n",
      " 3   Genre     13632 non-null  object \n",
      " 4   Rating    7919 non-null   float64\n",
      " 5   Votes     7920 non-null   object \n",
      " 6   Director  14984 non-null  object \n",
      " 7   Actor 1   13892 non-null  object \n",
      " 8   Actor 2   13125 non-null  object \n",
      " 9   Actor 3   12365 non-null  object \n",
      "dtypes: float64(1), object(9)\n",
      "memory usage: 1.2+ MB\n"
     ]
    }
   ],
   "source": [
    "df.info()"
   ]
  },
  {
   "cell_type": "markdown",
   "id": "762e8190",
   "metadata": {},
   "source": [
    "## Shape"
   ]
  },
  {
   "cell_type": "code",
   "execution_count": 5,
   "id": "46eef8d0",
   "metadata": {},
   "outputs": [
    {
     "data": {
      "text/plain": [
       "(15509, 10)"
      ]
     },
     "execution_count": 5,
     "metadata": {},
     "output_type": "execute_result"
    }
   ],
   "source": [
    "df.shape"
   ]
  },
  {
   "cell_type": "markdown",
   "id": "6334aa37",
   "metadata": {},
   "source": [
    "## columns"
   ]
  },
  {
   "cell_type": "code",
   "execution_count": 6,
   "id": "75d25f90",
   "metadata": {},
   "outputs": [
    {
     "data": {
      "text/plain": [
       "Index(['Name', 'Year', 'Duration', 'Genre', 'Rating', 'Votes', 'Director',\n",
       "       'Actor 1', 'Actor 2', 'Actor 3'],\n",
       "      dtype='object')"
      ]
     },
     "execution_count": 6,
     "metadata": {},
     "output_type": "execute_result"
    }
   ],
   "source": [
    "df.columns"
   ]
  },
  {
   "cell_type": "markdown",
   "id": "79c21421",
   "metadata": {},
   "source": [
    "## Drop unwanted columns"
   ]
  },
  {
   "cell_type": "code",
   "execution_count": 7,
   "id": "071c4ce6",
   "metadata": {},
   "outputs": [],
   "source": [
    "df.drop(columns=['Name',\"Actor 2\",\"Actor 3\"],inplace=True)"
   ]
  },
  {
   "cell_type": "code",
   "execution_count": null,
   "id": "9fa5d477",
   "metadata": {},
   "outputs": [],
   "source": []
  },
  {
   "cell_type": "markdown",
   "id": "7964022d",
   "metadata": {},
   "source": [
    "## Null values"
   ]
  },
  {
   "cell_type": "code",
   "execution_count": 8,
   "id": "54715b99",
   "metadata": {},
   "outputs": [
    {
     "data": {
      "text/plain": [
       "Year         528\n",
       "Duration    8269\n",
       "Genre       1877\n",
       "Rating      7590\n",
       "Votes       7589\n",
       "Director     525\n",
       "Actor 1     1617\n",
       "dtype: int64"
      ]
     },
     "execution_count": 8,
     "metadata": {},
     "output_type": "execute_result"
    }
   ],
   "source": [
    "df.isna().sum()"
   ]
  },
  {
   "cell_type": "code",
   "execution_count": 9,
   "id": "fb11144a",
   "metadata": {},
   "outputs": [
    {
     "data": {
      "text/html": [
       "<div>\n",
       "<style scoped>\n",
       "    .dataframe tbody tr th:only-of-type {\n",
       "        vertical-align: middle;\n",
       "    }\n",
       "\n",
       "    .dataframe tbody tr th {\n",
       "        vertical-align: top;\n",
       "    }\n",
       "\n",
       "    .dataframe thead th {\n",
       "        text-align: right;\n",
       "    }\n",
       "</style>\n",
       "<table border=\"1\" class=\"dataframe\">\n",
       "  <thead>\n",
       "    <tr style=\"text-align: right;\">\n",
       "      <th></th>\n",
       "      <th>Year</th>\n",
       "      <th>Duration</th>\n",
       "      <th>Genre</th>\n",
       "      <th>Rating</th>\n",
       "      <th>Votes</th>\n",
       "      <th>Director</th>\n",
       "      <th>Actor 1</th>\n",
       "    </tr>\n",
       "  </thead>\n",
       "  <tbody>\n",
       "    <tr>\n",
       "      <th>0</th>\n",
       "      <td>NaN</td>\n",
       "      <td>NaN</td>\n",
       "      <td>Drama</td>\n",
       "      <td>NaN</td>\n",
       "      <td>NaN</td>\n",
       "      <td>J.S. Randhawa</td>\n",
       "      <td>Manmauji</td>\n",
       "    </tr>\n",
       "    <tr>\n",
       "      <th>1</th>\n",
       "      <td>(2019)</td>\n",
       "      <td>109 min</td>\n",
       "      <td>Drama</td>\n",
       "      <td>7.0</td>\n",
       "      <td>8</td>\n",
       "      <td>Gaurav Bakshi</td>\n",
       "      <td>Rasika Dugal</td>\n",
       "    </tr>\n",
       "    <tr>\n",
       "      <th>2</th>\n",
       "      <td>(2021)</td>\n",
       "      <td>90 min</td>\n",
       "      <td>Drama, Musical</td>\n",
       "      <td>NaN</td>\n",
       "      <td>NaN</td>\n",
       "      <td>Soumyajit Majumdar</td>\n",
       "      <td>Sayani Gupta</td>\n",
       "    </tr>\n",
       "    <tr>\n",
       "      <th>3</th>\n",
       "      <td>(2019)</td>\n",
       "      <td>110 min</td>\n",
       "      <td>Comedy, Romance</td>\n",
       "      <td>4.4</td>\n",
       "      <td>35</td>\n",
       "      <td>Ovais Khan</td>\n",
       "      <td>Prateik</td>\n",
       "    </tr>\n",
       "    <tr>\n",
       "      <th>4</th>\n",
       "      <td>(2010)</td>\n",
       "      <td>105 min</td>\n",
       "      <td>Drama</td>\n",
       "      <td>NaN</td>\n",
       "      <td>NaN</td>\n",
       "      <td>Amol Palekar</td>\n",
       "      <td>Rajat Kapoor</td>\n",
       "    </tr>\n",
       "    <tr>\n",
       "      <th>5</th>\n",
       "      <td>(1997)</td>\n",
       "      <td>147 min</td>\n",
       "      <td>Comedy, Drama, Musical</td>\n",
       "      <td>4.7</td>\n",
       "      <td>827</td>\n",
       "      <td>Rahul Rawail</td>\n",
       "      <td>Bobby Deol</td>\n",
       "    </tr>\n",
       "    <tr>\n",
       "      <th>6</th>\n",
       "      <td>(2005)</td>\n",
       "      <td>142 min</td>\n",
       "      <td>Drama, Romance, War</td>\n",
       "      <td>7.4</td>\n",
       "      <td>1,086</td>\n",
       "      <td>Shoojit Sircar</td>\n",
       "      <td>Jimmy Sheirgill</td>\n",
       "    </tr>\n",
       "    <tr>\n",
       "      <th>7</th>\n",
       "      <td>(2008)</td>\n",
       "      <td>59 min</td>\n",
       "      <td>Documentary</td>\n",
       "      <td>NaN</td>\n",
       "      <td>NaN</td>\n",
       "      <td>Anirban Datta</td>\n",
       "      <td>NaN</td>\n",
       "    </tr>\n",
       "    <tr>\n",
       "      <th>8</th>\n",
       "      <td>(2012)</td>\n",
       "      <td>82 min</td>\n",
       "      <td>Horror, Mystery, Thriller</td>\n",
       "      <td>5.6</td>\n",
       "      <td>326</td>\n",
       "      <td>Allyson Patel</td>\n",
       "      <td>Yash Dave</td>\n",
       "    </tr>\n",
       "    <tr>\n",
       "      <th>9</th>\n",
       "      <td>(2014)</td>\n",
       "      <td>116 min</td>\n",
       "      <td>Action, Crime, Thriller</td>\n",
       "      <td>4.0</td>\n",
       "      <td>11</td>\n",
       "      <td>Biju Bhaskar Nair</td>\n",
       "      <td>Augustine</td>\n",
       "    </tr>\n",
       "  </tbody>\n",
       "</table>\n",
       "</div>"
      ],
      "text/plain": [
       "     Year Duration                      Genre  Rating  Votes  \\\n",
       "0     NaN      NaN                      Drama     NaN    NaN   \n",
       "1  (2019)  109 min                      Drama     7.0      8   \n",
       "2  (2021)   90 min             Drama, Musical     NaN    NaN   \n",
       "3  (2019)  110 min            Comedy, Romance     4.4     35   \n",
       "4  (2010)  105 min                      Drama     NaN    NaN   \n",
       "5  (1997)  147 min     Comedy, Drama, Musical     4.7    827   \n",
       "6  (2005)  142 min        Drama, Romance, War     7.4  1,086   \n",
       "7  (2008)   59 min                Documentary     NaN    NaN   \n",
       "8  (2012)   82 min  Horror, Mystery, Thriller     5.6    326   \n",
       "9  (2014)  116 min    Action, Crime, Thriller     4.0     11   \n",
       "\n",
       "             Director          Actor 1  \n",
       "0       J.S. Randhawa         Manmauji  \n",
       "1       Gaurav Bakshi     Rasika Dugal  \n",
       "2  Soumyajit Majumdar     Sayani Gupta  \n",
       "3          Ovais Khan          Prateik  \n",
       "4        Amol Palekar     Rajat Kapoor  \n",
       "5        Rahul Rawail       Bobby Deol  \n",
       "6      Shoojit Sircar  Jimmy Sheirgill  \n",
       "7       Anirban Datta              NaN  \n",
       "8       Allyson Patel        Yash Dave  \n",
       "9   Biju Bhaskar Nair        Augustine  "
      ]
     },
     "execution_count": 9,
     "metadata": {},
     "output_type": "execute_result"
    }
   ],
   "source": [
    "df.head(10)"
   ]
  },
  {
   "cell_type": "code",
   "execution_count": 10,
   "id": "208dd1d3",
   "metadata": {},
   "outputs": [
    {
     "data": {
      "text/plain": [
       "'(2019)'"
      ]
     },
     "execution_count": 10,
     "metadata": {},
     "output_type": "execute_result"
    }
   ],
   "source": [
    "df['Year'].mode()[0]"
   ]
  },
  {
   "cell_type": "code",
   "execution_count": 11,
   "id": "efabff12",
   "metadata": {},
   "outputs": [],
   "source": [
    "df['Year'] = df['Year'].fillna(df['Year'].mode()[0])"
   ]
  },
  {
   "cell_type": "code",
   "execution_count": 12,
   "id": "91db1290",
   "metadata": {},
   "outputs": [],
   "source": [
    "df['Year'] = df['Year'].apply(lambda x : x.strip('()'))"
   ]
  },
  {
   "cell_type": "code",
   "execution_count": 13,
   "id": "14dad01f",
   "metadata": {},
   "outputs": [
    {
     "data": {
      "text/plain": [
       "'120 min'"
      ]
     },
     "execution_count": 13,
     "metadata": {},
     "output_type": "execute_result"
    }
   ],
   "source": [
    "df['Duration'].mode()[0]"
   ]
  },
  {
   "cell_type": "code",
   "execution_count": 14,
   "id": "c52e4d25",
   "metadata": {},
   "outputs": [],
   "source": [
    "df['Duration'] = df['Duration'].fillna(df['Duration'].mode()[0])"
   ]
  },
  {
   "cell_type": "code",
   "execution_count": 15,
   "id": "8905f407",
   "metadata": {},
   "outputs": [
    {
     "data": {
      "text/plain": [
       "'Drama'"
      ]
     },
     "execution_count": 15,
     "metadata": {},
     "output_type": "execute_result"
    }
   ],
   "source": [
    "df['Genre'].mode()[0]"
   ]
  },
  {
   "cell_type": "code",
   "execution_count": 16,
   "id": "8b19491b",
   "metadata": {},
   "outputs": [],
   "source": [
    "df['Genre'] = df['Genre'].fillna(df['Genre'].mode()[0])"
   ]
  },
  {
   "cell_type": "code",
   "execution_count": 17,
   "id": "fefd6c8e",
   "metadata": {},
   "outputs": [
    {
     "data": {
      "text/plain": [
       "6.0"
      ]
     },
     "execution_count": 17,
     "metadata": {},
     "output_type": "execute_result"
    }
   ],
   "source": [
    "df['Rating'].median()"
   ]
  },
  {
   "cell_type": "code",
   "execution_count": 18,
   "id": "5335789f",
   "metadata": {},
   "outputs": [],
   "source": [
    "df['Rating'] = df['Rating'].fillna(df['Rating'].median())"
   ]
  },
  {
   "cell_type": "code",
   "execution_count": 19,
   "id": "1ea99941",
   "metadata": {},
   "outputs": [
    {
     "data": {
      "text/plain": [
       "'8'"
      ]
     },
     "execution_count": 19,
     "metadata": {},
     "output_type": "execute_result"
    }
   ],
   "source": [
    "df['Votes'].mode()[0]"
   ]
  },
  {
   "cell_type": "code",
   "execution_count": 20,
   "id": "ba1ef6f2",
   "metadata": {},
   "outputs": [],
   "source": [
    "df['Votes'] = df['Votes'].fillna(df['Votes'].mode()[0])"
   ]
  },
  {
   "cell_type": "code",
   "execution_count": 21,
   "id": "22f61cd1",
   "metadata": {},
   "outputs": [
    {
     "data": {
      "text/plain": [
       "'Jayant Desai'"
      ]
     },
     "execution_count": 21,
     "metadata": {},
     "output_type": "execute_result"
    }
   ],
   "source": [
    "df['Director'].mode()[0]"
   ]
  },
  {
   "cell_type": "code",
   "execution_count": 22,
   "id": "dafa0074",
   "metadata": {},
   "outputs": [],
   "source": [
    "df['Director'] = df['Director'].fillna(df['Director'].mode()[0])"
   ]
  },
  {
   "cell_type": "code",
   "execution_count": 23,
   "id": "98fa2be1",
   "metadata": {},
   "outputs": [
    {
     "name": "stdout",
     "output_type": "stream",
     "text": [
      "actor_1 ::  Ashok Kumar\n"
     ]
    }
   ],
   "source": [
    "print(f\"actor_1 :: \" ,df['Actor 1'].mode()[0])"
   ]
  },
  {
   "cell_type": "code",
   "execution_count": 24,
   "id": "4b8f699a",
   "metadata": {},
   "outputs": [],
   "source": [
    "df['Actor 1'] = df['Actor 1'].fillna(df['Actor 1'].mode()[0])"
   ]
  },
  {
   "cell_type": "code",
   "execution_count": 25,
   "id": "b7dddc91",
   "metadata": {},
   "outputs": [
    {
     "data": {
      "text/plain": [
       "Year        0\n",
       "Duration    0\n",
       "Genre       0\n",
       "Rating      0\n",
       "Votes       0\n",
       "Director    0\n",
       "Actor 1     0\n",
       "dtype: int64"
      ]
     },
     "execution_count": 25,
     "metadata": {},
     "output_type": "execute_result"
    }
   ],
   "source": [
    "df.isna().sum()"
   ]
  },
  {
   "cell_type": "markdown",
   "id": "fe04ca20",
   "metadata": {},
   "source": [
    "## Duplicates"
   ]
  },
  {
   "cell_type": "code",
   "execution_count": 26,
   "id": "0f61f650",
   "metadata": {},
   "outputs": [
    {
     "data": {
      "text/plain": [
       "434"
      ]
     },
     "execution_count": 26,
     "metadata": {},
     "output_type": "execute_result"
    }
   ],
   "source": [
    "df.duplicated().sum()"
   ]
  },
  {
   "cell_type": "code",
   "execution_count": 27,
   "id": "7e213424",
   "metadata": {},
   "outputs": [
    {
     "data": {
      "text/html": [
       "<div>\n",
       "<style scoped>\n",
       "    .dataframe tbody tr th:only-of-type {\n",
       "        vertical-align: middle;\n",
       "    }\n",
       "\n",
       "    .dataframe tbody tr th {\n",
       "        vertical-align: top;\n",
       "    }\n",
       "\n",
       "    .dataframe thead th {\n",
       "        text-align: right;\n",
       "    }\n",
       "</style>\n",
       "<table border=\"1\" class=\"dataframe\">\n",
       "  <thead>\n",
       "    <tr style=\"text-align: right;\">\n",
       "      <th></th>\n",
       "      <th>Year</th>\n",
       "      <th>Duration</th>\n",
       "      <th>Genre</th>\n",
       "      <th>Rating</th>\n",
       "      <th>Votes</th>\n",
       "      <th>Director</th>\n",
       "      <th>Actor 1</th>\n",
       "    </tr>\n",
       "  </thead>\n",
       "  <tbody>\n",
       "    <tr>\n",
       "      <th>547</th>\n",
       "      <td>1968</td>\n",
       "      <td>120 min</td>\n",
       "      <td>Drama</td>\n",
       "      <td>6.0</td>\n",
       "      <td>8</td>\n",
       "      <td>Jayant Desai</td>\n",
       "      <td>Ashok Kumar</td>\n",
       "    </tr>\n",
       "    <tr>\n",
       "      <th>1125</th>\n",
       "      <td>2019</td>\n",
       "      <td>120 min</td>\n",
       "      <td>Drama</td>\n",
       "      <td>6.0</td>\n",
       "      <td>8</td>\n",
       "      <td>Jayant Desai</td>\n",
       "      <td>Ashok Kumar</td>\n",
       "    </tr>\n",
       "    <tr>\n",
       "      <th>1145</th>\n",
       "      <td>2003</td>\n",
       "      <td>120 min</td>\n",
       "      <td>Romance</td>\n",
       "      <td>6.0</td>\n",
       "      <td>8</td>\n",
       "      <td>Jayant Desai</td>\n",
       "      <td>Ashok Kumar</td>\n",
       "    </tr>\n",
       "    <tr>\n",
       "      <th>1250</th>\n",
       "      <td>1979</td>\n",
       "      <td>120 min</td>\n",
       "      <td>Action</td>\n",
       "      <td>6.0</td>\n",
       "      <td>8</td>\n",
       "      <td>Master Bhagwan</td>\n",
       "      <td>Meena Rai</td>\n",
       "    </tr>\n",
       "    <tr>\n",
       "      <th>1251</th>\n",
       "      <td>1979</td>\n",
       "      <td>120 min</td>\n",
       "      <td>Action</td>\n",
       "      <td>6.0</td>\n",
       "      <td>8</td>\n",
       "      <td>Master Bhagwan</td>\n",
       "      <td>Meena Rai</td>\n",
       "    </tr>\n",
       "    <tr>\n",
       "      <th>...</th>\n",
       "      <td>...</td>\n",
       "      <td>...</td>\n",
       "      <td>...</td>\n",
       "      <td>...</td>\n",
       "      <td>...</td>\n",
       "      <td>...</td>\n",
       "      <td>...</td>\n",
       "    </tr>\n",
       "    <tr>\n",
       "      <th>15419</th>\n",
       "      <td>1986</td>\n",
       "      <td>120 min</td>\n",
       "      <td>Drama</td>\n",
       "      <td>6.0</td>\n",
       "      <td>8</td>\n",
       "      <td>Jayant Desai</td>\n",
       "      <td>Ashok Kumar</td>\n",
       "    </tr>\n",
       "    <tr>\n",
       "      <th>15430</th>\n",
       "      <td>1968</td>\n",
       "      <td>120 min</td>\n",
       "      <td>Drama</td>\n",
       "      <td>6.0</td>\n",
       "      <td>8</td>\n",
       "      <td>Jayant Desai</td>\n",
       "      <td>Ashok Kumar</td>\n",
       "    </tr>\n",
       "    <tr>\n",
       "      <th>15448</th>\n",
       "      <td>1937</td>\n",
       "      <td>120 min</td>\n",
       "      <td>Drama</td>\n",
       "      <td>6.0</td>\n",
       "      <td>8</td>\n",
       "      <td>Jayant Desai</td>\n",
       "      <td>Ashok Kumar</td>\n",
       "    </tr>\n",
       "    <tr>\n",
       "      <th>15485</th>\n",
       "      <td>1963</td>\n",
       "      <td>120 min</td>\n",
       "      <td>Drama</td>\n",
       "      <td>6.0</td>\n",
       "      <td>8</td>\n",
       "      <td>Chandrakant</td>\n",
       "      <td>Bela Bose</td>\n",
       "    </tr>\n",
       "    <tr>\n",
       "      <th>15507</th>\n",
       "      <td>1988</td>\n",
       "      <td>120 min</td>\n",
       "      <td>Action</td>\n",
       "      <td>6.0</td>\n",
       "      <td>8</td>\n",
       "      <td>Jayant Desai</td>\n",
       "      <td>Ashok Kumar</td>\n",
       "    </tr>\n",
       "  </tbody>\n",
       "</table>\n",
       "<p>434 rows × 7 columns</p>\n",
       "</div>"
      ],
      "text/plain": [
       "       Year Duration    Genre  Rating Votes        Director      Actor 1\n",
       "547    1968  120 min    Drama     6.0     8    Jayant Desai  Ashok Kumar\n",
       "1125   2019  120 min    Drama     6.0     8    Jayant Desai  Ashok Kumar\n",
       "1145   2003  120 min  Romance     6.0     8    Jayant Desai  Ashok Kumar\n",
       "1250   1979  120 min   Action     6.0     8  Master Bhagwan    Meena Rai\n",
       "1251   1979  120 min   Action     6.0     8  Master Bhagwan    Meena Rai\n",
       "...     ...      ...      ...     ...   ...             ...          ...\n",
       "15419  1986  120 min    Drama     6.0     8    Jayant Desai  Ashok Kumar\n",
       "15430  1968  120 min    Drama     6.0     8    Jayant Desai  Ashok Kumar\n",
       "15448  1937  120 min    Drama     6.0     8    Jayant Desai  Ashok Kumar\n",
       "15485  1963  120 min    Drama     6.0     8     Chandrakant    Bela Bose\n",
       "15507  1988  120 min   Action     6.0     8    Jayant Desai  Ashok Kumar\n",
       "\n",
       "[434 rows x 7 columns]"
      ]
     },
     "execution_count": 27,
     "metadata": {},
     "output_type": "execute_result"
    }
   ],
   "source": [
    "df[df.duplicated]"
   ]
  },
  {
   "cell_type": "code",
   "execution_count": 28,
   "id": "95b46b14",
   "metadata": {},
   "outputs": [],
   "source": [
    "df.drop_duplicates(keep=\"first\",ignore_index=True,inplace=True)"
   ]
  },
  {
   "cell_type": "markdown",
   "id": "e5c654be",
   "metadata": {},
   "source": [
    "## Noisy Data"
   ]
  },
  {
   "cell_type": "code",
   "execution_count": 367,
   "id": "7c070281",
   "metadata": {},
   "outputs": [
    {
     "name": "stdout",
     "output_type": "stream",
     "text": [
      "['2019' '2021' '2010' '1997' '2005' '2008' '2012' '2014' '2004' '2016'\n",
      " '1991' '1990' '2018' '1987' '1948' '1958' '2017' '2020' '2009' '2002'\n",
      " '1993' '1946' '1994' '2007' '2013' '2003' '1998' '1979' '1951' '1956'\n",
      " '1974' '2015' '2006' '1981' '1985' '2011' '2001' '1967' '1988' '1995'\n",
      " '1959' '1996' '1970' '1976' '2000' '1999' '1973' '1968' '1943' '1953'\n",
      " '1986' '1983' '1989' '1982' '1977' '1957' '1950' '1992' '1969' '1975'\n",
      " '1947' '1972' '1971' '1935' '1978' '1960' '1944' '1963' '1940' '1984'\n",
      " '1934' '1955' '1936' '1980' '1966' '1949' '1962' '1964' '1952' '1933'\n",
      " '1942' '1939' '1954' '1945' '1961' '1965' '1938' '1941' '1931' '1937'\n",
      " '2022' '1932' '1923' '1915' '1928' '1922' '1917' '1913' '1930' '1926'\n",
      " '1914' '1924']\n",
      "['120 min' '109 min' '90 min' '110 min' '105 min' '147 min' '142 min'\n",
      " '59 min' '82 min' '116 min' '96 min' '161 min' '166 min' '102 min'\n",
      " '87 min' '132 min' '66 min' '146 min' '112 min' '168 min' '158 min'\n",
      " '126 min' '94 min' '138 min' '124 min' '144 min' '157 min' '136 min'\n",
      " '107 min' '113 min' '80 min' '122 min' '149 min' '148 min' '130 min'\n",
      " '121 min' '188 min' '115 min' '103 min' '114 min' '170 min' '100 min'\n",
      " '99 min' '140 min' '128 min' '93 min' '125 min' '145 min' '75 min'\n",
      " '111 min' '134 min' '85 min' '104 min' '92 min' '137 min' '127 min'\n",
      " '150 min' '119 min' '135 min' '86 min' '76 min' '70 min' '72 min'\n",
      " '151 min' '95 min' '52 min' '89 min' '143 min' '177 min' '117 min'\n",
      " '123 min' '154 min' '88 min' '175 min' '153 min' '78 min' '139 min'\n",
      " '133 min' '101 min' '180 min' '60 min' '46 min' '164 min' '162 min'\n",
      " '171 min' '160 min' '152 min' '62 min' '163 min' '165 min' '141 min'\n",
      " '210 min' '129 min' '156 min' '240 min' '172 min' '155 min' '118 min'\n",
      " '167 min' '106 min' '193 min' '57 min' '108 min' '45 min' '195 min'\n",
      " '174 min' '81 min' '178 min' '58 min' '184 min' '97 min' '98 min'\n",
      " '131 min' '176 min' '169 min' '77 min' '91 min' '84 min' '173 min'\n",
      " '74 min' '67 min' '181 min' '300 min' '79 min' '65 min' '48 min'\n",
      " '183 min' '159 min' '83 min' '68 min' '49 min' '201 min' '64 min'\n",
      " '186 min' '50 min' '69 min' '207 min' '55 min' '61 min' '185 min'\n",
      " '187 min' '216 min' '63 min' '54 min' '198 min' '51 min' '71 min'\n",
      " '73 min' '218 min' '191 min' '321 min' '199 min' '53 min' '56 min'\n",
      " '179 min' '47 min' '206 min' '190 min' '211 min' '247 min' '213 min'\n",
      " '223 min' '2 min' '189 min' '224 min' '202 min' '255 min' '197 min'\n",
      " '182 min' '214 min' '208 min' '21 min' '200 min' '192 min' '37 min'\n",
      " '261 min' '238 min' '204 min' '235 min' '298 min' '217 min' '250 min']\n",
      "['Drama' 'Drama, Musical' 'Comedy, Romance' 'Comedy, Drama, Musical'\n",
      " 'Drama, Romance, War' 'Documentary' 'Horror, Mystery, Thriller'\n",
      " 'Action, Crime, Thriller' 'Horror' 'Horror, Romance, Thriller'\n",
      " 'Comedy, Drama, Romance' 'Thriller' 'Comedy, Drama'\n",
      " 'Comedy, Drama, Fantasy' 'Comedy, Drama, Family' 'Crime, Drama, Mystery'\n",
      " 'Horror, Thriller' 'Biography' 'Comedy, Horror' 'Action'\n",
      " 'Drama, Horror, Mystery' 'Comedy' 'Action, Thriller' 'Drama, History'\n",
      " 'Drama, History, Sport' 'Horror, Mystery, Romance' 'Horror, Mystery'\n",
      " 'Drama, Horror, Romance' 'Action, Drama, History' 'Action, Drama, War'\n",
      " 'Comedy, Family' 'Adventure, Horror, Mystery' 'Action, Sci-Fi'\n",
      " 'Crime, Mystery, Thriller' 'War' 'Sport' 'Biography, Drama, History'\n",
      " 'Horror, Romance' 'Crime, Drama' 'Drama, Romance' 'Adventure, Drama'\n",
      " 'Comedy, Mystery, Thriller' 'Action, Crime, Drama' 'Crime, Thriller'\n",
      " 'Horror, Sci-Fi, Thriller' 'Crime, Drama, Thriller'\n",
      " 'Drama, Mystery, Thriller' 'Drama, Sport' 'Drama, Family, Musical'\n",
      " 'Action, Comedy' 'Comedy, Thriller' 'Action, Adventure, Fantasy'\n",
      " 'Drama, Romance, Thriller' 'Action, Drama' 'Drama, Horror, Musical'\n",
      " 'Action, Biography, Drama' 'Adventure, Comedy, Drama' 'Mystery'\n",
      " 'Action, Fantasy, Mystery' 'Adventure, Drama, Mystery'\n",
      " 'Mystery, Thriller' 'Adventure' 'Drama, Musical, Thriller'\n",
      " 'Comedy, Crime, Drama' 'Musical, Romance' 'Documentary, Music'\n",
      " 'Documentary, History, Music' 'Drama, Fantasy, Mystery'\n",
      " 'Drama, Family, Sport' 'Drama, Thriller' 'Documentary, Biography'\n",
      " 'Action, Adventure, Comedy' 'Romance' 'Comedy, Drama, Music'\n",
      " 'Comedy, Horror, Mystery' 'Musical' 'Musical, Romance, Drama'\n",
      " 'Family, Romance' 'Action, Sci-Fi, Thriller' 'Action, Drama, Romance'\n",
      " 'Mystery, Romance' 'Fantasy' 'Family' 'Drama, Family'\n",
      " 'Action, Comedy, Drama' 'Action, Drama, Thriller'\n",
      " 'Drama, Horror, Thriller' 'Drama, Musical, Romance' 'Comedy, Sci-Fi'\n",
      " 'Action, Romance' 'Action, Crime' 'Action, Drama, Crime'\n",
      " 'Drama, Family, Music' 'Action, Mystery, Thriller'\n",
      " 'Action, Drama, Family' 'Action, Mystery' 'Drama, History, Romance'\n",
      " 'Crime, Drama, Music' 'Sci-Fi' 'Animation' 'Crime, Mystery, Romance'\n",
      " 'Action, Adventure, Romance' 'Music, Romance' 'Action, Comedy, Crime'\n",
      " 'Comedy, Family, Fantasy' 'Romance, Drama' 'Drama, Family, Romance'\n",
      " 'Romance, Drama, Family' 'Musical, Romance, Thriller'\n",
      " 'Family, Musical, Romance' 'Action, Drama, Fantasy' 'Family, Drama'\n",
      " 'Crime, Drama, Romance' 'Musical, Drama, Romance' 'Drama, Music, Musical'\n",
      " 'Drama, Mystery' 'Adventure, Comedy, Romance' 'Crime, Drama, Horror'\n",
      " 'Family, Music, Musical' 'Action, Musical, Thriller'\n",
      " 'Action, Romance, Thriller' 'Romance, Thriller' 'Drama, Music'\n",
      " 'Crime, Drama, Musical' 'Action, Crime, Mystery'\n",
      " 'Action, Adventure, Thriller' 'Comedy, Romance, Sci-Fi' 'Crime'\n",
      " 'Action, Drama, Mystery' 'Action, Comedy, Thriller' 'Biography, Drama'\n",
      " 'Action, Comedy, Fantasy' 'Drama, Family, Horror'\n",
      " 'Action, Adventure, Family' 'Documentary, Biography, Musical'\n",
      " 'Action, Drama, Musical' 'Adventure, Thriller' 'Crime, Mystery'\n",
      " 'Drama, Crime' 'Drama, Fantasy, Romance' 'Comedy, Romance, Thriller'\n",
      " 'Musical, Comedy, Drama' 'Biography, History, War'\n",
      " 'Action, Comedy, Romance' 'Drama, History, Musical'\n",
      " 'Action, Crime, Horror' 'Adventure, Fantasy' 'Adventure, Drama, Fantasy'\n",
      " 'Adventure, Fantasy, Romance' 'Action, Adventure, Drama'\n",
      " 'Action, Adventure' 'Comedy, Crime' 'Crime, Drama, Fantasy'\n",
      " 'Adventure, Drama, Romance' 'History' 'Drama, Fantasy, Thriller'\n",
      " 'Musical, Fantasy' 'Documentary, Thriller' 'Mystery, Romance, Musical'\n",
      " 'Family, Drama, Romance' 'History, Musical, Romance'\n",
      " 'Musical, Drama, Crime' 'Adventure, Crime, Romance'\n",
      " 'Musical, Thriller, Mystery' 'Drama, Comedy' 'Biography, Drama, Romance'\n",
      " 'Biography, Music' 'Biography, Drama, Music' 'Drama, Sci-Fi'\n",
      " 'Drama, Family, Thriller' 'Comedy, Musical, Romance'\n",
      " 'Drama, Family, Comedy' 'Action, Thriller, Romance'\n",
      " 'Animation, Adventure' 'Action, Crime, Musical' 'Action, Crime, Romance'\n",
      " 'Animation, Action, Adventure' 'Action, Drama, Sport' 'Comedy, History'\n",
      " 'Documentary, History' 'Drama, Comedy, Family' 'Action, Adventure, Crime'\n",
      " 'Documentary, Biography, Music' 'Comedy, Musical'\n",
      " 'Biography, Crime, Thriller' 'Adventure, Mystery, Thriller'\n",
      " 'Biography, Drama, Sport' 'Action, Comedy, Musical'\n",
      " 'Mystery, Romance, Thriller' 'Action, Adventure, Musical'\n",
      " 'Crime, Musical, Mystery' 'Action, Thriller, Crime'\n",
      " 'Adventure, Comedy, Crime' 'Comedy, Horror, Musical' 'Adventure, Family'\n",
      " 'Family, Thriller' 'Drama, Action, Crime' 'Drama, War'\n",
      " 'Action, Drama, Adventure' 'Adventure, Fantasy, History'\n",
      " 'Fantasy, Musical' 'Comedy, Drama, Thriller' 'Drama, Fantasy'\n",
      " 'Musical, Drama' 'Action, Drama, Horror' 'Biography, Crime, Drama'\n",
      " 'Action, Drama, Music' 'Adventure, Drama, Family'\n",
      " 'Drama, Romance, Musical' 'Comedy, Musical, Drama'\n",
      " 'Adventure, Comedy, Musical' 'Crime, Drama, Family'\n",
      " 'Thriller, Musical, Mystery' 'Documentary, Adventure, Crime'\n",
      " 'Drama, Action, Horror' 'Adventure, Crime, Drama'\n",
      " 'Documentary, Biography, Sport' 'Crime, Fantasy, Mystery'\n",
      " 'Documentary, Biography, Drama' 'Action, Fantasy, Thriller'\n",
      " 'Adventure, Drama, History' 'Animation, Drama, History'\n",
      " 'Comedy, Horror, Thriller' 'Drama, Family, History' 'Animation, History'\n",
      " 'Biography, Drama, Musical' 'Music' 'Family, Comedy' 'Adventure, Mystery'\n",
      " 'Family, Fantasy' 'Documentary, History, News' 'Drama, Mystery, Romance'\n",
      " 'Comedy, Fantasy' 'Action, Crime, Family' 'Drama, Musical, Mystery'\n",
      " 'Action, Thriller, Mystery' 'Drama, Family, Fantasy' 'Action, Family'\n",
      " 'Action, Adventure, Mystery' 'Horror, Fantasy' 'Comedy, Action'\n",
      " 'Adventure, Romance' 'Drama, Adventure' 'Animation, Drama, Romance'\n",
      " 'Comedy, Crime, Romance' 'Adventure, Comedy' 'Comedy, Drama, Sport'\n",
      " 'Documentary, Crime, History' 'Musical, Mystery, Drama'\n",
      " 'Adventure, Drama, Sci-Fi' 'Action, Romance, Western'\n",
      " 'Comedy, Fantasy, Romance' 'Animation, Action, Comedy'\n",
      " 'Drama, Fantasy, Sci-Fi' 'Drama, Horror' 'Family, Drama, Comedy'\n",
      " 'Action, Adventure, History' 'Comedy, Family, Romance'\n",
      " 'Biography, History' 'Animation, Family' 'Drama, Fantasy, History'\n",
      " 'Animation, Adventure, Fantasy' 'Adventure, Comedy, Family'\n",
      " 'Drama, History, War' 'Animation, Drama, Fantasy'\n",
      " 'Action, Musical, Romance' 'Crime, Action, Drama'\n",
      " 'Comedy, Romance, Musical' 'Fantasy, Drama' 'Musical, Action, Crime'\n",
      " 'Documentary, Drama' 'Action, Horror, Thriller' 'Action, Horror, Sci-Fi'\n",
      " 'Mystery, Sci-Fi, Thriller' 'Biography, Family' 'Drama, Action, Comedy'\n",
      " 'Drama, Music, Romance' 'Action, Biography, Crime'\n",
      " 'Adventure, Drama, Musical' 'Family, Music, Romance'\n",
      " 'Fantasy, Mystery, Romance' 'Drama, Crime, Family'\n",
      " 'Drama, Family, Action' 'Romance, Comedy, Drama'\n",
      " 'Animation, Adventure, Comedy' 'Sci-Fi, Thriller'\n",
      " 'Romance, Family, Drama' 'Action, Family, Thriller'\n",
      " 'Adventure, Crime, Thriller' 'Drama, Romance, Sport'\n",
      " 'Comedy, Crime, Mystery' 'Adventure, Comedy, Mystery' 'Action, Fantasy'\n",
      " 'Comedy, Mystery' 'Animation, Adventure, Family'\n",
      " 'Adventure, Drama, Music' 'Biography, Drama, War'\n",
      " 'Documentary, Comedy, Drama' 'Musical, Drama, Family'\n",
      " 'Animation, Comedy, Drama' 'Fantasy, Musical, Drama'\n",
      " 'Adventure, Crime, Mystery' 'Comedy, Drama, Mystery' 'Documentary, News'\n",
      " 'Drama, Musical, Family' 'Action, Romance, Drama'\n",
      " 'Comedy, Crime, Thriller' 'Action, Musical' 'Action, History'\n",
      " 'Action, Comedy, Mystery' 'Drama, Family, Mystery'\n",
      " 'Adventure, Drama, Thriller' 'Documentary, Reality-TV'\n",
      " 'Action, Fantasy, Horror' 'Drama, History, Thriller'\n",
      " 'Documentary, Family' 'Documentary, Biography, Family' 'Comedy, Sport'\n",
      " 'Animation, Comedy, Family' 'Crime, Romance, Thriller'\n",
      " 'Comedy, Musical, Action' 'Action, Mystery, Sci-Fi'\n",
      " 'Comedy, Crime, Musical' 'Drama, Adventure, Action' 'History, Romance'\n",
      " 'Reality-TV' 'Fantasy, History' 'Family, Drama, Thriller'\n",
      " 'Musical, Mystery, Thriller' 'Musical, Comedy, Romance'\n",
      " 'Musical, Action, Drama' 'Action, Musical, War' 'Romance, Comedy'\n",
      " 'Horror, Crime, Thriller' 'Crime, Drama, History' 'Comedy, Drama, Horror'\n",
      " 'Crime, Horror, Thriller' 'Animation, Comedy' 'Romance, Action, Crime'\n",
      " 'Musical, Thriller' 'Action, Romance, Comedy' 'Comedy, Family, Musical'\n",
      " 'Horror, Drama, Mystery' 'Thriller, Mystery, Family'\n",
      " 'Comedy, Drama, Sci-Fi' 'Documentary, Adventure'\n",
      " 'Documentary, Biography, Crime' 'Musical, Action' 'Musical, Mystery'\n",
      " 'Action, Crime, Sci-Fi' 'Action, Horror, Mystery' 'Fantasy, Horror'\n",
      " 'Adventure, Family, Fantasy' 'Fantasy, Sci-Fi' 'Comedy, War'\n",
      " 'Romance, Action, Drama' 'Musical, Family, Romance'\n",
      " 'Romance, Drama, Action' 'Family, Comedy, Drama' 'Comedy, Music, Romance'\n",
      " 'Comedy, Family, Sci-Fi' 'Action, Drama, Western'\n",
      " 'Adventure, Romance, Thriller' 'Biography, Comedy, Drama'\n",
      " 'Action, Mystery, Romance' 'Romance, Sport' 'Crime, Romance'\n",
      " 'Action, Thriller, Western' 'Crime, Musical, Romance'\n",
      " 'Romance, Thriller, Mystery' 'Drama, Crime, Mystery'\n",
      " 'Biography, Drama, Family' 'Action, Family, Mystery'\n",
      " 'Comedy, Mystery, Romance' 'Drama, Thriller, Action' 'Documentary, Short'\n",
      " 'Documentary, Western' 'Musical, Family, Drama' 'Action, Family, Musical'\n",
      " 'Animation, Family, Musical' 'Drama, Fantasy, Horror'\n",
      " 'Action, Adventure, Sci-Fi' 'Drama, Action, Musical'\n",
      " 'Drama, Musical, Sport' 'Action, Comedy, Horror'\n",
      " 'Drama, Fantasy, Musical' 'Action, Fantasy, Musical' 'Animation, Action'\n",
      " 'Comedy, Music' 'Documentary, Drama, Romance' 'Drama, Music, Thriller'\n",
      " 'Fantasy, Musical, Mystery' 'Drama, Fantasy, War' 'Action, War'\n",
      " 'Action, Adventure, War' 'Horror, Musical' 'Fantasy, Mystery, Thriller'\n",
      " 'Adventure, Biography, Drama' 'Family, Romance, Sci-Fi'\n",
      " 'Drama, Romance, Family' 'Animation, Adventure, Drama'\n",
      " 'Family, Romance, Drama' 'Animation, Action, Sci-Fi'\n",
      " 'Adventure, Comedy, Fantasy' 'Comedy, Crime, Family'\n",
      " 'Horror, Musical, Thriller' 'Biography, Drama, Thriller' 'Drama, Western'\n",
      " 'Romance, Sci-Fi, Thriller' 'Comedy, Musical, Family'\n",
      " 'Comedy, Horror, Romance' 'Thriller, Action' 'Fantasy, Thriller, Action'\n",
      " 'Fantasy, Romance' 'Action, Drama, Comedy' 'Family, Fantasy, Romance'\n",
      " 'Comedy, Crime, Horror' 'Horror, Mystery, Sci-Fi'\n",
      " 'Animation, Action, Drama' 'Family, Mystery'\n",
      " 'Adventure, Biography, History' 'Fantasy, Horror, Mystery'\n",
      " 'Family, Musical' 'Drama, Family, Adventure' 'Crime, Horror, Mystery'\n",
      " 'Documentary, Drama, Fantasy' 'Action, Adventure, Biography'\n",
      " 'Biography, History, Thriller' 'Action, Family, Drama'\n",
      " 'Documentary, Drama, Sport' 'Thriller, Mystery' 'Musical, Drama, Comedy'\n",
      " 'Documentary, History, War' 'Adventure, Horror, Thriller'\n",
      " 'Action, Adventure, Horror' 'Action, Crime, War'\n",
      " 'Adventure, Musical, Romance' 'Action, Fantasy, Sci-Fi'\n",
      " 'Drama, Comedy, Action' 'Documentary, Sport'\n",
      " 'Documentary, Adventure, Music' 'Drama, Action, Family'\n",
      " 'Adventure, History, Thriller' 'Adventure, Horror, Romance'\n",
      " 'Adventure, Crime, Horror' 'Mystery, Musical, Romance'\n",
      " 'Action, Crime, History' 'Documentary, Musical'\n",
      " 'Adventure, Fantasy, Musical' 'Documentary, Family, History'\n",
      " 'Documentary, Drama, Family' 'Drama, Mystery, Sci-Fi'\n",
      " 'Animation, Drama, Musical' 'Drama, History, Mystery'\n",
      " 'Drama, Sport, Thriller' 'Action, Crime, Fantasy'\n",
      " 'Comedy, Musical, Mystery' 'Romance, Musical, Action'\n",
      " 'Musical, Drama, Fantasy' 'Animation, Family, History'\n",
      " 'Action, Drama, News' 'Romance, Musical, Comedy'\n",
      " 'Adventure, Fantasy, Horror' 'Adventure, History'\n",
      " 'Comedy, Drama, History' 'Mystery, Sci-Fi' 'Action, Thriller, War'\n",
      " 'Documentary, Drama, News' 'Documentary, Crime, Mystery'\n",
      " 'Adventure, Horror' 'Animation, Drama, Adventure'\n",
      " 'Crime, Horror, Romance' 'Documentary, Adventure, Drama'\n",
      " 'Documentary, Biography, History' 'Fantasy, Horror, Romance'\n",
      " 'Comedy, Fantasy, Musical' 'Crime, Musical, Thriller' 'Documentary, War'\n",
      " 'Action, Comedy, War' 'Crime, Drama, Sport' 'Musical, Adventure, Drama'\n",
      " 'Horror, Romance, Sci-Fi' 'Musical, Mystery, Romance'\n",
      " 'Romance, Musical, Drama' 'Adventure, Fantasy, Sci-Fi']\n"
     ]
    },
    {
     "name": "stdout",
     "output_type": "stream",
     "text": [
      "[ 6.   7.   4.4  4.7  7.4  5.6  4.   6.2  5.9  6.5  5.7  6.3  7.2  6.6\n",
      "  7.3  7.1  6.9  3.5  5.   4.5  6.4  4.1  4.8  8.1  5.5  6.8  6.1  7.7\n",
      "  5.1  7.6  3.1  3.3  7.8  8.4  5.2  4.3  5.8  4.6  7.5  6.7  3.6  3.9\n",
      "  5.4  4.2  5.3  3.4  3.   8.   3.8  7.9  2.7  4.9  2.4  3.7  3.2  2.5\n",
      "  2.8  2.6  2.9  8.2  8.7  8.3  9.3  8.8  2.1  2.3  8.5  8.6  9.   9.6\n",
      "  1.7  9.1  2.   1.4  8.9  1.9  9.4  9.7  1.8  9.2  1.6 10.   2.2  1.1]\n",
      "['8' '35' '827' ... '70,344' '408' '1,496']\n",
      "['J.S. Randhawa' 'Gaurav Bakshi' 'Soumyajit Majumdar' ... 'Mozez Singh'\n",
      " 'Ved Prakash' 'Kiran Thej']\n",
      "['Manmauji' 'Rasika Dugal' 'Sayani Gupta' ... 'Meghan Jadhav'\n",
      " 'Roohi Berde' 'Sangeeta Tiwari']\n"
     ]
    }
   ],
   "source": [
    "import time\n",
    "for i in df.columns:\n",
    "    print(df[i].unique())\n",
    "    time.sleep(2)"
   ]
  },
  {
   "cell_type": "code",
   "execution_count": 29,
   "id": "f026fd76",
   "metadata": {},
   "outputs": [
    {
     "data": {
      "text/plain": [
       "<Axes: ylabel='Rating'>"
      ]
     },
     "execution_count": 29,
     "metadata": {},
     "output_type": "execute_result"
    },
    {
     "data": {
      "image/png": "[encoded data removed]",
      "text/plain": [
       "<Figure size 640x480 with 1 Axes>"
      ]
     },
     "metadata": {},
     "output_type": "display_data"
    }
   ],
   "source": [
    "sns.boxplot(data = df,y = \"Rating\")"
   ]
  },
  {
   "cell_type": "markdown",
   "id": "ec5dca95",
   "metadata": {},
   "source": [
    "## Data cleaning"
   ]
  },
  {
   "cell_type": "code",
   "execution_count": 30,
   "id": "4993a854",
   "metadata": {},
   "outputs": [
    {
     "data": {
      "text/html": [
       "<div>\n",
       "<style scoped>\n",
       "    .dataframe tbody tr th:only-of-type {\n",
       "        vertical-align: middle;\n",
       "    }\n",
       "\n",
       "    .dataframe tbody tr th {\n",
       "        vertical-align: top;\n",
       "    }\n",
       "\n",
       "    .dataframe thead th {\n",
       "        text-align: right;\n",
       "    }\n",
       "</style>\n",
       "<table border=\"1\" class=\"dataframe\">\n",
       "  <thead>\n",
       "    <tr style=\"text-align: right;\">\n",
       "      <th></th>\n",
       "      <th>Year</th>\n",
       "      <th>Duration</th>\n",
       "      <th>Genre</th>\n",
       "      <th>Rating</th>\n",
       "      <th>Votes</th>\n",
       "      <th>Director</th>\n",
       "      <th>Actor 1</th>\n",
       "    </tr>\n",
       "  </thead>\n",
       "  <tbody>\n",
       "    <tr>\n",
       "      <th>0</th>\n",
       "      <td>2019</td>\n",
       "      <td>120 min</td>\n",
       "      <td>Drama</td>\n",
       "      <td>6.0</td>\n",
       "      <td>8</td>\n",
       "      <td>J.S. Randhawa</td>\n",
       "      <td>Manmauji</td>\n",
       "    </tr>\n",
       "    <tr>\n",
       "      <th>1</th>\n",
       "      <td>2019</td>\n",
       "      <td>109 min</td>\n",
       "      <td>Drama</td>\n",
       "      <td>7.0</td>\n",
       "      <td>8</td>\n",
       "      <td>Gaurav Bakshi</td>\n",
       "      <td>Rasika Dugal</td>\n",
       "    </tr>\n",
       "    <tr>\n",
       "      <th>2</th>\n",
       "      <td>2021</td>\n",
       "      <td>90 min</td>\n",
       "      <td>Drama, Musical</td>\n",
       "      <td>6.0</td>\n",
       "      <td>8</td>\n",
       "      <td>Soumyajit Majumdar</td>\n",
       "      <td>Sayani Gupta</td>\n",
       "    </tr>\n",
       "    <tr>\n",
       "      <th>3</th>\n",
       "      <td>2019</td>\n",
       "      <td>110 min</td>\n",
       "      <td>Comedy, Romance</td>\n",
       "      <td>4.4</td>\n",
       "      <td>35</td>\n",
       "      <td>Ovais Khan</td>\n",
       "      <td>Prateik</td>\n",
       "    </tr>\n",
       "    <tr>\n",
       "      <th>4</th>\n",
       "      <td>2010</td>\n",
       "      <td>105 min</td>\n",
       "      <td>Drama</td>\n",
       "      <td>6.0</td>\n",
       "      <td>8</td>\n",
       "      <td>Amol Palekar</td>\n",
       "      <td>Rajat Kapoor</td>\n",
       "    </tr>\n",
       "  </tbody>\n",
       "</table>\n",
       "</div>"
      ],
      "text/plain": [
       "   Year Duration            Genre  Rating Votes            Director  \\\n",
       "0  2019  120 min            Drama     6.0     8       J.S. Randhawa   \n",
       "1  2019  109 min            Drama     7.0     8       Gaurav Bakshi   \n",
       "2  2021   90 min   Drama, Musical     6.0     8  Soumyajit Majumdar   \n",
       "3  2019  110 min  Comedy, Romance     4.4    35          Ovais Khan   \n",
       "4  2010  105 min            Drama     6.0     8        Amol Palekar   \n",
       "\n",
       "        Actor 1  \n",
       "0      Manmauji  \n",
       "1  Rasika Dugal  \n",
       "2  Sayani Gupta  \n",
       "3       Prateik  \n",
       "4  Rajat Kapoor  "
      ]
     },
     "execution_count": 30,
     "metadata": {},
     "output_type": "execute_result"
    }
   ],
   "source": [
    "df.head()"
   ]
  },
  {
   "cell_type": "code",
   "execution_count": 31,
   "id": "8b7618e7",
   "metadata": {},
   "outputs": [
    {
     "data": {
      "text/plain": [
       "array(['120 min', '109 min', '90 min', '110 min', '105 min', '147 min',\n",
       "       '142 min', '59 min', '82 min', '116 min', '96 min', '161 min',\n",
       "       '166 min', '102 min', '87 min', '132 min', '66 min', '146 min',\n",
       "       '112 min', '168 min', '158 min', '126 min', '94 min', '138 min',\n",
       "       '124 min', '144 min', '157 min', '136 min', '107 min', '113 min',\n",
       "       '80 min', '122 min', '149 min', '148 min', '130 min', '121 min',\n",
       "       '188 min', '115 min', '103 min', '114 min', '170 min', '100 min',\n",
       "       '99 min', '140 min', '128 min', '93 min', '125 min', '145 min',\n",
       "       '75 min', '111 min', '134 min', '85 min', '104 min', '92 min',\n",
       "       '137 min', '127 min', '150 min', '119 min', '135 min', '86 min',\n",
       "       '76 min', '70 min', '72 min', '151 min', '95 min', '52 min',\n",
       "       '89 min', '143 min', '177 min', '117 min', '123 min', '154 min',\n",
       "       '88 min', '175 min', '153 min', '78 min', '139 min', '133 min',\n",
       "       '101 min', '180 min', '60 min', '46 min', '164 min', '162 min',\n",
       "       '171 min', '160 min', '152 min', '62 min', '163 min', '165 min',\n",
       "       '141 min', '210 min', '129 min', '156 min', '240 min', '172 min',\n",
       "       '155 min', '118 min', '167 min', '106 min', '193 min', '57 min',\n",
       "       '108 min', '45 min', '195 min', '174 min', '81 min', '178 min',\n",
       "       '58 min', '184 min', '97 min', '98 min', '131 min', '176 min',\n",
       "       '169 min', '77 min', '91 min', '84 min', '173 min', '74 min',\n",
       "       '67 min', '181 min', '300 min', '79 min', '65 min', '48 min',\n",
       "       '183 min', '159 min', '83 min', '68 min', '49 min', '201 min',\n",
       "       '64 min', '186 min', '50 min', '69 min', '207 min', '55 min',\n",
       "       '61 min', '185 min', '187 min', '216 min', '63 min', '54 min',\n",
       "       '198 min', '51 min', '71 min', '73 min', '218 min', '191 min',\n",
       "       '321 min', '199 min', '53 min', '56 min', '179 min', '47 min',\n",
       "       '206 min', '190 min', '211 min', '247 min', '213 min', '223 min',\n",
       "       '2 min', '189 min', '224 min', '202 min', '255 min', '197 min',\n",
       "       '182 min', '214 min', '208 min', '21 min', '200 min', '192 min',\n",
       "       '37 min', '261 min', '238 min', '204 min', '235 min', '298 min',\n",
       "       '217 min', '250 min'], dtype=object)"
      ]
     },
     "execution_count": 31,
     "metadata": {},
     "output_type": "execute_result"
    }
   ],
   "source": [
    "df['Duration'].unique()"
   ]
  },
  {
   "cell_type": "code",
   "execution_count": 32,
   "id": "c6edc580",
   "metadata": {},
   "outputs": [],
   "source": [
    "def year(value):\n",
    "    value = str(value).strip(\"()\")\n",
    "    return int(value)\n",
    "df['Year'] = df['Year'].apply(year)"
   ]
  },
  {
   "cell_type": "code",
   "execution_count": 33,
   "id": "f0804fb3",
   "metadata": {},
   "outputs": [
    {
     "data": {
      "text/plain": [
       "array([2019, 2021, 2010, 1997, 2005, 2008, 2012, 2014, 2004, 2016, 1991,\n",
       "       1990, 2018, 1987, 1948, 1958, 2017, 2020, 2009, 2002, 1993, 1946,\n",
       "       1994, 2007, 2013, 2003, 1998, 1979, 1951, 1956, 1974, 2015, 2006,\n",
       "       1981, 1985, 2011, 2001, 1967, 1988, 1995, 1959, 1996, 1970, 1976,\n",
       "       2000, 1999, 1973, 1968, 1943, 1953, 1986, 1983, 1989, 1982, 1977,\n",
       "       1957, 1950, 1992, 1969, 1975, 1947, 1972, 1971, 1935, 1978, 1960,\n",
       "       1944, 1963, 1940, 1984, 1934, 1955, 1936, 1980, 1966, 1949, 1962,\n",
       "       1964, 1952, 1933, 1942, 1939, 1954, 1945, 1961, 1965, 1938, 1941,\n",
       "       1931, 1937, 2022, 1932, 1923, 1915, 1928, 1922, 1917, 1913, 1930,\n",
       "       1926, 1914, 1924], dtype=int64)"
      ]
     },
     "execution_count": 33,
     "metadata": {},
     "output_type": "execute_result"
    }
   ],
   "source": [
    "df['Year'].unique()"
   ]
  },
  {
   "cell_type": "code",
   "execution_count": 34,
   "id": "45a05995",
   "metadata": {},
   "outputs": [],
   "source": [
    "def col(value):\n",
    "    value = str(value).split(' ')\n",
    "    value =  value[0]\n",
    "    return int(value)\n",
    "df['Duration'] = df['Duration'].apply(col)"
   ]
  },
  {
   "cell_type": "code",
   "execution_count": 35,
   "id": "4921c06d",
   "metadata": {},
   "outputs": [
    {
     "data": {
      "text/plain": [
       "array([120, 109,  90, 110, 105, 147, 142,  59,  82, 116,  96, 161, 166,\n",
       "       102,  87, 132,  66, 146, 112, 168, 158, 126,  94, 138, 124, 144,\n",
       "       157, 136, 107, 113,  80, 122, 149, 148, 130, 121, 188, 115, 103,\n",
       "       114, 170, 100,  99, 140, 128,  93, 125, 145,  75, 111, 134,  85,\n",
       "       104,  92, 137, 127, 150, 119, 135,  86,  76,  70,  72, 151,  95,\n",
       "        52,  89, 143, 177, 117, 123, 154,  88, 175, 153,  78, 139, 133,\n",
       "       101, 180,  60,  46, 164, 162, 171, 160, 152,  62, 163, 165, 141,\n",
       "       210, 129, 156, 240, 172, 155, 118, 167, 106, 193,  57, 108,  45,\n",
       "       195, 174,  81, 178,  58, 184,  97,  98, 131, 176, 169,  77,  91,\n",
       "        84, 173,  74,  67, 181, 300,  79,  65,  48, 183, 159,  83,  68,\n",
       "        49, 201,  64, 186,  50,  69, 207,  55,  61, 185, 187, 216,  63,\n",
       "        54, 198,  51,  71,  73, 218, 191, 321, 199,  53,  56, 179,  47,\n",
       "       206, 190, 211, 247, 213, 223,   2, 189, 224, 202, 255, 197, 182,\n",
       "       214, 208,  21, 200, 192,  37, 261, 238, 204, 235, 298, 217, 250],\n",
       "      dtype=int64)"
      ]
     },
     "execution_count": 35,
     "metadata": {},
     "output_type": "execute_result"
    }
   ],
   "source": [
    "df['Duration'].unique()"
   ]
  },
  {
   "cell_type": "code",
   "execution_count": 36,
   "id": "f1db8826",
   "metadata": {},
   "outputs": [
    {
     "data": {
      "text/plain": [
       "array(['Drama', 'Drama, Musical', 'Comedy, Romance',\n",
       "       'Comedy, Drama, Musical', 'Drama, Romance, War', 'Documentary',\n",
       "       'Horror, Mystery, Thriller', 'Action, Crime, Thriller', 'Horror',\n",
       "       'Horror, Romance, Thriller', 'Comedy, Drama, Romance', 'Thriller',\n",
       "       'Comedy, Drama', 'Comedy, Drama, Fantasy', 'Comedy, Drama, Family',\n",
       "       'Crime, Drama, Mystery', 'Horror, Thriller', 'Biography',\n",
       "       'Comedy, Horror', 'Action', 'Drama, Horror, Mystery', 'Comedy',\n",
       "       'Action, Thriller', 'Drama, History', 'Drama, History, Sport',\n",
       "       'Horror, Mystery, Romance', 'Horror, Mystery',\n",
       "       'Drama, Horror, Romance', 'Action, Drama, History',\n",
       "       'Action, Drama, War', 'Comedy, Family',\n",
       "       'Adventure, Horror, Mystery', 'Action, Sci-Fi',\n",
       "       'Crime, Mystery, Thriller', 'War', 'Sport',\n",
       "       'Biography, Drama, History', 'Horror, Romance', 'Crime, Drama',\n",
       "       'Drama, Romance', 'Adventure, Drama', 'Comedy, Mystery, Thriller',\n",
       "       'Action, Crime, Drama', 'Crime, Thriller',\n",
       "       'Horror, Sci-Fi, Thriller', 'Crime, Drama, Thriller',\n",
       "       'Drama, Mystery, Thriller', 'Drama, Sport',\n",
       "       'Drama, Family, Musical', 'Action, Comedy', 'Comedy, Thriller',\n",
       "       'Action, Adventure, Fantasy', 'Drama, Romance, Thriller',\n",
       "       'Action, Drama', 'Drama, Horror, Musical',\n",
       "       'Action, Biography, Drama', 'Adventure, Comedy, Drama', 'Mystery',\n",
       "       'Action, Fantasy, Mystery', 'Adventure, Drama, Mystery',\n",
       "       'Mystery, Thriller', 'Adventure', 'Drama, Musical, Thriller',\n",
       "       'Comedy, Crime, Drama', 'Musical, Romance', 'Documentary, Music',\n",
       "       'Documentary, History, Music', 'Drama, Fantasy, Mystery',\n",
       "       'Drama, Family, Sport', 'Drama, Thriller',\n",
       "       'Documentary, Biography', 'Action, Adventure, Comedy', 'Romance',\n",
       "       'Comedy, Drama, Music', 'Comedy, Horror, Mystery', 'Musical',\n",
       "       'Musical, Romance, Drama', 'Family, Romance',\n",
       "       'Action, Sci-Fi, Thriller', 'Action, Drama, Romance',\n",
       "       'Mystery, Romance', 'Fantasy', 'Family', 'Drama, Family',\n",
       "       'Action, Comedy, Drama', 'Action, Drama, Thriller',\n",
       "       'Drama, Horror, Thriller', 'Drama, Musical, Romance',\n",
       "       'Comedy, Sci-Fi', 'Action, Romance', 'Action, Crime',\n",
       "       'Action, Drama, Crime', 'Drama, Family, Music',\n",
       "       'Action, Mystery, Thriller', 'Action, Drama, Family',\n",
       "       'Action, Mystery', 'Drama, History, Romance',\n",
       "       'Crime, Drama, Music', 'Sci-Fi', 'Animation',\n",
       "       'Crime, Mystery, Romance', 'Action, Adventure, Romance',\n",
       "       'Music, Romance', 'Action, Comedy, Crime',\n",
       "       'Comedy, Family, Fantasy', 'Romance, Drama',\n",
       "       'Drama, Family, Romance', 'Romance, Drama, Family',\n",
       "       'Musical, Romance, Thriller', 'Family, Musical, Romance',\n",
       "       'Action, Drama, Fantasy', 'Family, Drama', 'Crime, Drama, Romance',\n",
       "       'Musical, Drama, Romance', 'Drama, Music, Musical',\n",
       "       'Drama, Mystery', 'Adventure, Comedy, Romance',\n",
       "       'Crime, Drama, Horror', 'Family, Music, Musical',\n",
       "       'Action, Musical, Thriller', 'Action, Romance, Thriller',\n",
       "       'Romance, Thriller', 'Drama, Music', 'Crime, Drama, Musical',\n",
       "       'Action, Crime, Mystery', 'Action, Adventure, Thriller',\n",
       "       'Comedy, Romance, Sci-Fi', 'Crime', 'Action, Drama, Mystery',\n",
       "       'Action, Comedy, Thriller', 'Biography, Drama',\n",
       "       'Action, Comedy, Fantasy', 'Drama, Family, Horror',\n",
       "       'Action, Adventure, Family', 'Documentary, Biography, Musical',\n",
       "       'Action, Drama, Musical', 'Adventure, Thriller', 'Crime, Mystery',\n",
       "       'Drama, Crime', 'Drama, Fantasy, Romance',\n",
       "       'Comedy, Romance, Thriller', 'Musical, Comedy, Drama',\n",
       "       'Biography, History, War', 'Action, Comedy, Romance',\n",
       "       'Drama, History, Musical', 'Action, Crime, Horror',\n",
       "       'Adventure, Fantasy', 'Adventure, Drama, Fantasy',\n",
       "       'Adventure, Fantasy, Romance', 'Action, Adventure, Drama',\n",
       "       'Action, Adventure', 'Comedy, Crime', 'Crime, Drama, Fantasy',\n",
       "       'Adventure, Drama, Romance', 'History', 'Drama, Fantasy, Thriller',\n",
       "       'Musical, Fantasy', 'Documentary, Thriller',\n",
       "       'Mystery, Romance, Musical', 'Family, Drama, Romance',\n",
       "       'History, Musical, Romance', 'Musical, Drama, Crime',\n",
       "       'Adventure, Crime, Romance', 'Musical, Thriller, Mystery',\n",
       "       'Drama, Comedy', 'Biography, Drama, Romance', 'Biography, Music',\n",
       "       'Biography, Drama, Music', 'Drama, Sci-Fi',\n",
       "       'Drama, Family, Thriller', 'Comedy, Musical, Romance',\n",
       "       'Drama, Family, Comedy', 'Action, Thriller, Romance',\n",
       "       'Animation, Adventure', 'Action, Crime, Musical',\n",
       "       'Action, Crime, Romance', 'Animation, Action, Adventure',\n",
       "       'Action, Drama, Sport', 'Comedy, History', 'Documentary, History',\n",
       "       'Drama, Comedy, Family', 'Action, Adventure, Crime',\n",
       "       'Documentary, Biography, Music', 'Comedy, Musical',\n",
       "       'Biography, Crime, Thriller', 'Adventure, Mystery, Thriller',\n",
       "       'Biography, Drama, Sport', 'Action, Comedy, Musical',\n",
       "       'Mystery, Romance, Thriller', 'Action, Adventure, Musical',\n",
       "       'Crime, Musical, Mystery', 'Action, Thriller, Crime',\n",
       "       'Adventure, Comedy, Crime', 'Comedy, Horror, Musical',\n",
       "       'Adventure, Family', 'Family, Thriller', 'Drama, Action, Crime',\n",
       "       'Drama, War', 'Action, Drama, Adventure',\n",
       "       'Adventure, Fantasy, History', 'Fantasy, Musical',\n",
       "       'Comedy, Drama, Thriller', 'Drama, Fantasy', 'Musical, Drama',\n",
       "       'Action, Drama, Horror', 'Biography, Crime, Drama',\n",
       "       'Action, Drama, Music', 'Adventure, Drama, Family',\n",
       "       'Drama, Romance, Musical', 'Comedy, Musical, Drama',\n",
       "       'Adventure, Comedy, Musical', 'Crime, Drama, Family',\n",
       "       'Thriller, Musical, Mystery', 'Documentary, Adventure, Crime',\n",
       "       'Drama, Action, Horror', 'Adventure, Crime, Drama',\n",
       "       'Documentary, Biography, Sport', 'Crime, Fantasy, Mystery',\n",
       "       'Documentary, Biography, Drama', 'Action, Fantasy, Thriller',\n",
       "       'Adventure, Drama, History', 'Animation, Drama, History',\n",
       "       'Comedy, Horror, Thriller', 'Drama, Family, History',\n",
       "       'Animation, History', 'Biography, Drama, Musical', 'Music',\n",
       "       'Family, Comedy', 'Adventure, Mystery', 'Family, Fantasy',\n",
       "       'Documentary, History, News', 'Drama, Mystery, Romance',\n",
       "       'Comedy, Fantasy', 'Action, Crime, Family',\n",
       "       'Drama, Musical, Mystery', 'Action, Thriller, Mystery',\n",
       "       'Drama, Family, Fantasy', 'Action, Family',\n",
       "       'Action, Adventure, Mystery', 'Horror, Fantasy', 'Comedy, Action',\n",
       "       'Adventure, Romance', 'Drama, Adventure',\n",
       "       'Animation, Drama, Romance', 'Comedy, Crime, Romance',\n",
       "       'Adventure, Comedy', 'Comedy, Drama, Sport',\n",
       "       'Documentary, Crime, History', 'Musical, Mystery, Drama',\n",
       "       'Adventure, Drama, Sci-Fi', 'Action, Romance, Western',\n",
       "       'Comedy, Fantasy, Romance', 'Animation, Action, Comedy',\n",
       "       'Drama, Fantasy, Sci-Fi', 'Drama, Horror', 'Family, Drama, Comedy',\n",
       "       'Action, Adventure, History', 'Comedy, Family, Romance',\n",
       "       'Biography, History', 'Animation, Family',\n",
       "       'Drama, Fantasy, History', 'Animation, Adventure, Fantasy',\n",
       "       'Adventure, Comedy, Family', 'Drama, History, War',\n",
       "       'Animation, Drama, Fantasy', 'Action, Musical, Romance',\n",
       "       'Crime, Action, Drama', 'Comedy, Romance, Musical',\n",
       "       'Fantasy, Drama', 'Musical, Action, Crime', 'Documentary, Drama',\n",
       "       'Action, Horror, Thriller', 'Action, Horror, Sci-Fi',\n",
       "       'Mystery, Sci-Fi, Thriller', 'Biography, Family',\n",
       "       'Drama, Action, Comedy', 'Drama, Music, Romance',\n",
       "       'Action, Biography, Crime', 'Adventure, Drama, Musical',\n",
       "       'Family, Music, Romance', 'Fantasy, Mystery, Romance',\n",
       "       'Drama, Crime, Family', 'Drama, Family, Action',\n",
       "       'Romance, Comedy, Drama', 'Animation, Adventure, Comedy',\n",
       "       'Sci-Fi, Thriller', 'Romance, Family, Drama',\n",
       "       'Action, Family, Thriller', 'Adventure, Crime, Thriller',\n",
       "       'Drama, Romance, Sport', 'Comedy, Crime, Mystery',\n",
       "       'Adventure, Comedy, Mystery', 'Action, Fantasy', 'Comedy, Mystery',\n",
       "       'Animation, Adventure, Family', 'Adventure, Drama, Music',\n",
       "       'Biography, Drama, War', 'Documentary, Comedy, Drama',\n",
       "       'Musical, Drama, Family', 'Animation, Comedy, Drama',\n",
       "       'Fantasy, Musical, Drama', 'Adventure, Crime, Mystery',\n",
       "       'Comedy, Drama, Mystery', 'Documentary, News',\n",
       "       'Drama, Musical, Family', 'Action, Romance, Drama',\n",
       "       'Comedy, Crime, Thriller', 'Action, Musical', 'Action, History',\n",
       "       'Action, Comedy, Mystery', 'Drama, Family, Mystery',\n",
       "       'Adventure, Drama, Thriller', 'Documentary, Reality-TV',\n",
       "       'Action, Fantasy, Horror', 'Drama, History, Thriller',\n",
       "       'Documentary, Family', 'Documentary, Biography, Family',\n",
       "       'Comedy, Sport', 'Animation, Comedy, Family',\n",
       "       'Crime, Romance, Thriller', 'Comedy, Musical, Action',\n",
       "       'Action, Mystery, Sci-Fi', 'Comedy, Crime, Musical',\n",
       "       'Drama, Adventure, Action', 'History, Romance', 'Reality-TV',\n",
       "       'Fantasy, History', 'Family, Drama, Thriller',\n",
       "       'Musical, Mystery, Thriller', 'Musical, Comedy, Romance',\n",
       "       'Musical, Action, Drama', 'Action, Musical, War',\n",
       "       'Romance, Comedy', 'Horror, Crime, Thriller',\n",
       "       'Crime, Drama, History', 'Comedy, Drama, Horror',\n",
       "       'Crime, Horror, Thriller', 'Animation, Comedy',\n",
       "       'Romance, Action, Crime', 'Musical, Thriller',\n",
       "       'Action, Romance, Comedy', 'Comedy, Family, Musical',\n",
       "       'Horror, Drama, Mystery', 'Thriller, Mystery, Family',\n",
       "       'Comedy, Drama, Sci-Fi', 'Documentary, Adventure',\n",
       "       'Documentary, Biography, Crime', 'Musical, Action',\n",
       "       'Musical, Mystery', 'Action, Crime, Sci-Fi',\n",
       "       'Action, Horror, Mystery', 'Fantasy, Horror',\n",
       "       'Adventure, Family, Fantasy', 'Fantasy, Sci-Fi', 'Comedy, War',\n",
       "       'Romance, Action, Drama', 'Musical, Family, Romance',\n",
       "       'Romance, Drama, Action', 'Family, Comedy, Drama',\n",
       "       'Comedy, Music, Romance', 'Comedy, Family, Sci-Fi',\n",
       "       'Action, Drama, Western', 'Adventure, Romance, Thriller',\n",
       "       'Biography, Comedy, Drama', 'Action, Mystery, Romance',\n",
       "       'Romance, Sport', 'Crime, Romance', 'Action, Thriller, Western',\n",
       "       'Crime, Musical, Romance', 'Romance, Thriller, Mystery',\n",
       "       'Drama, Crime, Mystery', 'Biography, Drama, Family',\n",
       "       'Action, Family, Mystery', 'Comedy, Mystery, Romance',\n",
       "       'Drama, Thriller, Action', 'Documentary, Short',\n",
       "       'Documentary, Western', 'Musical, Family, Drama',\n",
       "       'Action, Family, Musical', 'Animation, Family, Musical',\n",
       "       'Drama, Fantasy, Horror', 'Action, Adventure, Sci-Fi',\n",
       "       'Drama, Action, Musical', 'Drama, Musical, Sport',\n",
       "       'Action, Comedy, Horror', 'Drama, Fantasy, Musical',\n",
       "       'Action, Fantasy, Musical', 'Animation, Action', 'Comedy, Music',\n",
       "       'Documentary, Drama, Romance', 'Drama, Music, Thriller',\n",
       "       'Fantasy, Musical, Mystery', 'Drama, Fantasy, War', 'Action, War',\n",
       "       'Action, Adventure, War', 'Horror, Musical',\n",
       "       'Fantasy, Mystery, Thriller', 'Adventure, Biography, Drama',\n",
       "       'Family, Romance, Sci-Fi', 'Drama, Romance, Family',\n",
       "       'Animation, Adventure, Drama', 'Family, Romance, Drama',\n",
       "       'Animation, Action, Sci-Fi', 'Adventure, Comedy, Fantasy',\n",
       "       'Comedy, Crime, Family', 'Horror, Musical, Thriller',\n",
       "       'Biography, Drama, Thriller', 'Drama, Western',\n",
       "       'Romance, Sci-Fi, Thriller', 'Comedy, Musical, Family',\n",
       "       'Comedy, Horror, Romance', 'Thriller, Action',\n",
       "       'Fantasy, Thriller, Action', 'Fantasy, Romance',\n",
       "       'Action, Drama, Comedy', 'Family, Fantasy, Romance',\n",
       "       'Comedy, Crime, Horror', 'Horror, Mystery, Sci-Fi',\n",
       "       'Animation, Action, Drama', 'Family, Mystery',\n",
       "       'Adventure, Biography, History', 'Fantasy, Horror, Mystery',\n",
       "       'Family, Musical', 'Drama, Family, Adventure',\n",
       "       'Crime, Horror, Mystery', 'Documentary, Drama, Fantasy',\n",
       "       'Action, Adventure, Biography', 'Biography, History, Thriller',\n",
       "       'Action, Family, Drama', 'Documentary, Drama, Sport',\n",
       "       'Thriller, Mystery', 'Musical, Drama, Comedy',\n",
       "       'Documentary, History, War', 'Adventure, Horror, Thriller',\n",
       "       'Action, Adventure, Horror', 'Action, Crime, War',\n",
       "       'Adventure, Musical, Romance', 'Action, Fantasy, Sci-Fi',\n",
       "       'Drama, Comedy, Action', 'Documentary, Sport',\n",
       "       'Documentary, Adventure, Music', 'Drama, Action, Family',\n",
       "       'Adventure, History, Thriller', 'Adventure, Horror, Romance',\n",
       "       'Adventure, Crime, Horror', 'Mystery, Musical, Romance',\n",
       "       'Action, Crime, History', 'Documentary, Musical',\n",
       "       'Adventure, Fantasy, Musical', 'Documentary, Family, History',\n",
       "       'Documentary, Drama, Family', 'Drama, Mystery, Sci-Fi',\n",
       "       'Animation, Drama, Musical', 'Drama, History, Mystery',\n",
       "       'Drama, Sport, Thriller', 'Action, Crime, Fantasy',\n",
       "       'Comedy, Musical, Mystery', 'Romance, Musical, Action',\n",
       "       'Musical, Drama, Fantasy', 'Animation, Family, History',\n",
       "       'Action, Drama, News', 'Romance, Musical, Comedy',\n",
       "       'Adventure, Fantasy, Horror', 'Adventure, History',\n",
       "       'Comedy, Drama, History', 'Mystery, Sci-Fi',\n",
       "       'Action, Thriller, War', 'Documentary, Drama, News',\n",
       "       'Documentary, Crime, Mystery', 'Adventure, Horror',\n",
       "       'Animation, Drama, Adventure', 'Crime, Horror, Romance',\n",
       "       'Documentary, Adventure, Drama', 'Documentary, Biography, History',\n",
       "       'Fantasy, Horror, Romance', 'Comedy, Fantasy, Musical',\n",
       "       'Crime, Musical, Thriller', 'Documentary, War',\n",
       "       'Action, Comedy, War', 'Crime, Drama, Sport',\n",
       "       'Musical, Adventure, Drama', 'Horror, Romance, Sci-Fi',\n",
       "       'Musical, Mystery, Romance', 'Romance, Musical, Drama',\n",
       "       'Adventure, Fantasy, Sci-Fi'], dtype=object)"
      ]
     },
     "execution_count": 36,
     "metadata": {},
     "output_type": "execute_result"
    }
   ],
   "source": [
    "df['Genre'].unique()"
   ]
  },
  {
   "cell_type": "code",
   "execution_count": 37,
   "id": "3d79789d",
   "metadata": {},
   "outputs": [],
   "source": [
    "def split_data(df,Genre):\n",
    "    df['Genre_1'] = df[Genre].str.split(',',expand=True)[0]\n",
    "    df['Genre_2'] = df[Genre].str.split(',',expand = True)[1]\n",
    "    df['Genre_3'] = df[Genre].str.split(',',expand = True)[2]\n",
    "split_data(df,\"Genre\")"
   ]
  },
  {
   "cell_type": "code",
   "execution_count": 38,
   "id": "4a68ab22",
   "metadata": {},
   "outputs": [],
   "source": [
    "df.drop(columns=\"Genre\",inplace=True)"
   ]
  },
  {
   "cell_type": "code",
   "execution_count": 39,
   "id": "b8a8410b",
   "metadata": {},
   "outputs": [
    {
     "data": {
      "text/html": [
       "<div>\n",
       "<style scoped>\n",
       "    .dataframe tbody tr th:only-of-type {\n",
       "        vertical-align: middle;\n",
       "    }\n",
       "\n",
       "    .dataframe tbody tr th {\n",
       "        vertical-align: top;\n",
       "    }\n",
       "\n",
       "    .dataframe thead th {\n",
       "        text-align: right;\n",
       "    }\n",
       "</style>\n",
       "<table border=\"1\" class=\"dataframe\">\n",
       "  <thead>\n",
       "    <tr style=\"text-align: right;\">\n",
       "      <th></th>\n",
       "      <th>Year</th>\n",
       "      <th>Duration</th>\n",
       "      <th>Rating</th>\n",
       "      <th>Votes</th>\n",
       "      <th>Director</th>\n",
       "      <th>Actor 1</th>\n",
       "      <th>Genre_1</th>\n",
       "      <th>Genre_2</th>\n",
       "      <th>Genre_3</th>\n",
       "    </tr>\n",
       "  </thead>\n",
       "  <tbody>\n",
       "    <tr>\n",
       "      <th>0</th>\n",
       "      <td>2019</td>\n",
       "      <td>120</td>\n",
       "      <td>6.0</td>\n",
       "      <td>8</td>\n",
       "      <td>J.S. Randhawa</td>\n",
       "      <td>Manmauji</td>\n",
       "      <td>Drama</td>\n",
       "      <td>None</td>\n",
       "      <td>None</td>\n",
       "    </tr>\n",
       "    <tr>\n",
       "      <th>1</th>\n",
       "      <td>2019</td>\n",
       "      <td>109</td>\n",
       "      <td>7.0</td>\n",
       "      <td>8</td>\n",
       "      <td>Gaurav Bakshi</td>\n",
       "      <td>Rasika Dugal</td>\n",
       "      <td>Drama</td>\n",
       "      <td>None</td>\n",
       "      <td>None</td>\n",
       "    </tr>\n",
       "    <tr>\n",
       "      <th>2</th>\n",
       "      <td>2021</td>\n",
       "      <td>90</td>\n",
       "      <td>6.0</td>\n",
       "      <td>8</td>\n",
       "      <td>Soumyajit Majumdar</td>\n",
       "      <td>Sayani Gupta</td>\n",
       "      <td>Drama</td>\n",
       "      <td>Musical</td>\n",
       "      <td>None</td>\n",
       "    </tr>\n",
       "    <tr>\n",
       "      <th>3</th>\n",
       "      <td>2019</td>\n",
       "      <td>110</td>\n",
       "      <td>4.4</td>\n",
       "      <td>35</td>\n",
       "      <td>Ovais Khan</td>\n",
       "      <td>Prateik</td>\n",
       "      <td>Comedy</td>\n",
       "      <td>Romance</td>\n",
       "      <td>None</td>\n",
       "    </tr>\n",
       "    <tr>\n",
       "      <th>4</th>\n",
       "      <td>2010</td>\n",
       "      <td>105</td>\n",
       "      <td>6.0</td>\n",
       "      <td>8</td>\n",
       "      <td>Amol Palekar</td>\n",
       "      <td>Rajat Kapoor</td>\n",
       "      <td>Drama</td>\n",
       "      <td>None</td>\n",
       "      <td>None</td>\n",
       "    </tr>\n",
       "  </tbody>\n",
       "</table>\n",
       "</div>"
      ],
      "text/plain": [
       "   Year  Duration  Rating Votes            Director       Actor 1 Genre_1  \\\n",
       "0  2019       120     6.0     8       J.S. Randhawa      Manmauji   Drama   \n",
       "1  2019       109     7.0     8       Gaurav Bakshi  Rasika Dugal   Drama   \n",
       "2  2021        90     6.0     8  Soumyajit Majumdar  Sayani Gupta   Drama   \n",
       "3  2019       110     4.4    35          Ovais Khan       Prateik  Comedy   \n",
       "4  2010       105     6.0     8        Amol Palekar  Rajat Kapoor   Drama   \n",
       "\n",
       "    Genre_2 Genre_3  \n",
       "0      None    None  \n",
       "1      None    None  \n",
       "2   Musical    None  \n",
       "3   Romance    None  \n",
       "4      None    None  "
      ]
     },
     "execution_count": 39,
     "metadata": {},
     "output_type": "execute_result"
    }
   ],
   "source": [
    "df.head()"
   ]
  },
  {
   "cell_type": "code",
   "execution_count": 40,
   "id": "4ab3d550",
   "metadata": {},
   "outputs": [
    {
     "data": {
      "text/plain": [
       "Year            0\n",
       "Duration        0\n",
       "Rating          0\n",
       "Votes           0\n",
       "Director        0\n",
       "Actor 1         0\n",
       "Genre_1         0\n",
       "Genre_2      8874\n",
       "Genre_3     11835\n",
       "dtype: int64"
      ]
     },
     "execution_count": 40,
     "metadata": {},
     "output_type": "execute_result"
    }
   ],
   "source": [
    "df.isna().sum()"
   ]
  },
  {
   "cell_type": "code",
   "execution_count": 41,
   "id": "4e533f8d",
   "metadata": {},
   "outputs": [
    {
     "data": {
      "text/plain": [
       "' Drama'"
      ]
     },
     "execution_count": 41,
     "metadata": {},
     "output_type": "execute_result"
    }
   ],
   "source": [
    "df['Genre_2'].mode()[0]"
   ]
  },
  {
   "cell_type": "code",
   "execution_count": 42,
   "id": "49f1ed70",
   "metadata": {},
   "outputs": [],
   "source": [
    "df['Genre_2'] = df['Genre_2'].fillna(df['Genre_2'].mode()[0])"
   ]
  },
  {
   "cell_type": "code",
   "execution_count": 43,
   "id": "7272908e",
   "metadata": {},
   "outputs": [],
   "source": [
    "def fun(value):\n",
    "    value = str(value).lstrip()\n",
    "    return value\n",
    "df['Genre_2'] = df['Genre_2'].apply(fun)"
   ]
  },
  {
   "cell_type": "code",
   "execution_count": 44,
   "id": "b49134c6",
   "metadata": {},
   "outputs": [
    {
     "data": {
      "text/plain": [
       "array(['Drama', 'Musical', 'Romance', 'Mystery', 'Crime', 'Thriller',\n",
       "       'Horror', 'History', 'Family', 'Sci-Fi', 'Sport', 'Comedy',\n",
       "       'Adventure', 'Biography', 'Fantasy', 'Music', 'Action', 'War',\n",
       "       'News', 'Reality-TV', 'Short', 'Western'], dtype=object)"
      ]
     },
     "execution_count": 44,
     "metadata": {},
     "output_type": "execute_result"
    }
   ],
   "source": [
    "df['Genre_2'].unique()"
   ]
  },
  {
   "cell_type": "code",
   "execution_count": 45,
   "id": "c5808897",
   "metadata": {},
   "outputs": [
    {
     "data": {
      "text/plain": [
       "' Drama'"
      ]
     },
     "execution_count": 45,
     "metadata": {},
     "output_type": "execute_result"
    }
   ],
   "source": [
    "df['Genre_3'].mode()[0]"
   ]
  },
  {
   "cell_type": "code",
   "execution_count": 46,
   "id": "5e429c19",
   "metadata": {},
   "outputs": [],
   "source": [
    "df['Genre_3'] = df['Genre_3'].fillna(df['Genre_3'].mode()[0])"
   ]
  },
  {
   "cell_type": "code",
   "execution_count": 47,
   "id": "665a5d99",
   "metadata": {},
   "outputs": [],
   "source": [
    "df['Genre_3'] = df['Genre_3'].apply(fun)"
   ]
  },
  {
   "cell_type": "code",
   "execution_count": 48,
   "id": "080fec86",
   "metadata": {},
   "outputs": [
    {
     "data": {
      "text/plain": [
       "array(['Drama', 'Musical', 'War', 'Thriller', 'Romance', 'Fantasy',\n",
       "       'Family', 'Mystery', 'Sport', 'History', 'Music', 'Comedy',\n",
       "       'Crime', 'Horror', 'Sci-Fi', 'Adventure', 'News', 'Western',\n",
       "       'Action', 'Biography'], dtype=object)"
      ]
     },
     "execution_count": 48,
     "metadata": {},
     "output_type": "execute_result"
    }
   ],
   "source": [
    "df['Genre_3'].unique()"
   ]
  },
  {
   "cell_type": "code",
   "execution_count": 49,
   "id": "52184de9",
   "metadata": {},
   "outputs": [
    {
     "data": {
      "text/html": [
       "<div>\n",
       "<style scoped>\n",
       "    .dataframe tbody tr th:only-of-type {\n",
       "        vertical-align: middle;\n",
       "    }\n",
       "\n",
       "    .dataframe tbody tr th {\n",
       "        vertical-align: top;\n",
       "    }\n",
       "\n",
       "    .dataframe thead th {\n",
       "        text-align: right;\n",
       "    }\n",
       "</style>\n",
       "<table border=\"1\" class=\"dataframe\">\n",
       "  <thead>\n",
       "    <tr style=\"text-align: right;\">\n",
       "      <th></th>\n",
       "      <th>Year</th>\n",
       "      <th>Duration</th>\n",
       "      <th>Rating</th>\n",
       "      <th>Votes</th>\n",
       "      <th>Director</th>\n",
       "      <th>Actor 1</th>\n",
       "      <th>Genre_1</th>\n",
       "      <th>Genre_2</th>\n",
       "      <th>Genre_3</th>\n",
       "    </tr>\n",
       "  </thead>\n",
       "  <tbody>\n",
       "    <tr>\n",
       "      <th>0</th>\n",
       "      <td>2019</td>\n",
       "      <td>120</td>\n",
       "      <td>6.0</td>\n",
       "      <td>8</td>\n",
       "      <td>J.S. Randhawa</td>\n",
       "      <td>Manmauji</td>\n",
       "      <td>Drama</td>\n",
       "      <td>Drama</td>\n",
       "      <td>Drama</td>\n",
       "    </tr>\n",
       "    <tr>\n",
       "      <th>1</th>\n",
       "      <td>2019</td>\n",
       "      <td>109</td>\n",
       "      <td>7.0</td>\n",
       "      <td>8</td>\n",
       "      <td>Gaurav Bakshi</td>\n",
       "      <td>Rasika Dugal</td>\n",
       "      <td>Drama</td>\n",
       "      <td>Drama</td>\n",
       "      <td>Drama</td>\n",
       "    </tr>\n",
       "    <tr>\n",
       "      <th>2</th>\n",
       "      <td>2021</td>\n",
       "      <td>90</td>\n",
       "      <td>6.0</td>\n",
       "      <td>8</td>\n",
       "      <td>Soumyajit Majumdar</td>\n",
       "      <td>Sayani Gupta</td>\n",
       "      <td>Drama</td>\n",
       "      <td>Musical</td>\n",
       "      <td>Drama</td>\n",
       "    </tr>\n",
       "    <tr>\n",
       "      <th>3</th>\n",
       "      <td>2019</td>\n",
       "      <td>110</td>\n",
       "      <td>4.4</td>\n",
       "      <td>35</td>\n",
       "      <td>Ovais Khan</td>\n",
       "      <td>Prateik</td>\n",
       "      <td>Comedy</td>\n",
       "      <td>Romance</td>\n",
       "      <td>Drama</td>\n",
       "    </tr>\n",
       "    <tr>\n",
       "      <th>4</th>\n",
       "      <td>2010</td>\n",
       "      <td>105</td>\n",
       "      <td>6.0</td>\n",
       "      <td>8</td>\n",
       "      <td>Amol Palekar</td>\n",
       "      <td>Rajat Kapoor</td>\n",
       "      <td>Drama</td>\n",
       "      <td>Drama</td>\n",
       "      <td>Drama</td>\n",
       "    </tr>\n",
       "  </tbody>\n",
       "</table>\n",
       "</div>"
      ],
      "text/plain": [
       "   Year  Duration  Rating Votes            Director       Actor 1 Genre_1  \\\n",
       "0  2019       120     6.0     8       J.S. Randhawa      Manmauji   Drama   \n",
       "1  2019       109     7.0     8       Gaurav Bakshi  Rasika Dugal   Drama   \n",
       "2  2021        90     6.0     8  Soumyajit Majumdar  Sayani Gupta   Drama   \n",
       "3  2019       110     4.4    35          Ovais Khan       Prateik  Comedy   \n",
       "4  2010       105     6.0     8        Amol Palekar  Rajat Kapoor   Drama   \n",
       "\n",
       "   Genre_2 Genre_3  \n",
       "0    Drama   Drama  \n",
       "1    Drama   Drama  \n",
       "2  Musical   Drama  \n",
       "3  Romance   Drama  \n",
       "4    Drama   Drama  "
      ]
     },
     "execution_count": 49,
     "metadata": {},
     "output_type": "execute_result"
    }
   ],
   "source": [
    "df.head()"
   ]
  },
  {
   "cell_type": "code",
   "execution_count": 50,
   "id": "b61d2eac",
   "metadata": {},
   "outputs": [
    {
     "data": {
      "text/html": [
       "<div>\n",
       "<style scoped>\n",
       "    .dataframe tbody tr th:only-of-type {\n",
       "        vertical-align: middle;\n",
       "    }\n",
       "\n",
       "    .dataframe tbody tr th {\n",
       "        vertical-align: top;\n",
       "    }\n",
       "\n",
       "    .dataframe thead th {\n",
       "        text-align: right;\n",
       "    }\n",
       "</style>\n",
       "<table border=\"1\" class=\"dataframe\">\n",
       "  <thead>\n",
       "    <tr style=\"text-align: right;\">\n",
       "      <th></th>\n",
       "      <th>Year</th>\n",
       "      <th>Duration</th>\n",
       "      <th>Rating</th>\n",
       "      <th>Votes</th>\n",
       "      <th>Director</th>\n",
       "      <th>Actor 1</th>\n",
       "      <th>Genre_1</th>\n",
       "      <th>Genre_2</th>\n",
       "      <th>Genre_3</th>\n",
       "    </tr>\n",
       "  </thead>\n",
       "  <tbody>\n",
       "    <tr>\n",
       "      <th>9265</th>\n",
       "      <td>2006</td>\n",
       "      <td>120</td>\n",
       "      <td>6.0</td>\n",
       "      <td>$5.16M</td>\n",
       "      <td>Raman Bharadwaj</td>\n",
       "      <td>Kim Sharma</td>\n",
       "      <td>Comedy</td>\n",
       "      <td>Drama</td>\n",
       "      <td>Drama</td>\n",
       "    </tr>\n",
       "  </tbody>\n",
       "</table>\n",
       "</div>"
      ],
      "text/plain": [
       "      Year  Duration  Rating   Votes         Director     Actor 1 Genre_1  \\\n",
       "9265  2006       120     6.0  $5.16M  Raman Bharadwaj  Kim Sharma  Comedy   \n",
       "\n",
       "     Genre_2 Genre_3  \n",
       "9265   Drama   Drama  "
      ]
     },
     "execution_count": 50,
     "metadata": {},
     "output_type": "execute_result"
    }
   ],
   "source": [
    "df[df['Votes']== '$5.16M']"
   ]
  },
  {
   "cell_type": "code",
   "execution_count": 51,
   "id": "fe401ef5",
   "metadata": {},
   "outputs": [],
   "source": [
    "df['Votes'] = df['Votes'].replace('$5.16M','8')"
   ]
  },
  {
   "cell_type": "code",
   "execution_count": 52,
   "id": "bf8f93fd",
   "metadata": {},
   "outputs": [],
   "source": [
    "def votes(value):\n",
    "    value = str(value).replace(',','')\n",
    "    return int(value)\n",
    "df['Votes'] = df['Votes'].apply(votes)"
   ]
  },
  {
   "cell_type": "code",
   "execution_count": 53,
   "id": "449eeaf7",
   "metadata": {},
   "outputs": [
    {
     "data": {
      "text/plain": [
       "array([    8,    35,   827, ..., 70344,   408,  1496], dtype=int64)"
      ]
     },
     "execution_count": 53,
     "metadata": {},
     "output_type": "execute_result"
    }
   ],
   "source": [
    "df[\"Votes\"].unique()"
   ]
  },
  {
   "cell_type": "code",
   "execution_count": 54,
   "id": "001f563e",
   "metadata": {},
   "outputs": [
    {
     "data": {
      "text/html": [
       "<div>\n",
       "<style scoped>\n",
       "    .dataframe tbody tr th:only-of-type {\n",
       "        vertical-align: middle;\n",
       "    }\n",
       "\n",
       "    .dataframe tbody tr th {\n",
       "        vertical-align: top;\n",
       "    }\n",
       "\n",
       "    .dataframe thead th {\n",
       "        text-align: right;\n",
       "    }\n",
       "</style>\n",
       "<table border=\"1\" class=\"dataframe\">\n",
       "  <thead>\n",
       "    <tr style=\"text-align: right;\">\n",
       "      <th></th>\n",
       "      <th>Year</th>\n",
       "      <th>Duration</th>\n",
       "      <th>Rating</th>\n",
       "      <th>Votes</th>\n",
       "      <th>Director</th>\n",
       "      <th>Actor 1</th>\n",
       "      <th>Genre_1</th>\n",
       "      <th>Genre_2</th>\n",
       "      <th>Genre_3</th>\n",
       "    </tr>\n",
       "  </thead>\n",
       "  <tbody>\n",
       "    <tr>\n",
       "      <th>0</th>\n",
       "      <td>2019</td>\n",
       "      <td>120</td>\n",
       "      <td>6.0</td>\n",
       "      <td>8</td>\n",
       "      <td>J.S. Randhawa</td>\n",
       "      <td>Manmauji</td>\n",
       "      <td>Drama</td>\n",
       "      <td>Drama</td>\n",
       "      <td>Drama</td>\n",
       "    </tr>\n",
       "    <tr>\n",
       "      <th>1</th>\n",
       "      <td>2019</td>\n",
       "      <td>109</td>\n",
       "      <td>7.0</td>\n",
       "      <td>8</td>\n",
       "      <td>Gaurav Bakshi</td>\n",
       "      <td>Rasika Dugal</td>\n",
       "      <td>Drama</td>\n",
       "      <td>Drama</td>\n",
       "      <td>Drama</td>\n",
       "    </tr>\n",
       "    <tr>\n",
       "      <th>2</th>\n",
       "      <td>2021</td>\n",
       "      <td>90</td>\n",
       "      <td>6.0</td>\n",
       "      <td>8</td>\n",
       "      <td>Soumyajit Majumdar</td>\n",
       "      <td>Sayani Gupta</td>\n",
       "      <td>Drama</td>\n",
       "      <td>Musical</td>\n",
       "      <td>Drama</td>\n",
       "    </tr>\n",
       "    <tr>\n",
       "      <th>3</th>\n",
       "      <td>2019</td>\n",
       "      <td>110</td>\n",
       "      <td>4.4</td>\n",
       "      <td>35</td>\n",
       "      <td>Ovais Khan</td>\n",
       "      <td>Prateik</td>\n",
       "      <td>Comedy</td>\n",
       "      <td>Romance</td>\n",
       "      <td>Drama</td>\n",
       "    </tr>\n",
       "    <tr>\n",
       "      <th>4</th>\n",
       "      <td>2010</td>\n",
       "      <td>105</td>\n",
       "      <td>6.0</td>\n",
       "      <td>8</td>\n",
       "      <td>Amol Palekar</td>\n",
       "      <td>Rajat Kapoor</td>\n",
       "      <td>Drama</td>\n",
       "      <td>Drama</td>\n",
       "      <td>Drama</td>\n",
       "    </tr>\n",
       "  </tbody>\n",
       "</table>\n",
       "</div>"
      ],
      "text/plain": [
       "   Year  Duration  Rating  Votes            Director       Actor 1 Genre_1  \\\n",
       "0  2019       120     6.0      8       J.S. Randhawa      Manmauji   Drama   \n",
       "1  2019       109     7.0      8       Gaurav Bakshi  Rasika Dugal   Drama   \n",
       "2  2021        90     6.0      8  Soumyajit Majumdar  Sayani Gupta   Drama   \n",
       "3  2019       110     4.4     35          Ovais Khan       Prateik  Comedy   \n",
       "4  2010       105     6.0      8        Amol Palekar  Rajat Kapoor   Drama   \n",
       "\n",
       "   Genre_2 Genre_3  \n",
       "0    Drama   Drama  \n",
       "1    Drama   Drama  \n",
       "2  Musical   Drama  \n",
       "3  Romance   Drama  \n",
       "4    Drama   Drama  "
      ]
     },
     "execution_count": 54,
     "metadata": {},
     "output_type": "execute_result"
    }
   ],
   "source": [
    "df.head()"
   ]
  },
  {
   "cell_type": "markdown",
   "id": "44921fa8",
   "metadata": {},
   "source": [
    "## Data Visualization"
   ]
  },
  {
   "cell_type": "markdown",
   "id": "b33e1804",
   "metadata": {},
   "source": [
    "**These are Top 10 Directors**"
   ]
  },
  {
   "cell_type": "code",
   "execution_count": 55,
   "id": "5bffa30e",
   "metadata": {},
   "outputs": [
    {
     "name": "stdout",
     "output_type": "stream",
     "text": [
      "Director\n",
      "Jayant Desai            243\n",
      "Kanti Shah               56\n",
      "Babubhai Mistry          50\n",
      "Mahesh Bhatt             48\n",
      "Nanabhai Bhatt           46\n",
      "Dhirubhai Desai          46\n",
      "B.R. Ishara              44\n",
      "Mohammed Hussain         44\n",
      "David Dhawan             44\n",
      "Hrishikesh Mukherjee     42\n",
      "Name: count, dtype: int64\n"
     ]
    }
   ],
   "source": [
    "Top_dir = df['Director'].value_counts()[0:10]\n",
    "print(Top_dir)"
   ]
  },
  {
   "cell_type": "code",
   "execution_count": null,
   "id": "ab238415",
   "metadata": {},
   "outputs": [],
   "source": []
  },
  {
   "cell_type": "code",
   "execution_count": 56,
   "id": "9ddabb92",
   "metadata": {},
   "outputs": [
    {
     "data": {
      "text/plain": [
       "<Axes: xlabel='Director', ylabel='count'>"
      ]
     },
     "execution_count": 56,
     "metadata": {},
     "output_type": "execute_result"
    },
    {
     "data": {
      "image/png": "[encoded data removed]",
      "text/plain": [
       "<Figure size 1500x800 with 1 Axes>"
      ]
     },
     "metadata": {},
     "output_type": "display_data"
    }
   ],
   "source": [
    "plt.figure(figsize=(15,8))\n",
    "sns.barplot(data = Top_dir)"
   ]
  },
  {
   "cell_type": "code",
   "execution_count": 57,
   "id": "f2b29ea6",
   "metadata": {},
   "outputs": [
    {
     "data": {
      "text/plain": [
       "dtype('int64')"
      ]
     },
     "execution_count": 57,
     "metadata": {},
     "output_type": "execute_result"
    }
   ],
   "source": [
    "df['Duration'].dtype"
   ]
  },
  {
   "cell_type": "code",
   "execution_count": 58,
   "id": "70cbcac2",
   "metadata": {},
   "outputs": [
    {
     "data": {
      "text/plain": [
       "Text(0.5, 1.0, 'Duration of Movie')"
      ]
     },
     "execution_count": 58,
     "metadata": {},
     "output_type": "execute_result"
    },
    {
     "data": {
      "image/png": "[encoded data removed]",
      "text/plain": [
       "<Figure size 640x480 with 1 Axes>"
      ]
     },
     "metadata": {},
     "output_type": "display_data"
    }
   ],
   "source": [
    "sns.histplot(data = df,x = \"Duration\",bins=20)\n",
    "plt.title(\"Duration of Movie\")"
   ]
  },
  {
   "cell_type": "code",
   "execution_count": 59,
   "id": "d7db4d13",
   "metadata": {},
   "outputs": [
    {
     "data": {
      "text/plain": [
       "dtype('float64')"
      ]
     },
     "execution_count": 59,
     "metadata": {},
     "output_type": "execute_result"
    }
   ],
   "source": [
    "df['Rating'].dtype"
   ]
  },
  {
   "cell_type": "code",
   "execution_count": 60,
   "id": "70464cff",
   "metadata": {},
   "outputs": [
    {
     "data": {
      "text/plain": [
       "<Axes: xlabel='Rating', ylabel='Density'>"
      ]
     },
     "execution_count": 60,
     "metadata": {},
     "output_type": "execute_result"
    },
    {
     "data": {
      "image/png": "[encoded data removed]",
      "text/plain": [
       "<Figure size 640x480 with 1 Axes>"
      ]
     },
     "metadata": {},
     "output_type": "display_data"
    }
   ],
   "source": [
    "sns.kdeplot(data = df,x = \"Rating\")"
   ]
  },
  {
   "cell_type": "code",
   "execution_count": 61,
   "id": "53c61676",
   "metadata": {},
   "outputs": [
    {
     "data": {
      "text/plain": [
       "dtype('int64')"
      ]
     },
     "execution_count": 61,
     "metadata": {},
     "output_type": "execute_result"
    }
   ],
   "source": [
    "df['Votes'].dtype"
   ]
  },
  {
   "cell_type": "code",
   "execution_count": 62,
   "id": "42cb0912",
   "metadata": {},
   "outputs": [
    {
     "data": {
      "text/plain": [
       "<Axes: xlabel='Votes', ylabel='Count'>"
      ]
     },
     "execution_count": 62,
     "metadata": {},
     "output_type": "execute_result"
    },
    {
     "data": {
      "image/png": "[encoded data removed]",
      "text/plain": [
       "<Figure size 640x480 with 1 Axes>"
      ]
     },
     "metadata": {},
     "output_type": "display_data"
    }
   ],
   "source": [
    "sns.histplot(data = df,x = \"Votes\",bins=20)"
   ]
  },
  {
   "cell_type": "markdown",
   "id": "f73ccbb2",
   "metadata": {},
   "source": [
    "### Top 10 Actors"
   ]
  },
  {
   "cell_type": "code",
   "execution_count": 63,
   "id": "83a0fe4c",
   "metadata": {},
   "outputs": [
    {
     "name": "stdout",
     "output_type": "stream",
     "text": [
      "Actor 1\n",
      "Ashok Kumar           1378\n",
      "Jeetendra              140\n",
      "Dharmendra             140\n",
      "Mithun Chakraborty     133\n",
      "Amitabh Bachchan       129\n",
      "Rajesh Khanna          122\n",
      "Dev Anand               93\n",
      "Shashi Kapoor           91\n",
      "Akshay Kumar            88\n",
      "Sanjeev Kumar           83\n",
      "Name: count, dtype: int64\n"
     ]
    }
   ],
   "source": [
    "Top_act = df['Actor 1'].value_counts()[0:10]\n",
    "print(Top_act)"
   ]
  },
  {
   "cell_type": "code",
   "execution_count": 64,
   "id": "208bfc2c",
   "metadata": {
    "scrolled": false
   },
   "outputs": [
    {
     "data": {
      "text/plain": [
       "<Axes: xlabel='Actor 1', ylabel='count'>"
      ]
     },
     "execution_count": 64,
     "metadata": {},
     "output_type": "execute_result"
    },
    {
     "data": {
      "image/png": "[encoded data removed]",
      "text/plain": [
       "<Figure size 1800x800 with 1 Axes>"
      ]
     },
     "metadata": {},
     "output_type": "display_data"
    }
   ],
   "source": [
    "plt.figure(figsize=(18,8))\n",
    "sns.barplot(data = Top_act)"
   ]
  },
  {
   "cell_type": "markdown",
   "id": "cf4caa86",
   "metadata": {},
   "source": [
    "## Year wise Top 5 count"
   ]
  },
  {
   "cell_type": "code",
   "execution_count": 65,
   "id": "1fe4bf2e",
   "metadata": {},
   "outputs": [
    {
     "name": "stdout",
     "output_type": "stream",
     "text": [
      "Year\n",
      "2019    910\n",
      "2021    392\n",
      "2018    381\n",
      "2017    360\n",
      "2020    320\n",
      "Name: count, dtype: int64\n"
     ]
    }
   ],
   "source": [
    "Top_count = df['Year'].value_counts()[0:5]\n",
    "print(Top_count)"
   ]
  },
  {
   "cell_type": "code",
   "execution_count": 68,
   "id": "ef2757cf",
   "metadata": {},
   "outputs": [
    {
     "data": {
      "text/plain": [
       "Index(['Year', 'Duration', 'Rating', 'Votes', 'Director', 'Actor 1', 'Genre_1',\n",
       "       'Genre_2', 'Genre_3'],\n",
       "      dtype='object')"
      ]
     },
     "execution_count": 68,
     "metadata": {},
     "output_type": "execute_result"
    }
   ],
   "source": [
    "df.columns"
   ]
  },
  {
   "cell_type": "code",
   "execution_count": 79,
   "id": "75c6fa5b",
   "metadata": {},
   "outputs": [],
   "source": [
    "df['Director_rating']= round(df.groupby('Director')['Rating'].transform('mean'), 1)"
   ]
  },
  {
   "cell_type": "code",
   "execution_count": 81,
   "id": "68eb40ea",
   "metadata": {},
   "outputs": [],
   "source": [
    "df.drop(columns=\"Dir_rating\",inplace=True)"
   ]
  },
  {
   "cell_type": "code",
   "execution_count": 86,
   "id": "c1210f34",
   "metadata": {},
   "outputs": [
    {
     "data": {
      "text/html": [
       "<div>\n",
       "<style scoped>\n",
       "    .dataframe tbody tr th:only-of-type {\n",
       "        vertical-align: middle;\n",
       "    }\n",
       "\n",
       "    .dataframe tbody tr th {\n",
       "        vertical-align: top;\n",
       "    }\n",
       "\n",
       "    .dataframe thead th {\n",
       "        text-align: right;\n",
       "    }\n",
       "</style>\n",
       "<table border=\"1\" class=\"dataframe\">\n",
       "  <thead>\n",
       "    <tr style=\"text-align: right;\">\n",
       "      <th></th>\n",
       "      <th>Year</th>\n",
       "      <th>Duration</th>\n",
       "      <th>Rating</th>\n",
       "      <th>Votes</th>\n",
       "      <th>Director</th>\n",
       "      <th>Actor 1</th>\n",
       "      <th>Genre_1</th>\n",
       "      <th>Genre_2</th>\n",
       "      <th>Genre_3</th>\n",
       "      <th>Director_rating</th>\n",
       "      <th>Actor_rating</th>\n",
       "    </tr>\n",
       "  </thead>\n",
       "  <tbody>\n",
       "    <tr>\n",
       "      <th>0</th>\n",
       "      <td>2019</td>\n",
       "      <td>120</td>\n",
       "      <td>6.0</td>\n",
       "      <td>8</td>\n",
       "      <td>J.S. Randhawa</td>\n",
       "      <td>Manmauji</td>\n",
       "      <td>Drama</td>\n",
       "      <td>Drama</td>\n",
       "      <td>Drama</td>\n",
       "      <td>5.8</td>\n",
       "      <td>6.0</td>\n",
       "    </tr>\n",
       "    <tr>\n",
       "      <th>1</th>\n",
       "      <td>2019</td>\n",
       "      <td>109</td>\n",
       "      <td>7.0</td>\n",
       "      <td>8</td>\n",
       "      <td>Gaurav Bakshi</td>\n",
       "      <td>Rasika Dugal</td>\n",
       "      <td>Drama</td>\n",
       "      <td>Drama</td>\n",
       "      <td>Drama</td>\n",
       "      <td>7.0</td>\n",
       "      <td>6.8</td>\n",
       "    </tr>\n",
       "    <tr>\n",
       "      <th>2</th>\n",
       "      <td>2021</td>\n",
       "      <td>90</td>\n",
       "      <td>6.0</td>\n",
       "      <td>8</td>\n",
       "      <td>Soumyajit Majumdar</td>\n",
       "      <td>Sayani Gupta</td>\n",
       "      <td>Drama</td>\n",
       "      <td>Musical</td>\n",
       "      <td>Drama</td>\n",
       "      <td>6.0</td>\n",
       "      <td>6.3</td>\n",
       "    </tr>\n",
       "    <tr>\n",
       "      <th>3</th>\n",
       "      <td>2019</td>\n",
       "      <td>110</td>\n",
       "      <td>4.4</td>\n",
       "      <td>35</td>\n",
       "      <td>Ovais Khan</td>\n",
       "      <td>Prateik</td>\n",
       "      <td>Comedy</td>\n",
       "      <td>Romance</td>\n",
       "      <td>Drama</td>\n",
       "      <td>4.4</td>\n",
       "      <td>5.4</td>\n",
       "    </tr>\n",
       "    <tr>\n",
       "      <th>4</th>\n",
       "      <td>2010</td>\n",
       "      <td>105</td>\n",
       "      <td>6.0</td>\n",
       "      <td>8</td>\n",
       "      <td>Amol Palekar</td>\n",
       "      <td>Rajat Kapoor</td>\n",
       "      <td>Drama</td>\n",
       "      <td>Drama</td>\n",
       "      <td>Drama</td>\n",
       "      <td>6.3</td>\n",
       "      <td>6.8</td>\n",
       "    </tr>\n",
       "  </tbody>\n",
       "</table>\n",
       "</div>"
      ],
      "text/plain": [
       "   Year  Duration  Rating  Votes            Director       Actor 1 Genre_1  \\\n",
       "0  2019       120     6.0      8       J.S. Randhawa      Manmauji   Drama   \n",
       "1  2019       109     7.0      8       Gaurav Bakshi  Rasika Dugal   Drama   \n",
       "2  2021        90     6.0      8  Soumyajit Majumdar  Sayani Gupta   Drama   \n",
       "3  2019       110     4.4     35          Ovais Khan       Prateik  Comedy   \n",
       "4  2010       105     6.0      8        Amol Palekar  Rajat Kapoor   Drama   \n",
       "\n",
       "   Genre_2 Genre_3  Director_rating  Actor_rating  \n",
       "0    Drama   Drama              5.8           6.0  \n",
       "1    Drama   Drama              7.0           6.8  \n",
       "2  Musical   Drama              6.0           6.3  \n",
       "3  Romance   Drama              4.4           5.4  \n",
       "4    Drama   Drama              6.3           6.8  "
      ]
     },
     "execution_count": 86,
     "metadata": {},
     "output_type": "execute_result"
    }
   ],
   "source": [
    "df.head()"
   ]
  },
  {
   "cell_type": "code",
   "execution_count": 85,
   "id": "776f4b50",
   "metadata": {},
   "outputs": [],
   "source": [
    "df[\"Actor_rating\"] = round(df.groupby(by = \"Actor 1\")['Rating'].transform(\"mean\"),1)"
   ]
  },
  {
   "cell_type": "code",
   "execution_count": 93,
   "id": "25bac39f",
   "metadata": {},
   "outputs": [],
   "source": [
    "df[\"Genre1_rating\"] = round(df.groupby(by = \"Genre_1\")['Rating'].transform('mean'),1)"
   ]
  },
  {
   "cell_type": "code",
   "execution_count": 94,
   "id": "a747244f",
   "metadata": {},
   "outputs": [],
   "source": [
    "df[\"Genre2_rating\"] = round(df.groupby(by = \"Genre_2\")['Rating'].transform('mean'),1)"
   ]
  },
  {
   "cell_type": "code",
   "execution_count": 95,
   "id": "7a33faf6",
   "metadata": {},
   "outputs": [],
   "source": [
    "df[\"Genre3_rating\"] = round(df.groupby(by = \"Genre_3\")['Rating'].transform('mean'),1)"
   ]
  },
  {
   "cell_type": "code",
   "execution_count": 96,
   "id": "fb4fe90c",
   "metadata": {},
   "outputs": [
    {
     "data": {
      "text/html": [
       "<div>\n",
       "<style scoped>\n",
       "    .dataframe tbody tr th:only-of-type {\n",
       "        vertical-align: middle;\n",
       "    }\n",
       "\n",
       "    .dataframe tbody tr th {\n",
       "        vertical-align: top;\n",
       "    }\n",
       "\n",
       "    .dataframe thead th {\n",
       "        text-align: right;\n",
       "    }\n",
       "</style>\n",
       "<table border=\"1\" class=\"dataframe\">\n",
       "  <thead>\n",
       "    <tr style=\"text-align: right;\">\n",
       "      <th></th>\n",
       "      <th>Year</th>\n",
       "      <th>Duration</th>\n",
       "      <th>Rating</th>\n",
       "      <th>Votes</th>\n",
       "      <th>Director</th>\n",
       "      <th>Actor 1</th>\n",
       "      <th>Genre_1</th>\n",
       "      <th>Genre_2</th>\n",
       "      <th>Genre_3</th>\n",
       "      <th>Director_rating</th>\n",
       "      <th>Actor_rating</th>\n",
       "      <th>Genre1_rating</th>\n",
       "      <th>Genre2_rating</th>\n",
       "      <th>Genre3_rating</th>\n",
       "    </tr>\n",
       "  </thead>\n",
       "  <tbody>\n",
       "    <tr>\n",
       "      <th>0</th>\n",
       "      <td>2019</td>\n",
       "      <td>120</td>\n",
       "      <td>6.0</td>\n",
       "      <td>8</td>\n",
       "      <td>J.S. Randhawa</td>\n",
       "      <td>Manmauji</td>\n",
       "      <td>Drama</td>\n",
       "      <td>Drama</td>\n",
       "      <td>Drama</td>\n",
       "      <td>5.8</td>\n",
       "      <td>6.0</td>\n",
       "      <td>6.1</td>\n",
       "      <td>6.0</td>\n",
       "      <td>5.9</td>\n",
       "    </tr>\n",
       "    <tr>\n",
       "      <th>1</th>\n",
       "      <td>2019</td>\n",
       "      <td>109</td>\n",
       "      <td>7.0</td>\n",
       "      <td>8</td>\n",
       "      <td>Gaurav Bakshi</td>\n",
       "      <td>Rasika Dugal</td>\n",
       "      <td>Drama</td>\n",
       "      <td>Drama</td>\n",
       "      <td>Drama</td>\n",
       "      <td>7.0</td>\n",
       "      <td>6.8</td>\n",
       "      <td>6.1</td>\n",
       "      <td>6.0</td>\n",
       "      <td>5.9</td>\n",
       "    </tr>\n",
       "    <tr>\n",
       "      <th>2</th>\n",
       "      <td>2021</td>\n",
       "      <td>90</td>\n",
       "      <td>6.0</td>\n",
       "      <td>8</td>\n",
       "      <td>Soumyajit Majumdar</td>\n",
       "      <td>Sayani Gupta</td>\n",
       "      <td>Drama</td>\n",
       "      <td>Musical</td>\n",
       "      <td>Drama</td>\n",
       "      <td>6.0</td>\n",
       "      <td>6.3</td>\n",
       "      <td>6.1</td>\n",
       "      <td>6.3</td>\n",
       "      <td>5.9</td>\n",
       "    </tr>\n",
       "    <tr>\n",
       "      <th>3</th>\n",
       "      <td>2019</td>\n",
       "      <td>110</td>\n",
       "      <td>4.4</td>\n",
       "      <td>35</td>\n",
       "      <td>Ovais Khan</td>\n",
       "      <td>Prateik</td>\n",
       "      <td>Comedy</td>\n",
       "      <td>Romance</td>\n",
       "      <td>Drama</td>\n",
       "      <td>4.4</td>\n",
       "      <td>5.4</td>\n",
       "      <td>5.9</td>\n",
       "      <td>5.8</td>\n",
       "      <td>5.9</td>\n",
       "    </tr>\n",
       "    <tr>\n",
       "      <th>4</th>\n",
       "      <td>2010</td>\n",
       "      <td>105</td>\n",
       "      <td>6.0</td>\n",
       "      <td>8</td>\n",
       "      <td>Amol Palekar</td>\n",
       "      <td>Rajat Kapoor</td>\n",
       "      <td>Drama</td>\n",
       "      <td>Drama</td>\n",
       "      <td>Drama</td>\n",
       "      <td>6.3</td>\n",
       "      <td>6.8</td>\n",
       "      <td>6.1</td>\n",
       "      <td>6.0</td>\n",
       "      <td>5.9</td>\n",
       "    </tr>\n",
       "  </tbody>\n",
       "</table>\n",
       "</div>"
      ],
      "text/plain": [
       "   Year  Duration  Rating  Votes            Director       Actor 1 Genre_1  \\\n",
       "0  2019       120     6.0      8       J.S. Randhawa      Manmauji   Drama   \n",
       "1  2019       109     7.0      8       Gaurav Bakshi  Rasika Dugal   Drama   \n",
       "2  2021        90     6.0      8  Soumyajit Majumdar  Sayani Gupta   Drama   \n",
       "3  2019       110     4.4     35          Ovais Khan       Prateik  Comedy   \n",
       "4  2010       105     6.0      8        Amol Palekar  Rajat Kapoor   Drama   \n",
       "\n",
       "   Genre_2 Genre_3  Director_rating  Actor_rating  Genre1_rating  \\\n",
       "0    Drama   Drama              5.8           6.0            6.1   \n",
       "1    Drama   Drama              7.0           6.8            6.1   \n",
       "2  Musical   Drama              6.0           6.3            6.1   \n",
       "3  Romance   Drama              4.4           5.4            5.9   \n",
       "4    Drama   Drama              6.3           6.8            6.1   \n",
       "\n",
       "   Genre2_rating  Genre3_rating  \n",
       "0            6.0            5.9  \n",
       "1            6.0            5.9  \n",
       "2            6.3            5.9  \n",
       "3            5.8            5.9  \n",
       "4            6.0            5.9  "
      ]
     },
     "execution_count": 96,
     "metadata": {},
     "output_type": "execute_result"
    }
   ],
   "source": [
    "df.head()"
   ]
  },
  {
   "cell_type": "code",
   "execution_count": 97,
   "id": "ca63eacf",
   "metadata": {},
   "outputs": [],
   "source": [
    "df.drop(columns=['Votes','Actor 1','Genre_1','Genre_2','Genre_3','Director'],inplace=True)"
   ]
  },
  {
   "cell_type": "code",
   "execution_count": 98,
   "id": "9fb3d4a9",
   "metadata": {},
   "outputs": [
    {
     "data": {
      "text/html": [
       "<div>\n",
       "<style scoped>\n",
       "    .dataframe tbody tr th:only-of-type {\n",
       "        vertical-align: middle;\n",
       "    }\n",
       "\n",
       "    .dataframe tbody tr th {\n",
       "        vertical-align: top;\n",
       "    }\n",
       "\n",
       "    .dataframe thead th {\n",
       "        text-align: right;\n",
       "    }\n",
       "</style>\n",
       "<table border=\"1\" class=\"dataframe\">\n",
       "  <thead>\n",
       "    <tr style=\"text-align: right;\">\n",
       "      <th></th>\n",
       "      <th>Year</th>\n",
       "      <th>Duration</th>\n",
       "      <th>Rating</th>\n",
       "      <th>Director_rating</th>\n",
       "      <th>Actor_rating</th>\n",
       "      <th>Genre1_rating</th>\n",
       "      <th>Genre2_rating</th>\n",
       "      <th>Genre3_rating</th>\n",
       "    </tr>\n",
       "  </thead>\n",
       "  <tbody>\n",
       "    <tr>\n",
       "      <th>0</th>\n",
       "      <td>2019</td>\n",
       "      <td>120</td>\n",
       "      <td>6.0</td>\n",
       "      <td>5.8</td>\n",
       "      <td>6.0</td>\n",
       "      <td>6.1</td>\n",
       "      <td>6.0</td>\n",
       "      <td>5.9</td>\n",
       "    </tr>\n",
       "    <tr>\n",
       "      <th>1</th>\n",
       "      <td>2019</td>\n",
       "      <td>109</td>\n",
       "      <td>7.0</td>\n",
       "      <td>7.0</td>\n",
       "      <td>6.8</td>\n",
       "      <td>6.1</td>\n",
       "      <td>6.0</td>\n",
       "      <td>5.9</td>\n",
       "    </tr>\n",
       "    <tr>\n",
       "      <th>2</th>\n",
       "      <td>2021</td>\n",
       "      <td>90</td>\n",
       "      <td>6.0</td>\n",
       "      <td>6.0</td>\n",
       "      <td>6.3</td>\n",
       "      <td>6.1</td>\n",
       "      <td>6.3</td>\n",
       "      <td>5.9</td>\n",
       "    </tr>\n",
       "    <tr>\n",
       "      <th>3</th>\n",
       "      <td>2019</td>\n",
       "      <td>110</td>\n",
       "      <td>4.4</td>\n",
       "      <td>4.4</td>\n",
       "      <td>5.4</td>\n",
       "      <td>5.9</td>\n",
       "      <td>5.8</td>\n",
       "      <td>5.9</td>\n",
       "    </tr>\n",
       "    <tr>\n",
       "      <th>4</th>\n",
       "      <td>2010</td>\n",
       "      <td>105</td>\n",
       "      <td>6.0</td>\n",
       "      <td>6.3</td>\n",
       "      <td>6.8</td>\n",
       "      <td>6.1</td>\n",
       "      <td>6.0</td>\n",
       "      <td>5.9</td>\n",
       "    </tr>\n",
       "  </tbody>\n",
       "</table>\n",
       "</div>"
      ],
      "text/plain": [
       "   Year  Duration  Rating  Director_rating  Actor_rating  Genre1_rating  \\\n",
       "0  2019       120     6.0              5.8           6.0            6.1   \n",
       "1  2019       109     7.0              7.0           6.8            6.1   \n",
       "2  2021        90     6.0              6.0           6.3            6.1   \n",
       "3  2019       110     4.4              4.4           5.4            5.9   \n",
       "4  2010       105     6.0              6.3           6.8            6.1   \n",
       "\n",
       "   Genre2_rating  Genre3_rating  \n",
       "0            6.0            5.9  \n",
       "1            6.0            5.9  \n",
       "2            6.3            5.9  \n",
       "3            5.8            5.9  \n",
       "4            6.0            5.9  "
      ]
     },
     "execution_count": 98,
     "metadata": {},
     "output_type": "execute_result"
    }
   ],
   "source": [
    "df.head()"
   ]
  },
  {
   "cell_type": "markdown",
   "id": "1b5bd00a",
   "metadata": {},
   "source": [
    "## Seggregate Inputs and outputs"
   ]
  },
  {
   "cell_type": "code",
   "execution_count": 104,
   "id": "127e4bc5",
   "metadata": {},
   "outputs": [],
   "source": [
    "X = df.drop(columns='Rating')"
   ]
  },
  {
   "cell_type": "code",
   "execution_count": 105,
   "id": "7f40b04b",
   "metadata": {},
   "outputs": [],
   "source": [
    "y = df['Rating']"
   ]
  },
  {
   "cell_type": "markdown",
   "id": "e6c67d07",
   "metadata": {},
   "source": [
    "## Split the Data into Train and Test"
   ]
  },
  {
   "cell_type": "code",
   "execution_count": 106,
   "id": "ae95cfe5",
   "metadata": {},
   "outputs": [],
   "source": [
    "from sklearn.model_selection import train_test_split"
   ]
  },
  {
   "cell_type": "code",
   "execution_count": 107,
   "id": "1e756003",
   "metadata": {},
   "outputs": [],
   "source": [
    "X_train,X_test,y_train,y_test = train_test_split(X,y,test_size=0.20,random_state=42)"
   ]
  },
  {
   "cell_type": "code",
   "execution_count": 108,
   "id": "24f9da4f",
   "metadata": {},
   "outputs": [
    {
     "name": "stdout",
     "output_type": "stream",
     "text": [
      "(12060, 7) (12060,)\n"
     ]
    }
   ],
   "source": [
    "print(X_train.shape,y_train.shape)"
   ]
  },
  {
   "cell_type": "code",
   "execution_count": 109,
   "id": "e827b8db",
   "metadata": {},
   "outputs": [
    {
     "name": "stdout",
     "output_type": "stream",
     "text": [
      "(3015, 7) (3015,)\n"
     ]
    }
   ],
   "source": [
    "print(X_test.shape,y_test.shape)"
   ]
  },
  {
   "cell_type": "markdown",
   "id": "49cc7a05",
   "metadata": {},
   "source": [
    "## Data preparation"
   ]
  },
  {
   "cell_type": "code",
   "execution_count": 111,
   "id": "7926a524",
   "metadata": {},
   "outputs": [],
   "source": [
    "from sklearn.preprocessing import StandardScaler"
   ]
  },
  {
   "cell_type": "code",
   "execution_count": 112,
   "id": "0070b578",
   "metadata": {},
   "outputs": [],
   "source": [
    "scaler = StandardScaler()"
   ]
  },
  {
   "cell_type": "code",
   "execution_count": 113,
   "id": "084c5229",
   "metadata": {},
   "outputs": [],
   "source": [
    "X_train_transformed = pd.DataFrame(scaler.fit_transform(X_train),columns=scaler.get_feature_names_out(),\n",
    "                                  index = X_train.index)"
   ]
  },
  {
   "cell_type": "code",
   "execution_count": 114,
   "id": "ec35bbfb",
   "metadata": {},
   "outputs": [],
   "source": [
    "X_test_transformed = pd.DataFrame(scaler.transform(X_test),columns=scaler.get_feature_names_out(),\n",
    "                                 index = X_test.index)"
   ]
  },
  {
   "cell_type": "markdown",
   "id": "d4233436",
   "metadata": {},
   "source": [
    "## Model Building"
   ]
  },
  {
   "cell_type": "markdown",
   "id": "58851a60",
   "metadata": {},
   "source": [
    "* Now we are using Regression algorithms because our target variable is in Numerical format"
   ]
  },
  {
   "cell_type": "markdown",
   "id": "002bcd0a",
   "metadata": {},
   "source": [
    "## A. Linear Regression"
   ]
  },
  {
   "cell_type": "code",
   "execution_count": 115,
   "id": "98a77658",
   "metadata": {},
   "outputs": [],
   "source": [
    "from sklearn.linear_model import LinearRegression"
   ]
  },
  {
   "cell_type": "code",
   "execution_count": 116,
   "id": "7c514a27",
   "metadata": {},
   "outputs": [],
   "source": [
    "linear = LinearRegression()"
   ]
  },
  {
   "cell_type": "code",
   "execution_count": 117,
   "id": "385012a0",
   "metadata": {},
   "outputs": [
    {
     "name": "stdout",
     "output_type": "stream",
     "text": [
      "CPU times: total: 0 ns\n",
      "Wall time: 32.3 ms\n"
     ]
    },
    {
     "data": {
      "text/html": [
       "<style>#sk-container-id-1 {\n",
       "  /* Definition of color scheme common for light and dark mode */\n",
       "  --sklearn-color-text: black;\n",
       "  --sklearn-color-line: gray;\n",
       "  /* Definition of color scheme for unfitted estimators */\n",
       "  --sklearn-color-unfitted-level-0: #fff5e6;\n",
       "  --sklearn-color-unfitted-level-1: #f6e4d2;\n",
       "  --sklearn-color-unfitted-level-2: #ffe0b3;\n",
       "  --sklearn-color-unfitted-level-3: chocolate;\n",
       "  /* Definition of color scheme for fitted estimators */\n",
       "  --sklearn-color-fitted-level-0: #f0f8ff;\n",
       "  --sklearn-color-fitted-level-1: #d4ebff;\n",
       "  --sklearn-color-fitted-level-2: #b3dbfd;\n",
       "  --sklearn-color-fitted-level-3: cornflowerblue;\n",
       "\n",
       "  /* Specific color for light theme */\n",
       "  --sklearn-color-text-on-default-background: var(--sg-text-color, var(--theme-code-foreground, var(--jp-content-font-color1, black)));\n",
       "  --sklearn-color-background: var(--sg-background-color, var(--theme-background, var(--jp-layout-color0, white)));\n",
       "  --sklearn-color-border-box: var(--sg-text-color, var(--theme-code-foreground, var(--jp-content-font-color1, black)));\n",
       "  --sklearn-color-icon: #696969;\n",
       "\n",
       "  @media (prefers-color-scheme: dark) {\n",
       "    /* Redefinition of color scheme for dark theme */\n",
       "    --sklearn-color-text-on-default-background: var(--sg-text-color, var(--theme-code-foreground, var(--jp-content-font-color1, white)));\n",
       "    --sklearn-color-background: var(--sg-background-color, var(--theme-background, var(--jp-layout-color0, #111)));\n",
       "    --sklearn-color-border-box: var(--sg-text-color, var(--theme-code-foreground, var(--jp-content-font-color1, white)));\n",
       "    --sklearn-color-icon: #878787;\n",
       "  }\n",
       "}\n",
       "\n",
       "#sk-container-id-1 {\n",
       "  color: var(--sklearn-color-text);\n",
       "}\n",
       "\n",
       "#sk-container-id-1 pre {\n",
       "  padding: 0;\n",
       "}\n",
       "\n",
       "#sk-container-id-1 input.sk-hidden--visually {\n",
       "  border: 0;\n",
       "  clip: rect(1px 1px 1px 1px);\n",
       "  clip: rect(1px, 1px, 1px, 1px);\n",
       "  height: 1px;\n",
       "  margin: -1px;\n",
       "  overflow: hidden;\n",
       "  padding: 0;\n",
       "  position: absolute;\n",
       "  width: 1px;\n",
       "}\n",
       "\n",
       "#sk-container-id-1 div.sk-dashed-wrapped {\n",
       "  border: 1px dashed var(--sklearn-color-line);\n",
       "  margin: 0 0.4em 0.5em 0.4em;\n",
       "  box-sizing: border-box;\n",
       "  padding-bottom: 0.4em;\n",
       "  background-color: var(--sklearn-color-background);\n",
       "}\n",
       "\n",
       "#sk-container-id-1 div.sk-container {\n",
       "  /* jupyter's `normalize.less` sets `[hidden] { display: none; }`\n",
       "     but bootstrap.min.css set `[hidden] { display: none !important; }`\n",
       "     so we also need the `!important` here to be able to override the\n",
       "     default hidden behavior on the sphinx rendered scikit-learn.org.\n",
       "     See: https://github.com/scikit-learn/scikit-learn/issues/21755 */\n",
       "  display: inline-block !important;\n",
       "  position: relative;\n",
       "}\n",
       "\n",
       "#sk-container-id-1 div.sk-text-repr-fallback {\n",
       "  display: none;\n",
       "}\n",
       "\n",
       "div.sk-parallel-item,\n",
       "div.sk-serial,\n",
       "div.sk-item {\n",
       "  /* draw centered vertical line to link estimators */\n",
       "  background-image: linear-gradient(var(--sklearn-color-text-on-default-background), var(--sklearn-color-text-on-default-background));\n",
       "  background-size: 2px 100%;\n",
       "  background-repeat: no-repeat;\n",
       "  background-position: center center;\n",
       "}\n",
       "\n",
       "/* Parallel-specific style estimator block */\n",
       "\n",
       "#sk-container-id-1 div.sk-parallel-item::after {\n",
       "  content: \"\";\n",
       "  width: 100%;\n",
       "  border-bottom: 2px solid var(--sklearn-color-text-on-default-background);\n",
       "  flex-grow: 1;\n",
       "}\n",
       "\n",
       "#sk-container-id-1 div.sk-parallel {\n",
       "  display: flex;\n",
       "  align-items: stretch;\n",
       "  justify-content: center;\n",
       "  background-color: var(--sklearn-color-background);\n",
       "  position: relative;\n",
       "}\n",
       "\n",
       "#sk-container-id-1 div.sk-parallel-item {\n",
       "  display: flex;\n",
       "  flex-direction: column;\n",
       "}\n",
       "\n",
       "#sk-container-id-1 div.sk-parallel-item:first-child::after {\n",
       "  align-self: flex-end;\n",
       "  width: 50%;\n",
       "}\n",
       "\n",
       "#sk-container-id-1 div.sk-parallel-item:last-child::after {\n",
       "  align-self: flex-start;\n",
       "  width: 50%;\n",
       "}\n",
       "\n",
       "#sk-container-id-1 div.sk-parallel-item:only-child::after {\n",
       "  width: 0;\n",
       "}\n",
       "\n",
       "/* Serial-specific style estimator block */\n",
       "\n",
       "#sk-container-id-1 div.sk-serial {\n",
       "  display: flex;\n",
       "  flex-direction: column;\n",
       "  align-items: center;\n",
       "  background-color: var(--sklearn-color-background);\n",
       "  padding-right: 1em;\n",
       "  padding-left: 1em;\n",
       "}\n",
       "\n",
       "\n",
       "/* Toggleable style: style used for estimator/Pipeline/ColumnTransformer box that is\n",
       "clickable and can be expanded/collapsed.\n",
       "- Pipeline and ColumnTransformer use this feature and define the default style\n",
       "- Estimators will overwrite some part of the style using the `sk-estimator` class\n",
       "*/\n",
       "\n",
       "/* Pipeline and ColumnTransformer style (default) */\n",
       "\n",
       "#sk-container-id-1 div.sk-toggleable {\n",
       "  /* Default theme specific background. It is overwritten whether we have a\n",
       "  specific estimator or a Pipeline/ColumnTransformer */\n",
       "  background-color: var(--sklearn-color-background);\n",
       "}\n",
       "\n",
       "/* Toggleable label */\n",
       "#sk-container-id-1 label.sk-toggleable__label {\n",
       "  cursor: pointer;\n",
       "  display: block;\n",
       "  width: 100%;\n",
       "  margin-bottom: 0;\n",
       "  padding: 0.5em;\n",
       "  box-sizing: border-box;\n",
       "  text-align: center;\n",
       "}\n",
       "\n",
       "#sk-container-id-1 label.sk-toggleable__label-arrow:before {\n",
       "  /* Arrow on the left of the label */\n",
       "  content: \"▸\";\n",
       "  float: left;\n",
       "  margin-right: 0.25em;\n",
       "  color: var(--sklearn-color-icon);\n",
       "}\n",
       "\n",
       "#sk-container-id-1 label.sk-toggleable__label-arrow:hover:before {\n",
       "  color: var(--sklearn-color-text);\n",
       "}\n",
       "\n",
       "/* Toggleable content - dropdown */\n",
       "\n",
       "#sk-container-id-1 div.sk-toggleable__content {\n",
       "  max-height: 0;\n",
       "  max-width: 0;\n",
       "  overflow: hidden;\n",
       "  text-align: left;\n",
       "  /* unfitted */\n",
       "  background-color: var(--sklearn-color-unfitted-level-0);\n",
       "}\n",
       "\n",
       "#sk-container-id-1 div.sk-toggleable__content.fitted {\n",
       "  /* fitted */\n",
       "  background-color: var(--sklearn-color-fitted-level-0);\n",
       "}\n",
       "\n",
       "#sk-container-id-1 div.sk-toggleable__content pre {\n",
       "  margin: 0.2em;\n",
       "  border-radius: 0.25em;\n",
       "  color: var(--sklearn-color-text);\n",
       "  /* unfitted */\n",
       "  background-color: var(--sklearn-color-unfitted-level-0);\n",
       "}\n",
       "\n",
       "#sk-container-id-1 div.sk-toggleable__content.fitted pre {\n",
       "  /* unfitted */\n",
       "  background-color: var(--sklearn-color-fitted-level-0);\n",
       "}\n",
       "\n",
       "#sk-container-id-1 input.sk-toggleable__control:checked~div.sk-toggleable__content {\n",
       "  /* Expand drop-down */\n",
       "  max-height: 200px;\n",
       "  max-width: 100%;\n",
       "  overflow: auto;\n",
       "}\n",
       "\n",
       "#sk-container-id-1 input.sk-toggleable__control:checked~label.sk-toggleable__label-arrow:before {\n",
       "  content: \"▾\";\n",
       "}\n",
       "\n",
       "/* Pipeline/ColumnTransformer-specific style */\n",
       "\n",
       "#sk-container-id-1 div.sk-label input.sk-toggleable__control:checked~label.sk-toggleable__label {\n",
       "  color: var(--sklearn-color-text);\n",
       "  background-color: var(--sklearn-color-unfitted-level-2);\n",
       "}\n",
       "\n",
       "#sk-container-id-1 div.sk-label.fitted input.sk-toggleable__control:checked~label.sk-toggleable__label {\n",
       "  background-color: var(--sklearn-color-fitted-level-2);\n",
       "}\n",
       "\n",
       "/* Estimator-specific style */\n",
       "\n",
       "/* Colorize estimator box */\n",
       "#sk-container-id-1 div.sk-estimator input.sk-toggleable__control:checked~label.sk-toggleable__label {\n",
       "  /* unfitted */\n",
       "  background-color: var(--sklearn-color-unfitted-level-2);\n",
       "}\n",
       "\n",
       "#sk-container-id-1 div.sk-estimator.fitted input.sk-toggleable__control:checked~label.sk-toggleable__label {\n",
       "  /* fitted */\n",
       "  background-color: var(--sklearn-color-fitted-level-2);\n",
       "}\n",
       "\n",
       "#sk-container-id-1 div.sk-label label.sk-toggleable__label,\n",
       "#sk-container-id-1 div.sk-label label {\n",
       "  /* The background is the default theme color */\n",
       "  color: var(--sklearn-color-text-on-default-background);\n",
       "}\n",
       "\n",
       "/* On hover, darken the color of the background */\n",
       "#sk-container-id-1 div.sk-label:hover label.sk-toggleable__label {\n",
       "  color: var(--sklearn-color-text);\n",
       "  background-color: var(--sklearn-color-unfitted-level-2);\n",
       "}\n",
       "\n",
       "/* Label box, darken color on hover, fitted */\n",
       "#sk-container-id-1 div.sk-label.fitted:hover label.sk-toggleable__label.fitted {\n",
       "  color: var(--sklearn-color-text);\n",
       "  background-color: var(--sklearn-color-fitted-level-2);\n",
       "}\n",
       "\n",
       "/* Estimator label */\n",
       "\n",
       "#sk-container-id-1 div.sk-label label {\n",
       "  font-family: monospace;\n",
       "  font-weight: bold;\n",
       "  display: inline-block;\n",
       "  line-height: 1.2em;\n",
       "}\n",
       "\n",
       "#sk-container-id-1 div.sk-label-container {\n",
       "  text-align: center;\n",
       "}\n",
       "\n",
       "/* Estimator-specific */\n",
       "#sk-container-id-1 div.sk-estimator {\n",
       "  font-family: monospace;\n",
       "  border: 1px dotted var(--sklearn-color-border-box);\n",
       "  border-radius: 0.25em;\n",
       "  box-sizing: border-box;\n",
       "  margin-bottom: 0.5em;\n",
       "  /* unfitted */\n",
       "  background-color: var(--sklearn-color-unfitted-level-0);\n",
       "}\n",
       "\n",
       "#sk-container-id-1 div.sk-estimator.fitted {\n",
       "  /* fitted */\n",
       "  background-color: var(--sklearn-color-fitted-level-0);\n",
       "}\n",
       "\n",
       "/* on hover */\n",
       "#sk-container-id-1 div.sk-estimator:hover {\n",
       "  /* unfitted */\n",
       "  background-color: var(--sklearn-color-unfitted-level-2);\n",
       "}\n",
       "\n",
       "#sk-container-id-1 div.sk-estimator.fitted:hover {\n",
       "  /* fitted */\n",
       "  background-color: var(--sklearn-color-fitted-level-2);\n",
       "}\n",
       "\n",
       "/* Specification for estimator info (e.g. \"i\" and \"?\") */\n",
       "\n",
       "/* Common style for \"i\" and \"?\" */\n",
       "\n",
       ".sk-estimator-doc-link,\n",
       "a:link.sk-estimator-doc-link,\n",
       "a:visited.sk-estimator-doc-link {\n",
       "  float: right;\n",
       "  font-size: smaller;\n",
       "  line-height: 1em;\n",
       "  font-family: monospace;\n",
       "  background-color: var(--sklearn-color-background);\n",
       "  border-radius: 1em;\n",
       "  height: 1em;\n",
       "  width: 1em;\n",
       "  text-decoration: none !important;\n",
       "  margin-left: 1ex;\n",
       "  /* unfitted */\n",
       "  border: var(--sklearn-color-unfitted-level-1) 1pt solid;\n",
       "  color: var(--sklearn-color-unfitted-level-1);\n",
       "}\n",
       "\n",
       ".sk-estimator-doc-link.fitted,\n",
       "a:link.sk-estimator-doc-link.fitted,\n",
       "a:visited.sk-estimator-doc-link.fitted {\n",
       "  /* fitted */\n",
       "  border: var(--sklearn-color-fitted-level-1) 1pt solid;\n",
       "  color: var(--sklearn-color-fitted-level-1);\n",
       "}\n",
       "\n",
       "/* On hover */\n",
       "div.sk-estimator:hover .sk-estimator-doc-link:hover,\n",
       ".sk-estimator-doc-link:hover,\n",
       "div.sk-label-container:hover .sk-estimator-doc-link:hover,\n",
       ".sk-estimator-doc-link:hover {\n",
       "  /* unfitted */\n",
       "  background-color: var(--sklearn-color-unfitted-level-3);\n",
       "  color: var(--sklearn-color-background);\n",
       "  text-decoration: none;\n",
       "}\n",
       "\n",
       "div.sk-estimator.fitted:hover .sk-estimator-doc-link.fitted:hover,\n",
       ".sk-estimator-doc-link.fitted:hover,\n",
       "div.sk-label-container:hover .sk-estimator-doc-link.fitted:hover,\n",
       ".sk-estimator-doc-link.fitted:hover {\n",
       "  /* fitted */\n",
       "  background-color: var(--sklearn-color-fitted-level-3);\n",
       "  color: var(--sklearn-color-background);\n",
       "  text-decoration: none;\n",
       "}\n",
       "\n",
       "/* Span, style for the box shown on hovering the info icon */\n",
       ".sk-estimator-doc-link span {\n",
       "  display: none;\n",
       "  z-index: 9999;\n",
       "  position: relative;\n",
       "  font-weight: normal;\n",
       "  right: .2ex;\n",
       "  padding: .5ex;\n",
       "  margin: .5ex;\n",
       "  width: min-content;\n",
       "  min-width: 20ex;\n",
       "  max-width: 50ex;\n",
       "  color: var(--sklearn-color-text);\n",
       "  box-shadow: 2pt 2pt 4pt #999;\n",
       "  /* unfitted */\n",
       "  background: var(--sklearn-color-unfitted-level-0);\n",
       "  border: .5pt solid var(--sklearn-color-unfitted-level-3);\n",
       "}\n",
       "\n",
       ".sk-estimator-doc-link.fitted span {\n",
       "  /* fitted */\n",
       "  background: var(--sklearn-color-fitted-level-0);\n",
       "  border: var(--sklearn-color-fitted-level-3);\n",
       "}\n",
       "\n",
       ".sk-estimator-doc-link:hover span {\n",
       "  display: block;\n",
       "}\n",
       "\n",
       "/* \"?\"-specific style due to the `<a>` HTML tag */\n",
       "\n",
       "#sk-container-id-1 a.estimator_doc_link {\n",
       "  float: right;\n",
       "  font-size: 1rem;\n",
       "  line-height: 1em;\n",
       "  font-family: monospace;\n",
       "  background-color: var(--sklearn-color-background);\n",
       "  border-radius: 1rem;\n",
       "  height: 1rem;\n",
       "  width: 1rem;\n",
       "  text-decoration: none;\n",
       "  /* unfitted */\n",
       "  color: var(--sklearn-color-unfitted-level-1);\n",
       "  border: var(--sklearn-color-unfitted-level-1) 1pt solid;\n",
       "}\n",
       "\n",
       "#sk-container-id-1 a.estimator_doc_link.fitted {\n",
       "  /* fitted */\n",
       "  border: var(--sklearn-color-fitted-level-1) 1pt solid;\n",
       "  color: var(--sklearn-color-fitted-level-1);\n",
       "}\n",
       "\n",
       "/* On hover */\n",
       "#sk-container-id-1 a.estimator_doc_link:hover {\n",
       "  /* unfitted */\n",
       "  background-color: var(--sklearn-color-unfitted-level-3);\n",
       "  color: var(--sklearn-color-background);\n",
       "  text-decoration: none;\n",
       "}\n",
       "\n",
       "#sk-container-id-1 a.estimator_doc_link.fitted:hover {\n",
       "  /* fitted */\n",
       "  background-color: var(--sklearn-color-fitted-level-3);\n",
       "}\n",
       "</style><div id=\"sk-container-id-1\" class=\"sk-top-container\"><div class=\"sk-text-repr-fallback\"><pre>LinearRegression()</pre><b>In a Jupyter environment, please rerun this cell to show the HTML representation or trust the notebook. <br />On GitHub, the HTML representation is unable to render, please try loading this page with nbviewer.org.</b></div><div class=\"sk-container\" hidden><div class=\"sk-item\"><div class=\"sk-estimator fitted sk-toggleable\"><input class=\"sk-toggleable__control sk-hidden--visually\" id=\"sk-estimator-id-1\" type=\"checkbox\" checked><label for=\"sk-estimator-id-1\" class=\"sk-toggleable__label fitted sk-toggleable__label-arrow fitted\">&nbsp;&nbsp;LinearRegression<a class=\"sk-estimator-doc-link fitted\" rel=\"noreferrer\" target=\"_blank\" href=\"https://scikit-learn.org/1.4/modules/generated/sklearn.linear_model.LinearRegression.html\">?<span>Documentation for LinearRegression</span></a><span class=\"sk-estimator-doc-link fitted\">i<span>Fitted</span></span></label><div class=\"sk-toggleable__content fitted\"><pre>LinearRegression()</pre></div> </div></div></div></div>"
      ],
      "text/plain": [
       "LinearRegression()"
      ]
     },
     "execution_count": 117,
     "metadata": {},
     "output_type": "execute_result"
    }
   ],
   "source": [
    "%%time\n",
    "linear.fit(X_train_transformed,y_train)"
   ]
  },
  {
   "cell_type": "code",
   "execution_count": 118,
   "id": "9ad800cb",
   "metadata": {},
   "outputs": [],
   "source": [
    "y_train_pred = linear.predict(X_train_transformed)"
   ]
  },
  {
   "cell_type": "code",
   "execution_count": 119,
   "id": "8491a3a2",
   "metadata": {},
   "outputs": [],
   "source": [
    "y_test_pred = linear.predict(X_test_transformed)"
   ]
  },
  {
   "cell_type": "code",
   "execution_count": 120,
   "id": "6d407bca",
   "metadata": {},
   "outputs": [],
   "source": [
    "from sklearn import metrics"
   ]
  },
  {
   "cell_type": "markdown",
   "id": "bd287cfc",
   "metadata": {},
   "source": [
    "### Mean absoulte error"
   ]
  },
  {
   "cell_type": "code",
   "execution_count": null,
   "id": "17b732dc",
   "metadata": {},
   "outputs": [],
   "source": []
  },
  {
   "cell_type": "code",
   "execution_count": 125,
   "id": "6c01e6e4",
   "metadata": {},
   "outputs": [
    {
     "name": "stdout",
     "output_type": "stream",
     "text": [
      "Train  score :: 0.3915452671054606\n",
      "\n",
      "Test  score :: 0.3876068500825325\n"
     ]
    }
   ],
   "source": [
    "print(f\"Train  score :: {metrics.mean_absolute_error(y_train_pred,y_train)}\")\n",
    "print()\n",
    "print(f\"Test  score :: {metrics.mean_absolute_error(y_test_pred,y_test)}\")"
   ]
  },
  {
   "cell_type": "code",
   "execution_count": 163,
   "id": "2cb84917",
   "metadata": {},
   "outputs": [],
   "source": [
    "Li_train_mae = metrics.mean_absolute_error(y_train_pred,y_train)"
   ]
  },
  {
   "cell_type": "code",
   "execution_count": 164,
   "id": "ad7c5b47",
   "metadata": {},
   "outputs": [],
   "source": [
    "Li_test_mae = metrics.mean_absolute_error(y_test_pred,y_test)"
   ]
  },
  {
   "cell_type": "markdown",
   "id": "14bb17a3",
   "metadata": {},
   "source": [
    "### R2- score"
   ]
  },
  {
   "cell_type": "code",
   "execution_count": 126,
   "id": "f04a6eaa",
   "metadata": {},
   "outputs": [
    {
     "name": "stdout",
     "output_type": "stream",
     "text": [
      "Train score :: 0.40610848312651704\n",
      "\n",
      "Test score :: 0.4050244169334115\n"
     ]
    }
   ],
   "source": [
    "print(f\"Train score :: {metrics.r2_score(y_train_pred,y_train)}\")\n",
    "print()\n",
    "print(f\"Test score :: {metrics.r2_score(y_test_pred,y_test)}\")"
   ]
  },
  {
   "cell_type": "code",
   "execution_count": 165,
   "id": "85f28b7a",
   "metadata": {},
   "outputs": [],
   "source": [
    "Li_train_r2 = metrics.r2_score(y_train_pred,y_train)"
   ]
  },
  {
   "cell_type": "code",
   "execution_count": 166,
   "id": "2f69fc7b",
   "metadata": {},
   "outputs": [],
   "source": [
    "Li_test_r2 = metrics.r2_score(y_test_pred,y_test)"
   ]
  },
  {
   "cell_type": "markdown",
   "id": "7d492c2f",
   "metadata": {},
   "source": [
    "## B. DecisionTree Regressor"
   ]
  },
  {
   "cell_type": "code",
   "execution_count": 127,
   "id": "e4f72a70",
   "metadata": {},
   "outputs": [],
   "source": [
    "from sklearn.tree import DecisionTreeRegressor"
   ]
  },
  {
   "cell_type": "code",
   "execution_count": 128,
   "id": "555779a1",
   "metadata": {},
   "outputs": [],
   "source": [
    "tree = DecisionTreeRegressor()"
   ]
  },
  {
   "cell_type": "code",
   "execution_count": 129,
   "id": "44af9579",
   "metadata": {},
   "outputs": [
    {
     "name": "stdout",
     "output_type": "stream",
     "text": [
      "CPU times: total: 31.2 ms\n",
      "Wall time: 74 ms\n"
     ]
    },
    {
     "data": {
      "text/html": [
       "<style>#sk-container-id-2 {\n",
       "  /* Definition of color scheme common for light and dark mode */\n",
       "  --sklearn-color-text: black;\n",
       "  --sklearn-color-line: gray;\n",
       "  /* Definition of color scheme for unfitted estimators */\n",
       "  --sklearn-color-unfitted-level-0: #fff5e6;\n",
       "  --sklearn-color-unfitted-level-1: #f6e4d2;\n",
       "  --sklearn-color-unfitted-level-2: #ffe0b3;\n",
       "  --sklearn-color-unfitted-level-3: chocolate;\n",
       "  /* Definition of color scheme for fitted estimators */\n",
       "  --sklearn-color-fitted-level-0: #f0f8ff;\n",
       "  --sklearn-color-fitted-level-1: #d4ebff;\n",
       "  --sklearn-color-fitted-level-2: #b3dbfd;\n",
       "  --sklearn-color-fitted-level-3: cornflowerblue;\n",
       "\n",
       "  /* Specific color for light theme */\n",
       "  --sklearn-color-text-on-default-background: var(--sg-text-color, var(--theme-code-foreground, var(--jp-content-font-color1, black)));\n",
       "  --sklearn-color-background: var(--sg-background-color, var(--theme-background, var(--jp-layout-color0, white)));\n",
       "  --sklearn-color-border-box: var(--sg-text-color, var(--theme-code-foreground, var(--jp-content-font-color1, black)));\n",
       "  --sklearn-color-icon: #696969;\n",
       "\n",
       "  @media (prefers-color-scheme: dark) {\n",
       "    /* Redefinition of color scheme for dark theme */\n",
       "    --sklearn-color-text-on-default-background: var(--sg-text-color, var(--theme-code-foreground, var(--jp-content-font-color1, white)));\n",
       "    --sklearn-color-background: var(--sg-background-color, var(--theme-background, var(--jp-layout-color0, #111)));\n",
       "    --sklearn-color-border-box: var(--sg-text-color, var(--theme-code-foreground, var(--jp-content-font-color1, white)));\n",
       "    --sklearn-color-icon: #878787;\n",
       "  }\n",
       "}\n",
       "\n",
       "#sk-container-id-2 {\n",
       "  color: var(--sklearn-color-text);\n",
       "}\n",
       "\n",
       "#sk-container-id-2 pre {\n",
       "  padding: 0;\n",
       "}\n",
       "\n",
       "#sk-container-id-2 input.sk-hidden--visually {\n",
       "  border: 0;\n",
       "  clip: rect(1px 1px 1px 1px);\n",
       "  clip: rect(1px, 1px, 1px, 1px);\n",
       "  height: 1px;\n",
       "  margin: -1px;\n",
       "  overflow: hidden;\n",
       "  padding: 0;\n",
       "  position: absolute;\n",
       "  width: 1px;\n",
       "}\n",
       "\n",
       "#sk-container-id-2 div.sk-dashed-wrapped {\n",
       "  border: 1px dashed var(--sklearn-color-line);\n",
       "  margin: 0 0.4em 0.5em 0.4em;\n",
       "  box-sizing: border-box;\n",
       "  padding-bottom: 0.4em;\n",
       "  background-color: var(--sklearn-color-background);\n",
       "}\n",
       "\n",
       "#sk-container-id-2 div.sk-container {\n",
       "  /* jupyter's `normalize.less` sets `[hidden] { display: none; }`\n",
       "     but bootstrap.min.css set `[hidden] { display: none !important; }`\n",
       "     so we also need the `!important` here to be able to override the\n",
       "     default hidden behavior on the sphinx rendered scikit-learn.org.\n",
       "     See: https://github.com/scikit-learn/scikit-learn/issues/21755 */\n",
       "  display: inline-block !important;\n",
       "  position: relative;\n",
       "}\n",
       "\n",
       "#sk-container-id-2 div.sk-text-repr-fallback {\n",
       "  display: none;\n",
       "}\n",
       "\n",
       "div.sk-parallel-item,\n",
       "div.sk-serial,\n",
       "div.sk-item {\n",
       "  /* draw centered vertical line to link estimators */\n",
       "  background-image: linear-gradient(var(--sklearn-color-text-on-default-background), var(--sklearn-color-text-on-default-background));\n",
       "  background-size: 2px 100%;\n",
       "  background-repeat: no-repeat;\n",
       "  background-position: center center;\n",
       "}\n",
       "\n",
       "/* Parallel-specific style estimator block */\n",
       "\n",
       "#sk-container-id-2 div.sk-parallel-item::after {\n",
       "  content: \"\";\n",
       "  width: 100%;\n",
       "  border-bottom: 2px solid var(--sklearn-color-text-on-default-background);\n",
       "  flex-grow: 1;\n",
       "}\n",
       "\n",
       "#sk-container-id-2 div.sk-parallel {\n",
       "  display: flex;\n",
       "  align-items: stretch;\n",
       "  justify-content: center;\n",
       "  background-color: var(--sklearn-color-background);\n",
       "  position: relative;\n",
       "}\n",
       "\n",
       "#sk-container-id-2 div.sk-parallel-item {\n",
       "  display: flex;\n",
       "  flex-direction: column;\n",
       "}\n",
       "\n",
       "#sk-container-id-2 div.sk-parallel-item:first-child::after {\n",
       "  align-self: flex-end;\n",
       "  width: 50%;\n",
       "}\n",
       "\n",
       "#sk-container-id-2 div.sk-parallel-item:last-child::after {\n",
       "  align-self: flex-start;\n",
       "  width: 50%;\n",
       "}\n",
       "\n",
       "#sk-container-id-2 div.sk-parallel-item:only-child::after {\n",
       "  width: 0;\n",
       "}\n",
       "\n",
       "/* Serial-specific style estimator block */\n",
       "\n",
       "#sk-container-id-2 div.sk-serial {\n",
       "  display: flex;\n",
       "  flex-direction: column;\n",
       "  align-items: center;\n",
       "  background-color: var(--sklearn-color-background);\n",
       "  padding-right: 1em;\n",
       "  padding-left: 1em;\n",
       "}\n",
       "\n",
       "\n",
       "/* Toggleable style: style used for estimator/Pipeline/ColumnTransformer box that is\n",
       "clickable and can be expanded/collapsed.\n",
       "- Pipeline and ColumnTransformer use this feature and define the default style\n",
       "- Estimators will overwrite some part of the style using the `sk-estimator` class\n",
       "*/\n",
       "\n",
       "/* Pipeline and ColumnTransformer style (default) */\n",
       "\n",
       "#sk-container-id-2 div.sk-toggleable {\n",
       "  /* Default theme specific background. It is overwritten whether we have a\n",
       "  specific estimator or a Pipeline/ColumnTransformer */\n",
       "  background-color: var(--sklearn-color-background);\n",
       "}\n",
       "\n",
       "/* Toggleable label */\n",
       "#sk-container-id-2 label.sk-toggleable__label {\n",
       "  cursor: pointer;\n",
       "  display: block;\n",
       "  width: 100%;\n",
       "  margin-bottom: 0;\n",
       "  padding: 0.5em;\n",
       "  box-sizing: border-box;\n",
       "  text-align: center;\n",
       "}\n",
       "\n",
       "#sk-container-id-2 label.sk-toggleable__label-arrow:before {\n",
       "  /* Arrow on the left of the label */\n",
       "  content: \"▸\";\n",
       "  float: left;\n",
       "  margin-right: 0.25em;\n",
       "  color: var(--sklearn-color-icon);\n",
       "}\n",
       "\n",
       "#sk-container-id-2 label.sk-toggleable__label-arrow:hover:before {\n",
       "  color: var(--sklearn-color-text);\n",
       "}\n",
       "\n",
       "/* Toggleable content - dropdown */\n",
       "\n",
       "#sk-container-id-2 div.sk-toggleable__content {\n",
       "  max-height: 0;\n",
       "  max-width: 0;\n",
       "  overflow: hidden;\n",
       "  text-align: left;\n",
       "  /* unfitted */\n",
       "  background-color: var(--sklearn-color-unfitted-level-0);\n",
       "}\n",
       "\n",
       "#sk-container-id-2 div.sk-toggleable__content.fitted {\n",
       "  /* fitted */\n",
       "  background-color: var(--sklearn-color-fitted-level-0);\n",
       "}\n",
       "\n",
       "#sk-container-id-2 div.sk-toggleable__content pre {\n",
       "  margin: 0.2em;\n",
       "  border-radius: 0.25em;\n",
       "  color: var(--sklearn-color-text);\n",
       "  /* unfitted */\n",
       "  background-color: var(--sklearn-color-unfitted-level-0);\n",
       "}\n",
       "\n",
       "#sk-container-id-2 div.sk-toggleable__content.fitted pre {\n",
       "  /* unfitted */\n",
       "  background-color: var(--sklearn-color-fitted-level-0);\n",
       "}\n",
       "\n",
       "#sk-container-id-2 input.sk-toggleable__control:checked~div.sk-toggleable__content {\n",
       "  /* Expand drop-down */\n",
       "  max-height: 200px;\n",
       "  max-width: 100%;\n",
       "  overflow: auto;\n",
       "}\n",
       "\n",
       "#sk-container-id-2 input.sk-toggleable__control:checked~label.sk-toggleable__label-arrow:before {\n",
       "  content: \"▾\";\n",
       "}\n",
       "\n",
       "/* Pipeline/ColumnTransformer-specific style */\n",
       "\n",
       "#sk-container-id-2 div.sk-label input.sk-toggleable__control:checked~label.sk-toggleable__label {\n",
       "  color: var(--sklearn-color-text);\n",
       "  background-color: var(--sklearn-color-unfitted-level-2);\n",
       "}\n",
       "\n",
       "#sk-container-id-2 div.sk-label.fitted input.sk-toggleable__control:checked~label.sk-toggleable__label {\n",
       "  background-color: var(--sklearn-color-fitted-level-2);\n",
       "}\n",
       "\n",
       "/* Estimator-specific style */\n",
       "\n",
       "/* Colorize estimator box */\n",
       "#sk-container-id-2 div.sk-estimator input.sk-toggleable__control:checked~label.sk-toggleable__label {\n",
       "  /* unfitted */\n",
       "  background-color: var(--sklearn-color-unfitted-level-2);\n",
       "}\n",
       "\n",
       "#sk-container-id-2 div.sk-estimator.fitted input.sk-toggleable__control:checked~label.sk-toggleable__label {\n",
       "  /* fitted */\n",
       "  background-color: var(--sklearn-color-fitted-level-2);\n",
       "}\n",
       "\n",
       "#sk-container-id-2 div.sk-label label.sk-toggleable__label,\n",
       "#sk-container-id-2 div.sk-label label {\n",
       "  /* The background is the default theme color */\n",
       "  color: var(--sklearn-color-text-on-default-background);\n",
       "}\n",
       "\n",
       "/* On hover, darken the color of the background */\n",
       "#sk-container-id-2 div.sk-label:hover label.sk-toggleable__label {\n",
       "  color: var(--sklearn-color-text);\n",
       "  background-color: var(--sklearn-color-unfitted-level-2);\n",
       "}\n",
       "\n",
       "/* Label box, darken color on hover, fitted */\n",
       "#sk-container-id-2 div.sk-label.fitted:hover label.sk-toggleable__label.fitted {\n",
       "  color: var(--sklearn-color-text);\n",
       "  background-color: var(--sklearn-color-fitted-level-2);\n",
       "}\n",
       "\n",
       "/* Estimator label */\n",
       "\n",
       "#sk-container-id-2 div.sk-label label {\n",
       "  font-family: monospace;\n",
       "  font-weight: bold;\n",
       "  display: inline-block;\n",
       "  line-height: 1.2em;\n",
       "}\n",
       "\n",
       "#sk-container-id-2 div.sk-label-container {\n",
       "  text-align: center;\n",
       "}\n",
       "\n",
       "/* Estimator-specific */\n",
       "#sk-container-id-2 div.sk-estimator {\n",
       "  font-family: monospace;\n",
       "  border: 1px dotted var(--sklearn-color-border-box);\n",
       "  border-radius: 0.25em;\n",
       "  box-sizing: border-box;\n",
       "  margin-bottom: 0.5em;\n",
       "  /* unfitted */\n",
       "  background-color: var(--sklearn-color-unfitted-level-0);\n",
       "}\n",
       "\n",
       "#sk-container-id-2 div.sk-estimator.fitted {\n",
       "  /* fitted */\n",
       "  background-color: var(--sklearn-color-fitted-level-0);\n",
       "}\n",
       "\n",
       "/* on hover */\n",
       "#sk-container-id-2 div.sk-estimator:hover {\n",
       "  /* unfitted */\n",
       "  background-color: var(--sklearn-color-unfitted-level-2);\n",
       "}\n",
       "\n",
       "#sk-container-id-2 div.sk-estimator.fitted:hover {\n",
       "  /* fitted */\n",
       "  background-color: var(--sklearn-color-fitted-level-2);\n",
       "}\n",
       "\n",
       "/* Specification for estimator info (e.g. \"i\" and \"?\") */\n",
       "\n",
       "/* Common style for \"i\" and \"?\" */\n",
       "\n",
       ".sk-estimator-doc-link,\n",
       "a:link.sk-estimator-doc-link,\n",
       "a:visited.sk-estimator-doc-link {\n",
       "  float: right;\n",
       "  font-size: smaller;\n",
       "  line-height: 1em;\n",
       "  font-family: monospace;\n",
       "  background-color: var(--sklearn-color-background);\n",
       "  border-radius: 1em;\n",
       "  height: 1em;\n",
       "  width: 1em;\n",
       "  text-decoration: none !important;\n",
       "  margin-left: 1ex;\n",
       "  /* unfitted */\n",
       "  border: var(--sklearn-color-unfitted-level-1) 1pt solid;\n",
       "  color: var(--sklearn-color-unfitted-level-1);\n",
       "}\n",
       "\n",
       ".sk-estimator-doc-link.fitted,\n",
       "a:link.sk-estimator-doc-link.fitted,\n",
       "a:visited.sk-estimator-doc-link.fitted {\n",
       "  /* fitted */\n",
       "  border: var(--sklearn-color-fitted-level-1) 1pt solid;\n",
       "  color: var(--sklearn-color-fitted-level-1);\n",
       "}\n",
       "\n",
       "/* On hover */\n",
       "div.sk-estimator:hover .sk-estimator-doc-link:hover,\n",
       ".sk-estimator-doc-link:hover,\n",
       "div.sk-label-container:hover .sk-estimator-doc-link:hover,\n",
       ".sk-estimator-doc-link:hover {\n",
       "  /* unfitted */\n",
       "  background-color: var(--sklearn-color-unfitted-level-3);\n",
       "  color: var(--sklearn-color-background);\n",
       "  text-decoration: none;\n",
       "}\n",
       "\n",
       "div.sk-estimator.fitted:hover .sk-estimator-doc-link.fitted:hover,\n",
       ".sk-estimator-doc-link.fitted:hover,\n",
       "div.sk-label-container:hover .sk-estimator-doc-link.fitted:hover,\n",
       ".sk-estimator-doc-link.fitted:hover {\n",
       "  /* fitted */\n",
       "  background-color: var(--sklearn-color-fitted-level-3);\n",
       "  color: var(--sklearn-color-background);\n",
       "  text-decoration: none;\n",
       "}\n",
       "\n",
       "/* Span, style for the box shown on hovering the info icon */\n",
       ".sk-estimator-doc-link span {\n",
       "  display: none;\n",
       "  z-index: 9999;\n",
       "  position: relative;\n",
       "  font-weight: normal;\n",
       "  right: .2ex;\n",
       "  padding: .5ex;\n",
       "  margin: .5ex;\n",
       "  width: min-content;\n",
       "  min-width: 20ex;\n",
       "  max-width: 50ex;\n",
       "  color: var(--sklearn-color-text);\n",
       "  box-shadow: 2pt 2pt 4pt #999;\n",
       "  /* unfitted */\n",
       "  background: var(--sklearn-color-unfitted-level-0);\n",
       "  border: .5pt solid var(--sklearn-color-unfitted-level-3);\n",
       "}\n",
       "\n",
       ".sk-estimator-doc-link.fitted span {\n",
       "  /* fitted */\n",
       "  background: var(--sklearn-color-fitted-level-0);\n",
       "  border: var(--sklearn-color-fitted-level-3);\n",
       "}\n",
       "\n",
       ".sk-estimator-doc-link:hover span {\n",
       "  display: block;\n",
       "}\n",
       "\n",
       "/* \"?\"-specific style due to the `<a>` HTML tag */\n",
       "\n",
       "#sk-container-id-2 a.estimator_doc_link {\n",
       "  float: right;\n",
       "  font-size: 1rem;\n",
       "  line-height: 1em;\n",
       "  font-family: monospace;\n",
       "  background-color: var(--sklearn-color-background);\n",
       "  border-radius: 1rem;\n",
       "  height: 1rem;\n",
       "  width: 1rem;\n",
       "  text-decoration: none;\n",
       "  /* unfitted */\n",
       "  color: var(--sklearn-color-unfitted-level-1);\n",
       "  border: var(--sklearn-color-unfitted-level-1) 1pt solid;\n",
       "}\n",
       "\n",
       "#sk-container-id-2 a.estimator_doc_link.fitted {\n",
       "  /* fitted */\n",
       "  border: var(--sklearn-color-fitted-level-1) 1pt solid;\n",
       "  color: var(--sklearn-color-fitted-level-1);\n",
       "}\n",
       "\n",
       "/* On hover */\n",
       "#sk-container-id-2 a.estimator_doc_link:hover {\n",
       "  /* unfitted */\n",
       "  background-color: var(--sklearn-color-unfitted-level-3);\n",
       "  color: var(--sklearn-color-background);\n",
       "  text-decoration: none;\n",
       "}\n",
       "\n",
       "#sk-container-id-2 a.estimator_doc_link.fitted:hover {\n",
       "  /* fitted */\n",
       "  background-color: var(--sklearn-color-fitted-level-3);\n",
       "}\n",
       "</style><div id=\"sk-container-id-2\" class=\"sk-top-container\"><div class=\"sk-text-repr-fallback\"><pre>DecisionTreeRegressor()</pre><b>In a Jupyter environment, please rerun this cell to show the HTML representation or trust the notebook. <br />On GitHub, the HTML representation is unable to render, please try loading this page with nbviewer.org.</b></div><div class=\"sk-container\" hidden><div class=\"sk-item\"><div class=\"sk-estimator fitted sk-toggleable\"><input class=\"sk-toggleable__control sk-hidden--visually\" id=\"sk-estimator-id-2\" type=\"checkbox\" checked><label for=\"sk-estimator-id-2\" class=\"sk-toggleable__label fitted sk-toggleable__label-arrow fitted\">&nbsp;&nbsp;DecisionTreeRegressor<a class=\"sk-estimator-doc-link fitted\" rel=\"noreferrer\" target=\"_blank\" href=\"https://scikit-learn.org/1.4/modules/generated/sklearn.tree.DecisionTreeRegressor.html\">?<span>Documentation for DecisionTreeRegressor</span></a><span class=\"sk-estimator-doc-link fitted\">i<span>Fitted</span></span></label><div class=\"sk-toggleable__content fitted\"><pre>DecisionTreeRegressor()</pre></div> </div></div></div></div>"
      ],
      "text/plain": [
       "DecisionTreeRegressor()"
      ]
     },
     "execution_count": 129,
     "metadata": {},
     "output_type": "execute_result"
    }
   ],
   "source": [
    "%%time\n",
    "tree.fit(X_train_transformed,y_train)"
   ]
  },
  {
   "cell_type": "code",
   "execution_count": 132,
   "id": "d4676f6a",
   "metadata": {},
   "outputs": [],
   "source": [
    "y_train_pred1 = tree.predict(X_train_transformed)"
   ]
  },
  {
   "cell_type": "code",
   "execution_count": 133,
   "id": "a0462e4b",
   "metadata": {},
   "outputs": [],
   "source": [
    "y_test_pred1 = tree.predict(X_test_transformed)"
   ]
  },
  {
   "cell_type": "code",
   "execution_count": 134,
   "id": "e810e022",
   "metadata": {},
   "outputs": [
    {
     "name": "stdout",
     "output_type": "stream",
     "text": [
      "Train  score :: 0.0042424095063529595\n",
      "\n",
      "Test  score :: 0.47908484311940713\n"
     ]
    }
   ],
   "source": [
    "print(f\"Train  score :: {metrics.mean_absolute_error(y_train_pred1,y_train)}\")\n",
    "print()\n",
    "print(f\"Test  score :: {metrics.mean_absolute_error(y_test_pred1,y_test)}\")"
   ]
  },
  {
   "cell_type": "code",
   "execution_count": 167,
   "id": "ceb5ff13",
   "metadata": {},
   "outputs": [],
   "source": [
    "tr_train_mae = metrics.mean_absolute_error(y_train_pred1,y_train)"
   ]
  },
  {
   "cell_type": "code",
   "execution_count": 168,
   "id": "225dfa1a",
   "metadata": {},
   "outputs": [],
   "source": [
    "tr_test_mae  = metrics.mean_absolute_error(y_test_pred1,y_test)"
   ]
  },
  {
   "cell_type": "code",
   "execution_count": 135,
   "id": "ed8437eb",
   "metadata": {},
   "outputs": [
    {
     "name": "stdout",
     "output_type": "stream",
     "text": [
      "Train score :: 0.9966652410427322\n",
      "\n",
      "Test score :: 0.3096114878989147\n"
     ]
    }
   ],
   "source": [
    "print(f\"Train score :: {metrics.r2_score(y_train_pred1,y_train)}\")\n",
    "print()\n",
    "print(f\"Test score :: {metrics.r2_score(y_test_pred1,y_test)}\")"
   ]
  },
  {
   "cell_type": "code",
   "execution_count": 169,
   "id": "d16904c2",
   "metadata": {},
   "outputs": [],
   "source": [
    "tr_train_r2 = metrics.r2_score(y_train_pred1,y_train)"
   ]
  },
  {
   "cell_type": "code",
   "execution_count": 170,
   "id": "8e1e0262",
   "metadata": {},
   "outputs": [],
   "source": [
    "tr_test_r2 = metrics.r2_score(y_test_pred1,y_test)"
   ]
  },
  {
   "cell_type": "markdown",
   "id": "1aace853",
   "metadata": {},
   "source": [
    "## C. Random Forest Regressor"
   ]
  },
  {
   "cell_type": "code",
   "execution_count": 136,
   "id": "af1089c5",
   "metadata": {},
   "outputs": [],
   "source": [
    "from sklearn.ensemble import RandomForestRegressor"
   ]
  },
  {
   "cell_type": "code",
   "execution_count": 137,
   "id": "40349da0",
   "metadata": {},
   "outputs": [],
   "source": [
    "random = RandomForestRegressor()"
   ]
  },
  {
   "cell_type": "code",
   "execution_count": 138,
   "id": "78a052b1",
   "metadata": {},
   "outputs": [
    {
     "name": "stdout",
     "output_type": "stream",
     "text": [
      "CPU times: total: 2.25 s\n",
      "Wall time: 4.21 s\n"
     ]
    },
    {
     "data": {
      "text/html": [
       "<style>#sk-container-id-3 {\n",
       "  /* Definition of color scheme common for light and dark mode */\n",
       "  --sklearn-color-text: black;\n",
       "  --sklearn-color-line: gray;\n",
       "  /* Definition of color scheme for unfitted estimators */\n",
       "  --sklearn-color-unfitted-level-0: #fff5e6;\n",
       "  --sklearn-color-unfitted-level-1: #f6e4d2;\n",
       "  --sklearn-color-unfitted-level-2: #ffe0b3;\n",
       "  --sklearn-color-unfitted-level-3: chocolate;\n",
       "  /* Definition of color scheme for fitted estimators */\n",
       "  --sklearn-color-fitted-level-0: #f0f8ff;\n",
       "  --sklearn-color-fitted-level-1: #d4ebff;\n",
       "  --sklearn-color-fitted-level-2: #b3dbfd;\n",
       "  --sklearn-color-fitted-level-3: cornflowerblue;\n",
       "\n",
       "  /* Specific color for light theme */\n",
       "  --sklearn-color-text-on-default-background: var(--sg-text-color, var(--theme-code-foreground, var(--jp-content-font-color1, black)));\n",
       "  --sklearn-color-background: var(--sg-background-color, var(--theme-background, var(--jp-layout-color0, white)));\n",
       "  --sklearn-color-border-box: var(--sg-text-color, var(--theme-code-foreground, var(--jp-content-font-color1, black)));\n",
       "  --sklearn-color-icon: #696969;\n",
       "\n",
       "  @media (prefers-color-scheme: dark) {\n",
       "    /* Redefinition of color scheme for dark theme */\n",
       "    --sklearn-color-text-on-default-background: var(--sg-text-color, var(--theme-code-foreground, var(--jp-content-font-color1, white)));\n",
       "    --sklearn-color-background: var(--sg-background-color, var(--theme-background, var(--jp-layout-color0, #111)));\n",
       "    --sklearn-color-border-box: var(--sg-text-color, var(--theme-code-foreground, var(--jp-content-font-color1, white)));\n",
       "    --sklearn-color-icon: #878787;\n",
       "  }\n",
       "}\n",
       "\n",
       "#sk-container-id-3 {\n",
       "  color: var(--sklearn-color-text);\n",
       "}\n",
       "\n",
       "#sk-container-id-3 pre {\n",
       "  padding: 0;\n",
       "}\n",
       "\n",
       "#sk-container-id-3 input.sk-hidden--visually {\n",
       "  border: 0;\n",
       "  clip: rect(1px 1px 1px 1px);\n",
       "  clip: rect(1px, 1px, 1px, 1px);\n",
       "  height: 1px;\n",
       "  margin: -1px;\n",
       "  overflow: hidden;\n",
       "  padding: 0;\n",
       "  position: absolute;\n",
       "  width: 1px;\n",
       "}\n",
       "\n",
       "#sk-container-id-3 div.sk-dashed-wrapped {\n",
       "  border: 1px dashed var(--sklearn-color-line);\n",
       "  margin: 0 0.4em 0.5em 0.4em;\n",
       "  box-sizing: border-box;\n",
       "  padding-bottom: 0.4em;\n",
       "  background-color: var(--sklearn-color-background);\n",
       "}\n",
       "\n",
       "#sk-container-id-3 div.sk-container {\n",
       "  /* jupyter's `normalize.less` sets `[hidden] { display: none; }`\n",
       "     but bootstrap.min.css set `[hidden] { display: none !important; }`\n",
       "     so we also need the `!important` here to be able to override the\n",
       "     default hidden behavior on the sphinx rendered scikit-learn.org.\n",
       "     See: https://github.com/scikit-learn/scikit-learn/issues/21755 */\n",
       "  display: inline-block !important;\n",
       "  position: relative;\n",
       "}\n",
       "\n",
       "#sk-container-id-3 div.sk-text-repr-fallback {\n",
       "  display: none;\n",
       "}\n",
       "\n",
       "div.sk-parallel-item,\n",
       "div.sk-serial,\n",
       "div.sk-item {\n",
       "  /* draw centered vertical line to link estimators */\n",
       "  background-image: linear-gradient(var(--sklearn-color-text-on-default-background), var(--sklearn-color-text-on-default-background));\n",
       "  background-size: 2px 100%;\n",
       "  background-repeat: no-repeat;\n",
       "  background-position: center center;\n",
       "}\n",
       "\n",
       "/* Parallel-specific style estimator block */\n",
       "\n",
       "#sk-container-id-3 div.sk-parallel-item::after {\n",
       "  content: \"\";\n",
       "  width: 100%;\n",
       "  border-bottom: 2px solid var(--sklearn-color-text-on-default-background);\n",
       "  flex-grow: 1;\n",
       "}\n",
       "\n",
       "#sk-container-id-3 div.sk-parallel {\n",
       "  display: flex;\n",
       "  align-items: stretch;\n",
       "  justify-content: center;\n",
       "  background-color: var(--sklearn-color-background);\n",
       "  position: relative;\n",
       "}\n",
       "\n",
       "#sk-container-id-3 div.sk-parallel-item {\n",
       "  display: flex;\n",
       "  flex-direction: column;\n",
       "}\n",
       "\n",
       "#sk-container-id-3 div.sk-parallel-item:first-child::after {\n",
       "  align-self: flex-end;\n",
       "  width: 50%;\n",
       "}\n",
       "\n",
       "#sk-container-id-3 div.sk-parallel-item:last-child::after {\n",
       "  align-self: flex-start;\n",
       "  width: 50%;\n",
       "}\n",
       "\n",
       "#sk-container-id-3 div.sk-parallel-item:only-child::after {\n",
       "  width: 0;\n",
       "}\n",
       "\n",
       "/* Serial-specific style estimator block */\n",
       "\n",
       "#sk-container-id-3 div.sk-serial {\n",
       "  display: flex;\n",
       "  flex-direction: column;\n",
       "  align-items: center;\n",
       "  background-color: var(--sklearn-color-background);\n",
       "  padding-right: 1em;\n",
       "  padding-left: 1em;\n",
       "}\n",
       "\n",
       "\n",
       "/* Toggleable style: style used for estimator/Pipeline/ColumnTransformer box that is\n",
       "clickable and can be expanded/collapsed.\n",
       "- Pipeline and ColumnTransformer use this feature and define the default style\n",
       "- Estimators will overwrite some part of the style using the `sk-estimator` class\n",
       "*/\n",
       "\n",
       "/* Pipeline and ColumnTransformer style (default) */\n",
       "\n",
       "#sk-container-id-3 div.sk-toggleable {\n",
       "  /* Default theme specific background. It is overwritten whether we have a\n",
       "  specific estimator or a Pipeline/ColumnTransformer */\n",
       "  background-color: var(--sklearn-color-background);\n",
       "}\n",
       "\n",
       "/* Toggleable label */\n",
       "#sk-container-id-3 label.sk-toggleable__label {\n",
       "  cursor: pointer;\n",
       "  display: block;\n",
       "  width: 100%;\n",
       "  margin-bottom: 0;\n",
       "  padding: 0.5em;\n",
       "  box-sizing: border-box;\n",
       "  text-align: center;\n",
       "}\n",
       "\n",
       "#sk-container-id-3 label.sk-toggleable__label-arrow:before {\n",
       "  /* Arrow on the left of the label */\n",
       "  content: \"▸\";\n",
       "  float: left;\n",
       "  margin-right: 0.25em;\n",
       "  color: var(--sklearn-color-icon);\n",
       "}\n",
       "\n",
       "#sk-container-id-3 label.sk-toggleable__label-arrow:hover:before {\n",
       "  color: var(--sklearn-color-text);\n",
       "}\n",
       "\n",
       "/* Toggleable content - dropdown */\n",
       "\n",
       "#sk-container-id-3 div.sk-toggleable__content {\n",
       "  max-height: 0;\n",
       "  max-width: 0;\n",
       "  overflow: hidden;\n",
       "  text-align: left;\n",
       "  /* unfitted */\n",
       "  background-color: var(--sklearn-color-unfitted-level-0);\n",
       "}\n",
       "\n",
       "#sk-container-id-3 div.sk-toggleable__content.fitted {\n",
       "  /* fitted */\n",
       "  background-color: var(--sklearn-color-fitted-level-0);\n",
       "}\n",
       "\n",
       "#sk-container-id-3 div.sk-toggleable__content pre {\n",
       "  margin: 0.2em;\n",
       "  border-radius: 0.25em;\n",
       "  color: var(--sklearn-color-text);\n",
       "  /* unfitted */\n",
       "  background-color: var(--sklearn-color-unfitted-level-0);\n",
       "}\n",
       "\n",
       "#sk-container-id-3 div.sk-toggleable__content.fitted pre {\n",
       "  /* unfitted */\n",
       "  background-color: var(--sklearn-color-fitted-level-0);\n",
       "}\n",
       "\n",
       "#sk-container-id-3 input.sk-toggleable__control:checked~div.sk-toggleable__content {\n",
       "  /* Expand drop-down */\n",
       "  max-height: 200px;\n",
       "  max-width: 100%;\n",
       "  overflow: auto;\n",
       "}\n",
       "\n",
       "#sk-container-id-3 input.sk-toggleable__control:checked~label.sk-toggleable__label-arrow:before {\n",
       "  content: \"▾\";\n",
       "}\n",
       "\n",
       "/* Pipeline/ColumnTransformer-specific style */\n",
       "\n",
       "#sk-container-id-3 div.sk-label input.sk-toggleable__control:checked~label.sk-toggleable__label {\n",
       "  color: var(--sklearn-color-text);\n",
       "  background-color: var(--sklearn-color-unfitted-level-2);\n",
       "}\n",
       "\n",
       "#sk-container-id-3 div.sk-label.fitted input.sk-toggleable__control:checked~label.sk-toggleable__label {\n",
       "  background-color: var(--sklearn-color-fitted-level-2);\n",
       "}\n",
       "\n",
       "/* Estimator-specific style */\n",
       "\n",
       "/* Colorize estimator box */\n",
       "#sk-container-id-3 div.sk-estimator input.sk-toggleable__control:checked~label.sk-toggleable__label {\n",
       "  /* unfitted */\n",
       "  background-color: var(--sklearn-color-unfitted-level-2);\n",
       "}\n",
       "\n",
       "#sk-container-id-3 div.sk-estimator.fitted input.sk-toggleable__control:checked~label.sk-toggleable__label {\n",
       "  /* fitted */\n",
       "  background-color: var(--sklearn-color-fitted-level-2);\n",
       "}\n",
       "\n",
       "#sk-container-id-3 div.sk-label label.sk-toggleable__label,\n",
       "#sk-container-id-3 div.sk-label label {\n",
       "  /* The background is the default theme color */\n",
       "  color: var(--sklearn-color-text-on-default-background);\n",
       "}\n",
       "\n",
       "/* On hover, darken the color of the background */\n",
       "#sk-container-id-3 div.sk-label:hover label.sk-toggleable__label {\n",
       "  color: var(--sklearn-color-text);\n",
       "  background-color: var(--sklearn-color-unfitted-level-2);\n",
       "}\n",
       "\n",
       "/* Label box, darken color on hover, fitted */\n",
       "#sk-container-id-3 div.sk-label.fitted:hover label.sk-toggleable__label.fitted {\n",
       "  color: var(--sklearn-color-text);\n",
       "  background-color: var(--sklearn-color-fitted-level-2);\n",
       "}\n",
       "\n",
       "/* Estimator label */\n",
       "\n",
       "#sk-container-id-3 div.sk-label label {\n",
       "  font-family: monospace;\n",
       "  font-weight: bold;\n",
       "  display: inline-block;\n",
       "  line-height: 1.2em;\n",
       "}\n",
       "\n",
       "#sk-container-id-3 div.sk-label-container {\n",
       "  text-align: center;\n",
       "}\n",
       "\n",
       "/* Estimator-specific */\n",
       "#sk-container-id-3 div.sk-estimator {\n",
       "  font-family: monospace;\n",
       "  border: 1px dotted var(--sklearn-color-border-box);\n",
       "  border-radius: 0.25em;\n",
       "  box-sizing: border-box;\n",
       "  margin-bottom: 0.5em;\n",
       "  /* unfitted */\n",
       "  background-color: var(--sklearn-color-unfitted-level-0);\n",
       "}\n",
       "\n",
       "#sk-container-id-3 div.sk-estimator.fitted {\n",
       "  /* fitted */\n",
       "  background-color: var(--sklearn-color-fitted-level-0);\n",
       "}\n",
       "\n",
       "/* on hover */\n",
       "#sk-container-id-3 div.sk-estimator:hover {\n",
       "  /* unfitted */\n",
       "  background-color: var(--sklearn-color-unfitted-level-2);\n",
       "}\n",
       "\n",
       "#sk-container-id-3 div.sk-estimator.fitted:hover {\n",
       "  /* fitted */\n",
       "  background-color: var(--sklearn-color-fitted-level-2);\n",
       "}\n",
       "\n",
       "/* Specification for estimator info (e.g. \"i\" and \"?\") */\n",
       "\n",
       "/* Common style for \"i\" and \"?\" */\n",
       "\n",
       ".sk-estimator-doc-link,\n",
       "a:link.sk-estimator-doc-link,\n",
       "a:visited.sk-estimator-doc-link {\n",
       "  float: right;\n",
       "  font-size: smaller;\n",
       "  line-height: 1em;\n",
       "  font-family: monospace;\n",
       "  background-color: var(--sklearn-color-background);\n",
       "  border-radius: 1em;\n",
       "  height: 1em;\n",
       "  width: 1em;\n",
       "  text-decoration: none !important;\n",
       "  margin-left: 1ex;\n",
       "  /* unfitted */\n",
       "  border: var(--sklearn-color-unfitted-level-1) 1pt solid;\n",
       "  color: var(--sklearn-color-unfitted-level-1);\n",
       "}\n",
       "\n",
       ".sk-estimator-doc-link.fitted,\n",
       "a:link.sk-estimator-doc-link.fitted,\n",
       "a:visited.sk-estimator-doc-link.fitted {\n",
       "  /* fitted */\n",
       "  border: var(--sklearn-color-fitted-level-1) 1pt solid;\n",
       "  color: var(--sklearn-color-fitted-level-1);\n",
       "}\n",
       "\n",
       "/* On hover */\n",
       "div.sk-estimator:hover .sk-estimator-doc-link:hover,\n",
       ".sk-estimator-doc-link:hover,\n",
       "div.sk-label-container:hover .sk-estimator-doc-link:hover,\n",
       ".sk-estimator-doc-link:hover {\n",
       "  /* unfitted */\n",
       "  background-color: var(--sklearn-color-unfitted-level-3);\n",
       "  color: var(--sklearn-color-background);\n",
       "  text-decoration: none;\n",
       "}\n",
       "\n",
       "div.sk-estimator.fitted:hover .sk-estimator-doc-link.fitted:hover,\n",
       ".sk-estimator-doc-link.fitted:hover,\n",
       "div.sk-label-container:hover .sk-estimator-doc-link.fitted:hover,\n",
       ".sk-estimator-doc-link.fitted:hover {\n",
       "  /* fitted */\n",
       "  background-color: var(--sklearn-color-fitted-level-3);\n",
       "  color: var(--sklearn-color-background);\n",
       "  text-decoration: none;\n",
       "}\n",
       "\n",
       "/* Span, style for the box shown on hovering the info icon */\n",
       ".sk-estimator-doc-link span {\n",
       "  display: none;\n",
       "  z-index: 9999;\n",
       "  position: relative;\n",
       "  font-weight: normal;\n",
       "  right: .2ex;\n",
       "  padding: .5ex;\n",
       "  margin: .5ex;\n",
       "  width: min-content;\n",
       "  min-width: 20ex;\n",
       "  max-width: 50ex;\n",
       "  color: var(--sklearn-color-text);\n",
       "  box-shadow: 2pt 2pt 4pt #999;\n",
       "  /* unfitted */\n",
       "  background: var(--sklearn-color-unfitted-level-0);\n",
       "  border: .5pt solid var(--sklearn-color-unfitted-level-3);\n",
       "}\n",
       "\n",
       ".sk-estimator-doc-link.fitted span {\n",
       "  /* fitted */\n",
       "  background: var(--sklearn-color-fitted-level-0);\n",
       "  border: var(--sklearn-color-fitted-level-3);\n",
       "}\n",
       "\n",
       ".sk-estimator-doc-link:hover span {\n",
       "  display: block;\n",
       "}\n",
       "\n",
       "/* \"?\"-specific style due to the `<a>` HTML tag */\n",
       "\n",
       "#sk-container-id-3 a.estimator_doc_link {\n",
       "  float: right;\n",
       "  font-size: 1rem;\n",
       "  line-height: 1em;\n",
       "  font-family: monospace;\n",
       "  background-color: var(--sklearn-color-background);\n",
       "  border-radius: 1rem;\n",
       "  height: 1rem;\n",
       "  width: 1rem;\n",
       "  text-decoration: none;\n",
       "  /* unfitted */\n",
       "  color: var(--sklearn-color-unfitted-level-1);\n",
       "  border: var(--sklearn-color-unfitted-level-1) 1pt solid;\n",
       "}\n",
       "\n",
       "#sk-container-id-3 a.estimator_doc_link.fitted {\n",
       "  /* fitted */\n",
       "  border: var(--sklearn-color-fitted-level-1) 1pt solid;\n",
       "  color: var(--sklearn-color-fitted-level-1);\n",
       "}\n",
       "\n",
       "/* On hover */\n",
       "#sk-container-id-3 a.estimator_doc_link:hover {\n",
       "  /* unfitted */\n",
       "  background-color: var(--sklearn-color-unfitted-level-3);\n",
       "  color: var(--sklearn-color-background);\n",
       "  text-decoration: none;\n",
       "}\n",
       "\n",
       "#sk-container-id-3 a.estimator_doc_link.fitted:hover {\n",
       "  /* fitted */\n",
       "  background-color: var(--sklearn-color-fitted-level-3);\n",
       "}\n",
       "</style><div id=\"sk-container-id-3\" class=\"sk-top-container\"><div class=\"sk-text-repr-fallback\"><pre>RandomForestRegressor()</pre><b>In a Jupyter environment, please rerun this cell to show the HTML representation or trust the notebook. <br />On GitHub, the HTML representation is unable to render, please try loading this page with nbviewer.org.</b></div><div class=\"sk-container\" hidden><div class=\"sk-item\"><div class=\"sk-estimator fitted sk-toggleable\"><input class=\"sk-toggleable__control sk-hidden--visually\" id=\"sk-estimator-id-3\" type=\"checkbox\" checked><label for=\"sk-estimator-id-3\" class=\"sk-toggleable__label fitted sk-toggleable__label-arrow fitted\">&nbsp;&nbsp;RandomForestRegressor<a class=\"sk-estimator-doc-link fitted\" rel=\"noreferrer\" target=\"_blank\" href=\"https://scikit-learn.org/1.4/modules/generated/sklearn.ensemble.RandomForestRegressor.html\">?<span>Documentation for RandomForestRegressor</span></a><span class=\"sk-estimator-doc-link fitted\">i<span>Fitted</span></span></label><div class=\"sk-toggleable__content fitted\"><pre>RandomForestRegressor()</pre></div> </div></div></div></div>"
      ],
      "text/plain": [
       "RandomForestRegressor()"
      ]
     },
     "execution_count": 138,
     "metadata": {},
     "output_type": "execute_result"
    }
   ],
   "source": [
    "%%time\n",
    "random.fit(X_train_transformed,y_train)"
   ]
  },
  {
   "cell_type": "code",
   "execution_count": 139,
   "id": "8e252d0e",
   "metadata": {},
   "outputs": [],
   "source": [
    "y_train_pred2 = random.predict(X_train_transformed)"
   ]
  },
  {
   "cell_type": "code",
   "execution_count": 140,
   "id": "8598f437",
   "metadata": {},
   "outputs": [],
   "source": [
    "y_test_pred2 = random.predict(X_test_transformed)"
   ]
  },
  {
   "cell_type": "code",
   "execution_count": 141,
   "id": "08eae238",
   "metadata": {},
   "outputs": [
    {
     "name": "stdout",
     "output_type": "stream",
     "text": [
      "Train  score :: 0.13415070953934516\n",
      "\n",
      "Test  score :: 0.35173103789892385\n"
     ]
    }
   ],
   "source": [
    "print(f\"Train  score :: {metrics.mean_absolute_error(y_train_pred2,y_train)}\")\n",
    "print()\n",
    "print(f\"Test  score :: {metrics.mean_absolute_error(y_test_pred2,y_test)}\")"
   ]
  },
  {
   "cell_type": "code",
   "execution_count": 171,
   "id": "82fe4037",
   "metadata": {},
   "outputs": [],
   "source": [
    "rf_train_mae = metrics.mean_absolute_error(y_train_pred2,y_train)"
   ]
  },
  {
   "cell_type": "code",
   "execution_count": 172,
   "id": "38ed0028",
   "metadata": {},
   "outputs": [],
   "source": [
    "rf_test_mae = metrics.mean_absolute_error(y_test_pred2,y_test)"
   ]
  },
  {
   "cell_type": "code",
   "execution_count": 142,
   "id": "917457a8",
   "metadata": {},
   "outputs": [
    {
     "name": "stdout",
     "output_type": "stream",
     "text": [
      "Train score :: 0.9299662523234827\n",
      "\n",
      "Test score :: 0.46971709502418524\n"
     ]
    }
   ],
   "source": [
    "print(f\"Train score :: {metrics.r2_score(y_train_pred2,y_train)}\")\n",
    "print()\n",
    "print(f\"Test score :: {metrics.r2_score(y_test_pred2,y_test)}\")"
   ]
  },
  {
   "cell_type": "code",
   "execution_count": 173,
   "id": "1ba4db45",
   "metadata": {},
   "outputs": [],
   "source": [
    "rf_train_r2 = metrics.r2_score(y_train_pred2,y_train)"
   ]
  },
  {
   "cell_type": "code",
   "execution_count": 174,
   "id": "3c0ea88d",
   "metadata": {},
   "outputs": [],
   "source": [
    "rf_test_r2 = metrics.r2_score(y_test_pred2,y_test)"
   ]
  },
  {
   "cell_type": "markdown",
   "id": "4ad78922",
   "metadata": {},
   "source": [
    "## D. Support Vector Regressor"
   ]
  },
  {
   "cell_type": "code",
   "execution_count": 146,
   "id": "8c32c3eb",
   "metadata": {},
   "outputs": [],
   "source": [
    "from sklearn.svm import SVR"
   ]
  },
  {
   "cell_type": "code",
   "execution_count": 147,
   "id": "35f9406e",
   "metadata": {},
   "outputs": [],
   "source": [
    "svm = SVR()"
   ]
  },
  {
   "cell_type": "code",
   "execution_count": 148,
   "id": "7f2cd601",
   "metadata": {},
   "outputs": [
    {
     "name": "stdout",
     "output_type": "stream",
     "text": [
      "CPU times: total: 2.33 s\n",
      "Wall time: 4.74 s\n"
     ]
    },
    {
     "data": {
      "text/html": [
       "<style>#sk-container-id-4 {\n",
       "  /* Definition of color scheme common for light and dark mode */\n",
       "  --sklearn-color-text: black;\n",
       "  --sklearn-color-line: gray;\n",
       "  /* Definition of color scheme for unfitted estimators */\n",
       "  --sklearn-color-unfitted-level-0: #fff5e6;\n",
       "  --sklearn-color-unfitted-level-1: #f6e4d2;\n",
       "  --sklearn-color-unfitted-level-2: #ffe0b3;\n",
       "  --sklearn-color-unfitted-level-3: chocolate;\n",
       "  /* Definition of color scheme for fitted estimators */\n",
       "  --sklearn-color-fitted-level-0: #f0f8ff;\n",
       "  --sklearn-color-fitted-level-1: #d4ebff;\n",
       "  --sklearn-color-fitted-level-2: #b3dbfd;\n",
       "  --sklearn-color-fitted-level-3: cornflowerblue;\n",
       "\n",
       "  /* Specific color for light theme */\n",
       "  --sklearn-color-text-on-default-background: var(--sg-text-color, var(--theme-code-foreground, var(--jp-content-font-color1, black)));\n",
       "  --sklearn-color-background: var(--sg-background-color, var(--theme-background, var(--jp-layout-color0, white)));\n",
       "  --sklearn-color-border-box: var(--sg-text-color, var(--theme-code-foreground, var(--jp-content-font-color1, black)));\n",
       "  --sklearn-color-icon: #696969;\n",
       "\n",
       "  @media (prefers-color-scheme: dark) {\n",
       "    /* Redefinition of color scheme for dark theme */\n",
       "    --sklearn-color-text-on-default-background: var(--sg-text-color, var(--theme-code-foreground, var(--jp-content-font-color1, white)));\n",
       "    --sklearn-color-background: var(--sg-background-color, var(--theme-background, var(--jp-layout-color0, #111)));\n",
       "    --sklearn-color-border-box: var(--sg-text-color, var(--theme-code-foreground, var(--jp-content-font-color1, white)));\n",
       "    --sklearn-color-icon: #878787;\n",
       "  }\n",
       "}\n",
       "\n",
       "#sk-container-id-4 {\n",
       "  color: var(--sklearn-color-text);\n",
       "}\n",
       "\n",
       "#sk-container-id-4 pre {\n",
       "  padding: 0;\n",
       "}\n",
       "\n",
       "#sk-container-id-4 input.sk-hidden--visually {\n",
       "  border: 0;\n",
       "  clip: rect(1px 1px 1px 1px);\n",
       "  clip: rect(1px, 1px, 1px, 1px);\n",
       "  height: 1px;\n",
       "  margin: -1px;\n",
       "  overflow: hidden;\n",
       "  padding: 0;\n",
       "  position: absolute;\n",
       "  width: 1px;\n",
       "}\n",
       "\n",
       "#sk-container-id-4 div.sk-dashed-wrapped {\n",
       "  border: 1px dashed var(--sklearn-color-line);\n",
       "  margin: 0 0.4em 0.5em 0.4em;\n",
       "  box-sizing: border-box;\n",
       "  padding-bottom: 0.4em;\n",
       "  background-color: var(--sklearn-color-background);\n",
       "}\n",
       "\n",
       "#sk-container-id-4 div.sk-container {\n",
       "  /* jupyter's `normalize.less` sets `[hidden] { display: none; }`\n",
       "     but bootstrap.min.css set `[hidden] { display: none !important; }`\n",
       "     so we also need the `!important` here to be able to override the\n",
       "     default hidden behavior on the sphinx rendered scikit-learn.org.\n",
       "     See: https://github.com/scikit-learn/scikit-learn/issues/21755 */\n",
       "  display: inline-block !important;\n",
       "  position: relative;\n",
       "}\n",
       "\n",
       "#sk-container-id-4 div.sk-text-repr-fallback {\n",
       "  display: none;\n",
       "}\n",
       "\n",
       "div.sk-parallel-item,\n",
       "div.sk-serial,\n",
       "div.sk-item {\n",
       "  /* draw centered vertical line to link estimators */\n",
       "  background-image: linear-gradient(var(--sklearn-color-text-on-default-background), var(--sklearn-color-text-on-default-background));\n",
       "  background-size: 2px 100%;\n",
       "  background-repeat: no-repeat;\n",
       "  background-position: center center;\n",
       "}\n",
       "\n",
       "/* Parallel-specific style estimator block */\n",
       "\n",
       "#sk-container-id-4 div.sk-parallel-item::after {\n",
       "  content: \"\";\n",
       "  width: 100%;\n",
       "  border-bottom: 2px solid var(--sklearn-color-text-on-default-background);\n",
       "  flex-grow: 1;\n",
       "}\n",
       "\n",
       "#sk-container-id-4 div.sk-parallel {\n",
       "  display: flex;\n",
       "  align-items: stretch;\n",
       "  justify-content: center;\n",
       "  background-color: var(--sklearn-color-background);\n",
       "  position: relative;\n",
       "}\n",
       "\n",
       "#sk-container-id-4 div.sk-parallel-item {\n",
       "  display: flex;\n",
       "  flex-direction: column;\n",
       "}\n",
       "\n",
       "#sk-container-id-4 div.sk-parallel-item:first-child::after {\n",
       "  align-self: flex-end;\n",
       "  width: 50%;\n",
       "}\n",
       "\n",
       "#sk-container-id-4 div.sk-parallel-item:last-child::after {\n",
       "  align-self: flex-start;\n",
       "  width: 50%;\n",
       "}\n",
       "\n",
       "#sk-container-id-4 div.sk-parallel-item:only-child::after {\n",
       "  width: 0;\n",
       "}\n",
       "\n",
       "/* Serial-specific style estimator block */\n",
       "\n",
       "#sk-container-id-4 div.sk-serial {\n",
       "  display: flex;\n",
       "  flex-direction: column;\n",
       "  align-items: center;\n",
       "  background-color: var(--sklearn-color-background);\n",
       "  padding-right: 1em;\n",
       "  padding-left: 1em;\n",
       "}\n",
       "\n",
       "\n",
       "/* Toggleable style: style used for estimator/Pipeline/ColumnTransformer box that is\n",
       "clickable and can be expanded/collapsed.\n",
       "- Pipeline and ColumnTransformer use this feature and define the default style\n",
       "- Estimators will overwrite some part of the style using the `sk-estimator` class\n",
       "*/\n",
       "\n",
       "/* Pipeline and ColumnTransformer style (default) */\n",
       "\n",
       "#sk-container-id-4 div.sk-toggleable {\n",
       "  /* Default theme specific background. It is overwritten whether we have a\n",
       "  specific estimator or a Pipeline/ColumnTransformer */\n",
       "  background-color: var(--sklearn-color-background);\n",
       "}\n",
       "\n",
       "/* Toggleable label */\n",
       "#sk-container-id-4 label.sk-toggleable__label {\n",
       "  cursor: pointer;\n",
       "  display: block;\n",
       "  width: 100%;\n",
       "  margin-bottom: 0;\n",
       "  padding: 0.5em;\n",
       "  box-sizing: border-box;\n",
       "  text-align: center;\n",
       "}\n",
       "\n",
       "#sk-container-id-4 label.sk-toggleable__label-arrow:before {\n",
       "  /* Arrow on the left of the label */\n",
       "  content: \"▸\";\n",
       "  float: left;\n",
       "  margin-right: 0.25em;\n",
       "  color: var(--sklearn-color-icon);\n",
       "}\n",
       "\n",
       "#sk-container-id-4 label.sk-toggleable__label-arrow:hover:before {\n",
       "  color: var(--sklearn-color-text);\n",
       "}\n",
       "\n",
       "/* Toggleable content - dropdown */\n",
       "\n",
       "#sk-container-id-4 div.sk-toggleable__content {\n",
       "  max-height: 0;\n",
       "  max-width: 0;\n",
       "  overflow: hidden;\n",
       "  text-align: left;\n",
       "  /* unfitted */\n",
       "  background-color: var(--sklearn-color-unfitted-level-0);\n",
       "}\n",
       "\n",
       "#sk-container-id-4 div.sk-toggleable__content.fitted {\n",
       "  /* fitted */\n",
       "  background-color: var(--sklearn-color-fitted-level-0);\n",
       "}\n",
       "\n",
       "#sk-container-id-4 div.sk-toggleable__content pre {\n",
       "  margin: 0.2em;\n",
       "  border-radius: 0.25em;\n",
       "  color: var(--sklearn-color-text);\n",
       "  /* unfitted */\n",
       "  background-color: var(--sklearn-color-unfitted-level-0);\n",
       "}\n",
       "\n",
       "#sk-container-id-4 div.sk-toggleable__content.fitted pre {\n",
       "  /* unfitted */\n",
       "  background-color: var(--sklearn-color-fitted-level-0);\n",
       "}\n",
       "\n",
       "#sk-container-id-4 input.sk-toggleable__control:checked~div.sk-toggleable__content {\n",
       "  /* Expand drop-down */\n",
       "  max-height: 200px;\n",
       "  max-width: 100%;\n",
       "  overflow: auto;\n",
       "}\n",
       "\n",
       "#sk-container-id-4 input.sk-toggleable__control:checked~label.sk-toggleable__label-arrow:before {\n",
       "  content: \"▾\";\n",
       "}\n",
       "\n",
       "/* Pipeline/ColumnTransformer-specific style */\n",
       "\n",
       "#sk-container-id-4 div.sk-label input.sk-toggleable__control:checked~label.sk-toggleable__label {\n",
       "  color: var(--sklearn-color-text);\n",
       "  background-color: var(--sklearn-color-unfitted-level-2);\n",
       "}\n",
       "\n",
       "#sk-container-id-4 div.sk-label.fitted input.sk-toggleable__control:checked~label.sk-toggleable__label {\n",
       "  background-color: var(--sklearn-color-fitted-level-2);\n",
       "}\n",
       "\n",
       "/* Estimator-specific style */\n",
       "\n",
       "/* Colorize estimator box */\n",
       "#sk-container-id-4 div.sk-estimator input.sk-toggleable__control:checked~label.sk-toggleable__label {\n",
       "  /* unfitted */\n",
       "  background-color: var(--sklearn-color-unfitted-level-2);\n",
       "}\n",
       "\n",
       "#sk-container-id-4 div.sk-estimator.fitted input.sk-toggleable__control:checked~label.sk-toggleable__label {\n",
       "  /* fitted */\n",
       "  background-color: var(--sklearn-color-fitted-level-2);\n",
       "}\n",
       "\n",
       "#sk-container-id-4 div.sk-label label.sk-toggleable__label,\n",
       "#sk-container-id-4 div.sk-label label {\n",
       "  /* The background is the default theme color */\n",
       "  color: var(--sklearn-color-text-on-default-background);\n",
       "}\n",
       "\n",
       "/* On hover, darken the color of the background */\n",
       "#sk-container-id-4 div.sk-label:hover label.sk-toggleable__label {\n",
       "  color: var(--sklearn-color-text);\n",
       "  background-color: var(--sklearn-color-unfitted-level-2);\n",
       "}\n",
       "\n",
       "/* Label box, darken color on hover, fitted */\n",
       "#sk-container-id-4 div.sk-label.fitted:hover label.sk-toggleable__label.fitted {\n",
       "  color: var(--sklearn-color-text);\n",
       "  background-color: var(--sklearn-color-fitted-level-2);\n",
       "}\n",
       "\n",
       "/* Estimator label */\n",
       "\n",
       "#sk-container-id-4 div.sk-label label {\n",
       "  font-family: monospace;\n",
       "  font-weight: bold;\n",
       "  display: inline-block;\n",
       "  line-height: 1.2em;\n",
       "}\n",
       "\n",
       "#sk-container-id-4 div.sk-label-container {\n",
       "  text-align: center;\n",
       "}\n",
       "\n",
       "/* Estimator-specific */\n",
       "#sk-container-id-4 div.sk-estimator {\n",
       "  font-family: monospace;\n",
       "  border: 1px dotted var(--sklearn-color-border-box);\n",
       "  border-radius: 0.25em;\n",
       "  box-sizing: border-box;\n",
       "  margin-bottom: 0.5em;\n",
       "  /* unfitted */\n",
       "  background-color: var(--sklearn-color-unfitted-level-0);\n",
       "}\n",
       "\n",
       "#sk-container-id-4 div.sk-estimator.fitted {\n",
       "  /* fitted */\n",
       "  background-color: var(--sklearn-color-fitted-level-0);\n",
       "}\n",
       "\n",
       "/* on hover */\n",
       "#sk-container-id-4 div.sk-estimator:hover {\n",
       "  /* unfitted */\n",
       "  background-color: var(--sklearn-color-unfitted-level-2);\n",
       "}\n",
       "\n",
       "#sk-container-id-4 div.sk-estimator.fitted:hover {\n",
       "  /* fitted */\n",
       "  background-color: var(--sklearn-color-fitted-level-2);\n",
       "}\n",
       "\n",
       "/* Specification for estimator info (e.g. \"i\" and \"?\") */\n",
       "\n",
       "/* Common style for \"i\" and \"?\" */\n",
       "\n",
       ".sk-estimator-doc-link,\n",
       "a:link.sk-estimator-doc-link,\n",
       "a:visited.sk-estimator-doc-link {\n",
       "  float: right;\n",
       "  font-size: smaller;\n",
       "  line-height: 1em;\n",
       "  font-family: monospace;\n",
       "  background-color: var(--sklearn-color-background);\n",
       "  border-radius: 1em;\n",
       "  height: 1em;\n",
       "  width: 1em;\n",
       "  text-decoration: none !important;\n",
       "  margin-left: 1ex;\n",
       "  /* unfitted */\n",
       "  border: var(--sklearn-color-unfitted-level-1) 1pt solid;\n",
       "  color: var(--sklearn-color-unfitted-level-1);\n",
       "}\n",
       "\n",
       ".sk-estimator-doc-link.fitted,\n",
       "a:link.sk-estimator-doc-link.fitted,\n",
       "a:visited.sk-estimator-doc-link.fitted {\n",
       "  /* fitted */\n",
       "  border: var(--sklearn-color-fitted-level-1) 1pt solid;\n",
       "  color: var(--sklearn-color-fitted-level-1);\n",
       "}\n",
       "\n",
       "/* On hover */\n",
       "div.sk-estimator:hover .sk-estimator-doc-link:hover,\n",
       ".sk-estimator-doc-link:hover,\n",
       "div.sk-label-container:hover .sk-estimator-doc-link:hover,\n",
       ".sk-estimator-doc-link:hover {\n",
       "  /* unfitted */\n",
       "  background-color: var(--sklearn-color-unfitted-level-3);\n",
       "  color: var(--sklearn-color-background);\n",
       "  text-decoration: none;\n",
       "}\n",
       "\n",
       "div.sk-estimator.fitted:hover .sk-estimator-doc-link.fitted:hover,\n",
       ".sk-estimator-doc-link.fitted:hover,\n",
       "div.sk-label-container:hover .sk-estimator-doc-link.fitted:hover,\n",
       ".sk-estimator-doc-link.fitted:hover {\n",
       "  /* fitted */\n",
       "  background-color: var(--sklearn-color-fitted-level-3);\n",
       "  color: var(--sklearn-color-background);\n",
       "  text-decoration: none;\n",
       "}\n",
       "\n",
       "/* Span, style for the box shown on hovering the info icon */\n",
       ".sk-estimator-doc-link span {\n",
       "  display: none;\n",
       "  z-index: 9999;\n",
       "  position: relative;\n",
       "  font-weight: normal;\n",
       "  right: .2ex;\n",
       "  padding: .5ex;\n",
       "  margin: .5ex;\n",
       "  width: min-content;\n",
       "  min-width: 20ex;\n",
       "  max-width: 50ex;\n",
       "  color: var(--sklearn-color-text);\n",
       "  box-shadow: 2pt 2pt 4pt #999;\n",
       "  /* unfitted */\n",
       "  background: var(--sklearn-color-unfitted-level-0);\n",
       "  border: .5pt solid var(--sklearn-color-unfitted-level-3);\n",
       "}\n",
       "\n",
       ".sk-estimator-doc-link.fitted span {\n",
       "  /* fitted */\n",
       "  background: var(--sklearn-color-fitted-level-0);\n",
       "  border: var(--sklearn-color-fitted-level-3);\n",
       "}\n",
       "\n",
       ".sk-estimator-doc-link:hover span {\n",
       "  display: block;\n",
       "}\n",
       "\n",
       "/* \"?\"-specific style due to the `<a>` HTML tag */\n",
       "\n",
       "#sk-container-id-4 a.estimator_doc_link {\n",
       "  float: right;\n",
       "  font-size: 1rem;\n",
       "  line-height: 1em;\n",
       "  font-family: monospace;\n",
       "  background-color: var(--sklearn-color-background);\n",
       "  border-radius: 1rem;\n",
       "  height: 1rem;\n",
       "  width: 1rem;\n",
       "  text-decoration: none;\n",
       "  /* unfitted */\n",
       "  color: var(--sklearn-color-unfitted-level-1);\n",
       "  border: var(--sklearn-color-unfitted-level-1) 1pt solid;\n",
       "}\n",
       "\n",
       "#sk-container-id-4 a.estimator_doc_link.fitted {\n",
       "  /* fitted */\n",
       "  border: var(--sklearn-color-fitted-level-1) 1pt solid;\n",
       "  color: var(--sklearn-color-fitted-level-1);\n",
       "}\n",
       "\n",
       "/* On hover */\n",
       "#sk-container-id-4 a.estimator_doc_link:hover {\n",
       "  /* unfitted */\n",
       "  background-color: var(--sklearn-color-unfitted-level-3);\n",
       "  color: var(--sklearn-color-background);\n",
       "  text-decoration: none;\n",
       "}\n",
       "\n",
       "#sk-container-id-4 a.estimator_doc_link.fitted:hover {\n",
       "  /* fitted */\n",
       "  background-color: var(--sklearn-color-fitted-level-3);\n",
       "}\n",
       "</style><div id=\"sk-container-id-4\" class=\"sk-top-container\"><div class=\"sk-text-repr-fallback\"><pre>SVR()</pre><b>In a Jupyter environment, please rerun this cell to show the HTML representation or trust the notebook. <br />On GitHub, the HTML representation is unable to render, please try loading this page with nbviewer.org.</b></div><div class=\"sk-container\" hidden><div class=\"sk-item\"><div class=\"sk-estimator fitted sk-toggleable\"><input class=\"sk-toggleable__control sk-hidden--visually\" id=\"sk-estimator-id-4\" type=\"checkbox\" checked><label for=\"sk-estimator-id-4\" class=\"sk-toggleable__label fitted sk-toggleable__label-arrow fitted\">&nbsp;&nbsp;SVR<a class=\"sk-estimator-doc-link fitted\" rel=\"noreferrer\" target=\"_blank\" href=\"https://scikit-learn.org/1.4/modules/generated/sklearn.svm.SVR.html\">?<span>Documentation for SVR</span></a><span class=\"sk-estimator-doc-link fitted\">i<span>Fitted</span></span></label><div class=\"sk-toggleable__content fitted\"><pre>SVR()</pre></div> </div></div></div></div>"
      ],
      "text/plain": [
       "SVR()"
      ]
     },
     "execution_count": 148,
     "metadata": {},
     "output_type": "execute_result"
    }
   ],
   "source": [
    "%%time\n",
    "svm.fit(X_train_transformed,y_train)"
   ]
  },
  {
   "cell_type": "code",
   "execution_count": 151,
   "id": "2132c87f",
   "metadata": {},
   "outputs": [
    {
     "name": "stdout",
     "output_type": "stream",
     "text": [
      "CPU times: total: 5.47 s\n",
      "Wall time: 9.97 s\n"
     ]
    }
   ],
   "source": [
    "%%time\n",
    "y_train_pred3 = svm.predict(X_train_transformed)"
   ]
  },
  {
   "cell_type": "code",
   "execution_count": 150,
   "id": "3db299a0",
   "metadata": {},
   "outputs": [
    {
     "name": "stdout",
     "output_type": "stream",
     "text": [
      "CPU times: total: 906 ms\n",
      "Wall time: 2.72 s\n"
     ]
    }
   ],
   "source": [
    "%%time\n",
    "y_test_pred3 = svm.predict(X_test_transformed)"
   ]
  },
  {
   "cell_type": "code",
   "execution_count": 152,
   "id": "de3fd383",
   "metadata": {},
   "outputs": [
    {
     "name": "stdout",
     "output_type": "stream",
     "text": [
      "Train  score :: 0.33398350235747737\n",
      "\n",
      "Test  score :: 0.35707768457888006\n"
     ]
    }
   ],
   "source": [
    "print(f\"Train  score :: {metrics.mean_absolute_error(y_train_pred3,y_train)}\")\n",
    "print()\n",
    "print(f\"Test  score :: {metrics.mean_absolute_error(y_test_pred3,y_test)}\")"
   ]
  },
  {
   "cell_type": "code",
   "execution_count": 175,
   "id": "a61a1b4c",
   "metadata": {},
   "outputs": [],
   "source": [
    "svm_train_mae = metrics.mean_absolute_error(y_train_pred3,y_train)"
   ]
  },
  {
   "cell_type": "code",
   "execution_count": 176,
   "id": "04a451fa",
   "metadata": {},
   "outputs": [],
   "source": [
    "svm_test_mae = metrics.mean_absolute_error(y_test_pred3,y_test)"
   ]
  },
  {
   "cell_type": "code",
   "execution_count": 153,
   "id": "41a75736",
   "metadata": {},
   "outputs": [
    {
     "name": "stdout",
     "output_type": "stream",
     "text": [
      "Train score :: 0.44486887205234815\n",
      "\n",
      "Test score :: 0.374669531407815\n"
     ]
    }
   ],
   "source": [
    "print(f\"Train score :: {metrics.r2_score(y_train_pred3,y_train)}\")\n",
    "print()\n",
    "print(f\"Test score :: {metrics.r2_score(y_test_pred3,y_test)}\")"
   ]
  },
  {
   "cell_type": "code",
   "execution_count": 177,
   "id": "ad1a93bc",
   "metadata": {},
   "outputs": [],
   "source": [
    "svm_train_r2 = metrics.r2_score(y_train_pred3,y_train)"
   ]
  },
  {
   "cell_type": "code",
   "execution_count": 178,
   "id": "97ddb3ce",
   "metadata": {},
   "outputs": [],
   "source": [
    "svm_test_r2 = metrics.r2_score(y_test_pred3,y_test)"
   ]
  },
  {
   "cell_type": "markdown",
   "id": "b22bad93",
   "metadata": {},
   "source": [
    "## E. Gradient Boosting Regressor"
   ]
  },
  {
   "cell_type": "code",
   "execution_count": 154,
   "id": "23260f05",
   "metadata": {},
   "outputs": [],
   "source": [
    "from sklearn.ensemble import GradientBoostingRegressor"
   ]
  },
  {
   "cell_type": "code",
   "execution_count": 155,
   "id": "e37e4b24",
   "metadata": {},
   "outputs": [],
   "source": [
    "boost = GradientBoostingRegressor(random_state=50)"
   ]
  },
  {
   "cell_type": "code",
   "execution_count": 156,
   "id": "2e2daba1",
   "metadata": {},
   "outputs": [
    {
     "name": "stdout",
     "output_type": "stream",
     "text": [
      "CPU times: total: 578 ms\n",
      "Wall time: 1.09 s\n"
     ]
    },
    {
     "data": {
      "text/html": [
       "<style>#sk-container-id-5 {\n",
       "  /* Definition of color scheme common for light and dark mode */\n",
       "  --sklearn-color-text: black;\n",
       "  --sklearn-color-line: gray;\n",
       "  /* Definition of color scheme for unfitted estimators */\n",
       "  --sklearn-color-unfitted-level-0: #fff5e6;\n",
       "  --sklearn-color-unfitted-level-1: #f6e4d2;\n",
       "  --sklearn-color-unfitted-level-2: #ffe0b3;\n",
       "  --sklearn-color-unfitted-level-3: chocolate;\n",
       "  /* Definition of color scheme for fitted estimators */\n",
       "  --sklearn-color-fitted-level-0: #f0f8ff;\n",
       "  --sklearn-color-fitted-level-1: #d4ebff;\n",
       "  --sklearn-color-fitted-level-2: #b3dbfd;\n",
       "  --sklearn-color-fitted-level-3: cornflowerblue;\n",
       "\n",
       "  /* Specific color for light theme */\n",
       "  --sklearn-color-text-on-default-background: var(--sg-text-color, var(--theme-code-foreground, var(--jp-content-font-color1, black)));\n",
       "  --sklearn-color-background: var(--sg-background-color, var(--theme-background, var(--jp-layout-color0, white)));\n",
       "  --sklearn-color-border-box: var(--sg-text-color, var(--theme-code-foreground, var(--jp-content-font-color1, black)));\n",
       "  --sklearn-color-icon: #696969;\n",
       "\n",
       "  @media (prefers-color-scheme: dark) {\n",
       "    /* Redefinition of color scheme for dark theme */\n",
       "    --sklearn-color-text-on-default-background: var(--sg-text-color, var(--theme-code-foreground, var(--jp-content-font-color1, white)));\n",
       "    --sklearn-color-background: var(--sg-background-color, var(--theme-background, var(--jp-layout-color0, #111)));\n",
       "    --sklearn-color-border-box: var(--sg-text-color, var(--theme-code-foreground, var(--jp-content-font-color1, white)));\n",
       "    --sklearn-color-icon: #878787;\n",
       "  }\n",
       "}\n",
       "\n",
       "#sk-container-id-5 {\n",
       "  color: var(--sklearn-color-text);\n",
       "}\n",
       "\n",
       "#sk-container-id-5 pre {\n",
       "  padding: 0;\n",
       "}\n",
       "\n",
       "#sk-container-id-5 input.sk-hidden--visually {\n",
       "  border: 0;\n",
       "  clip: rect(1px 1px 1px 1px);\n",
       "  clip: rect(1px, 1px, 1px, 1px);\n",
       "  height: 1px;\n",
       "  margin: -1px;\n",
       "  overflow: hidden;\n",
       "  padding: 0;\n",
       "  position: absolute;\n",
       "  width: 1px;\n",
       "}\n",
       "\n",
       "#sk-container-id-5 div.sk-dashed-wrapped {\n",
       "  border: 1px dashed var(--sklearn-color-line);\n",
       "  margin: 0 0.4em 0.5em 0.4em;\n",
       "  box-sizing: border-box;\n",
       "  padding-bottom: 0.4em;\n",
       "  background-color: var(--sklearn-color-background);\n",
       "}\n",
       "\n",
       "#sk-container-id-5 div.sk-container {\n",
       "  /* jupyter's `normalize.less` sets `[hidden] { display: none; }`\n",
       "     but bootstrap.min.css set `[hidden] { display: none !important; }`\n",
       "     so we also need the `!important` here to be able to override the\n",
       "     default hidden behavior on the sphinx rendered scikit-learn.org.\n",
       "     See: https://github.com/scikit-learn/scikit-learn/issues/21755 */\n",
       "  display: inline-block !important;\n",
       "  position: relative;\n",
       "}\n",
       "\n",
       "#sk-container-id-5 div.sk-text-repr-fallback {\n",
       "  display: none;\n",
       "}\n",
       "\n",
       "div.sk-parallel-item,\n",
       "div.sk-serial,\n",
       "div.sk-item {\n",
       "  /* draw centered vertical line to link estimators */\n",
       "  background-image: linear-gradient(var(--sklearn-color-text-on-default-background), var(--sklearn-color-text-on-default-background));\n",
       "  background-size: 2px 100%;\n",
       "  background-repeat: no-repeat;\n",
       "  background-position: center center;\n",
       "}\n",
       "\n",
       "/* Parallel-specific style estimator block */\n",
       "\n",
       "#sk-container-id-5 div.sk-parallel-item::after {\n",
       "  content: \"\";\n",
       "  width: 100%;\n",
       "  border-bottom: 2px solid var(--sklearn-color-text-on-default-background);\n",
       "  flex-grow: 1;\n",
       "}\n",
       "\n",
       "#sk-container-id-5 div.sk-parallel {\n",
       "  display: flex;\n",
       "  align-items: stretch;\n",
       "  justify-content: center;\n",
       "  background-color: var(--sklearn-color-background);\n",
       "  position: relative;\n",
       "}\n",
       "\n",
       "#sk-container-id-5 div.sk-parallel-item {\n",
       "  display: flex;\n",
       "  flex-direction: column;\n",
       "}\n",
       "\n",
       "#sk-container-id-5 div.sk-parallel-item:first-child::after {\n",
       "  align-self: flex-end;\n",
       "  width: 50%;\n",
       "}\n",
       "\n",
       "#sk-container-id-5 div.sk-parallel-item:last-child::after {\n",
       "  align-self: flex-start;\n",
       "  width: 50%;\n",
       "}\n",
       "\n",
       "#sk-container-id-5 div.sk-parallel-item:only-child::after {\n",
       "  width: 0;\n",
       "}\n",
       "\n",
       "/* Serial-specific style estimator block */\n",
       "\n",
       "#sk-container-id-5 div.sk-serial {\n",
       "  display: flex;\n",
       "  flex-direction: column;\n",
       "  align-items: center;\n",
       "  background-color: var(--sklearn-color-background);\n",
       "  padding-right: 1em;\n",
       "  padding-left: 1em;\n",
       "}\n",
       "\n",
       "\n",
       "/* Toggleable style: style used for estimator/Pipeline/ColumnTransformer box that is\n",
       "clickable and can be expanded/collapsed.\n",
       "- Pipeline and ColumnTransformer use this feature and define the default style\n",
       "- Estimators will overwrite some part of the style using the `sk-estimator` class\n",
       "*/\n",
       "\n",
       "/* Pipeline and ColumnTransformer style (default) */\n",
       "\n",
       "#sk-container-id-5 div.sk-toggleable {\n",
       "  /* Default theme specific background. It is overwritten whether we have a\n",
       "  specific estimator or a Pipeline/ColumnTransformer */\n",
       "  background-color: var(--sklearn-color-background);\n",
       "}\n",
       "\n",
       "/* Toggleable label */\n",
       "#sk-container-id-5 label.sk-toggleable__label {\n",
       "  cursor: pointer;\n",
       "  display: block;\n",
       "  width: 100%;\n",
       "  margin-bottom: 0;\n",
       "  padding: 0.5em;\n",
       "  box-sizing: border-box;\n",
       "  text-align: center;\n",
       "}\n",
       "\n",
       "#sk-container-id-5 label.sk-toggleable__label-arrow:before {\n",
       "  /* Arrow on the left of the label */\n",
       "  content: \"▸\";\n",
       "  float: left;\n",
       "  margin-right: 0.25em;\n",
       "  color: var(--sklearn-color-icon);\n",
       "}\n",
       "\n",
       "#sk-container-id-5 label.sk-toggleable__label-arrow:hover:before {\n",
       "  color: var(--sklearn-color-text);\n",
       "}\n",
       "\n",
       "/* Toggleable content - dropdown */\n",
       "\n",
       "#sk-container-id-5 div.sk-toggleable__content {\n",
       "  max-height: 0;\n",
       "  max-width: 0;\n",
       "  overflow: hidden;\n",
       "  text-align: left;\n",
       "  /* unfitted */\n",
       "  background-color: var(--sklearn-color-unfitted-level-0);\n",
       "}\n",
       "\n",
       "#sk-container-id-5 div.sk-toggleable__content.fitted {\n",
       "  /* fitted */\n",
       "  background-color: var(--sklearn-color-fitted-level-0);\n",
       "}\n",
       "\n",
       "#sk-container-id-5 div.sk-toggleable__content pre {\n",
       "  margin: 0.2em;\n",
       "  border-radius: 0.25em;\n",
       "  color: var(--sklearn-color-text);\n",
       "  /* unfitted */\n",
       "  background-color: var(--sklearn-color-unfitted-level-0);\n",
       "}\n",
       "\n",
       "#sk-container-id-5 div.sk-toggleable__content.fitted pre {\n",
       "  /* unfitted */\n",
       "  background-color: var(--sklearn-color-fitted-level-0);\n",
       "}\n",
       "\n",
       "#sk-container-id-5 input.sk-toggleable__control:checked~div.sk-toggleable__content {\n",
       "  /* Expand drop-down */\n",
       "  max-height: 200px;\n",
       "  max-width: 100%;\n",
       "  overflow: auto;\n",
       "}\n",
       "\n",
       "#sk-container-id-5 input.sk-toggleable__control:checked~label.sk-toggleable__label-arrow:before {\n",
       "  content: \"▾\";\n",
       "}\n",
       "\n",
       "/* Pipeline/ColumnTransformer-specific style */\n",
       "\n",
       "#sk-container-id-5 div.sk-label input.sk-toggleable__control:checked~label.sk-toggleable__label {\n",
       "  color: var(--sklearn-color-text);\n",
       "  background-color: var(--sklearn-color-unfitted-level-2);\n",
       "}\n",
       "\n",
       "#sk-container-id-5 div.sk-label.fitted input.sk-toggleable__control:checked~label.sk-toggleable__label {\n",
       "  background-color: var(--sklearn-color-fitted-level-2);\n",
       "}\n",
       "\n",
       "/* Estimator-specific style */\n",
       "\n",
       "/* Colorize estimator box */\n",
       "#sk-container-id-5 div.sk-estimator input.sk-toggleable__control:checked~label.sk-toggleable__label {\n",
       "  /* unfitted */\n",
       "  background-color: var(--sklearn-color-unfitted-level-2);\n",
       "}\n",
       "\n",
       "#sk-container-id-5 div.sk-estimator.fitted input.sk-toggleable__control:checked~label.sk-toggleable__label {\n",
       "  /* fitted */\n",
       "  background-color: var(--sklearn-color-fitted-level-2);\n",
       "}\n",
       "\n",
       "#sk-container-id-5 div.sk-label label.sk-toggleable__label,\n",
       "#sk-container-id-5 div.sk-label label {\n",
       "  /* The background is the default theme color */\n",
       "  color: var(--sklearn-color-text-on-default-background);\n",
       "}\n",
       "\n",
       "/* On hover, darken the color of the background */\n",
       "#sk-container-id-5 div.sk-label:hover label.sk-toggleable__label {\n",
       "  color: var(--sklearn-color-text);\n",
       "  background-color: var(--sklearn-color-unfitted-level-2);\n",
       "}\n",
       "\n",
       "/* Label box, darken color on hover, fitted */\n",
       "#sk-container-id-5 div.sk-label.fitted:hover label.sk-toggleable__label.fitted {\n",
       "  color: var(--sklearn-color-text);\n",
       "  background-color: var(--sklearn-color-fitted-level-2);\n",
       "}\n",
       "\n",
       "/* Estimator label */\n",
       "\n",
       "#sk-container-id-5 div.sk-label label {\n",
       "  font-family: monospace;\n",
       "  font-weight: bold;\n",
       "  display: inline-block;\n",
       "  line-height: 1.2em;\n",
       "}\n",
       "\n",
       "#sk-container-id-5 div.sk-label-container {\n",
       "  text-align: center;\n",
       "}\n",
       "\n",
       "/* Estimator-specific */\n",
       "#sk-container-id-5 div.sk-estimator {\n",
       "  font-family: monospace;\n",
       "  border: 1px dotted var(--sklearn-color-border-box);\n",
       "  border-radius: 0.25em;\n",
       "  box-sizing: border-box;\n",
       "  margin-bottom: 0.5em;\n",
       "  /* unfitted */\n",
       "  background-color: var(--sklearn-color-unfitted-level-0);\n",
       "}\n",
       "\n",
       "#sk-container-id-5 div.sk-estimator.fitted {\n",
       "  /* fitted */\n",
       "  background-color: var(--sklearn-color-fitted-level-0);\n",
       "}\n",
       "\n",
       "/* on hover */\n",
       "#sk-container-id-5 div.sk-estimator:hover {\n",
       "  /* unfitted */\n",
       "  background-color: var(--sklearn-color-unfitted-level-2);\n",
       "}\n",
       "\n",
       "#sk-container-id-5 div.sk-estimator.fitted:hover {\n",
       "  /* fitted */\n",
       "  background-color: var(--sklearn-color-fitted-level-2);\n",
       "}\n",
       "\n",
       "/* Specification for estimator info (e.g. \"i\" and \"?\") */\n",
       "\n",
       "/* Common style for \"i\" and \"?\" */\n",
       "\n",
       ".sk-estimator-doc-link,\n",
       "a:link.sk-estimator-doc-link,\n",
       "a:visited.sk-estimator-doc-link {\n",
       "  float: right;\n",
       "  font-size: smaller;\n",
       "  line-height: 1em;\n",
       "  font-family: monospace;\n",
       "  background-color: var(--sklearn-color-background);\n",
       "  border-radius: 1em;\n",
       "  height: 1em;\n",
       "  width: 1em;\n",
       "  text-decoration: none !important;\n",
       "  margin-left: 1ex;\n",
       "  /* unfitted */\n",
       "  border: var(--sklearn-color-unfitted-level-1) 1pt solid;\n",
       "  color: var(--sklearn-color-unfitted-level-1);\n",
       "}\n",
       "\n",
       ".sk-estimator-doc-link.fitted,\n",
       "a:link.sk-estimator-doc-link.fitted,\n",
       "a:visited.sk-estimator-doc-link.fitted {\n",
       "  /* fitted */\n",
       "  border: var(--sklearn-color-fitted-level-1) 1pt solid;\n",
       "  color: var(--sklearn-color-fitted-level-1);\n",
       "}\n",
       "\n",
       "/* On hover */\n",
       "div.sk-estimator:hover .sk-estimator-doc-link:hover,\n",
       ".sk-estimator-doc-link:hover,\n",
       "div.sk-label-container:hover .sk-estimator-doc-link:hover,\n",
       ".sk-estimator-doc-link:hover {\n",
       "  /* unfitted */\n",
       "  background-color: var(--sklearn-color-unfitted-level-3);\n",
       "  color: var(--sklearn-color-background);\n",
       "  text-decoration: none;\n",
       "}\n",
       "\n",
       "div.sk-estimator.fitted:hover .sk-estimator-doc-link.fitted:hover,\n",
       ".sk-estimator-doc-link.fitted:hover,\n",
       "div.sk-label-container:hover .sk-estimator-doc-link.fitted:hover,\n",
       ".sk-estimator-doc-link.fitted:hover {\n",
       "  /* fitted */\n",
       "  background-color: var(--sklearn-color-fitted-level-3);\n",
       "  color: var(--sklearn-color-background);\n",
       "  text-decoration: none;\n",
       "}\n",
       "\n",
       "/* Span, style for the box shown on hovering the info icon */\n",
       ".sk-estimator-doc-link span {\n",
       "  display: none;\n",
       "  z-index: 9999;\n",
       "  position: relative;\n",
       "  font-weight: normal;\n",
       "  right: .2ex;\n",
       "  padding: .5ex;\n",
       "  margin: .5ex;\n",
       "  width: min-content;\n",
       "  min-width: 20ex;\n",
       "  max-width: 50ex;\n",
       "  color: var(--sklearn-color-text);\n",
       "  box-shadow: 2pt 2pt 4pt #999;\n",
       "  /* unfitted */\n",
       "  background: var(--sklearn-color-unfitted-level-0);\n",
       "  border: .5pt solid var(--sklearn-color-unfitted-level-3);\n",
       "}\n",
       "\n",
       ".sk-estimator-doc-link.fitted span {\n",
       "  /* fitted */\n",
       "  background: var(--sklearn-color-fitted-level-0);\n",
       "  border: var(--sklearn-color-fitted-level-3);\n",
       "}\n",
       "\n",
       ".sk-estimator-doc-link:hover span {\n",
       "  display: block;\n",
       "}\n",
       "\n",
       "/* \"?\"-specific style due to the `<a>` HTML tag */\n",
       "\n",
       "#sk-container-id-5 a.estimator_doc_link {\n",
       "  float: right;\n",
       "  font-size: 1rem;\n",
       "  line-height: 1em;\n",
       "  font-family: monospace;\n",
       "  background-color: var(--sklearn-color-background);\n",
       "  border-radius: 1rem;\n",
       "  height: 1rem;\n",
       "  width: 1rem;\n",
       "  text-decoration: none;\n",
       "  /* unfitted */\n",
       "  color: var(--sklearn-color-unfitted-level-1);\n",
       "  border: var(--sklearn-color-unfitted-level-1) 1pt solid;\n",
       "}\n",
       "\n",
       "#sk-container-id-5 a.estimator_doc_link.fitted {\n",
       "  /* fitted */\n",
       "  border: var(--sklearn-color-fitted-level-1) 1pt solid;\n",
       "  color: var(--sklearn-color-fitted-level-1);\n",
       "}\n",
       "\n",
       "/* On hover */\n",
       "#sk-container-id-5 a.estimator_doc_link:hover {\n",
       "  /* unfitted */\n",
       "  background-color: var(--sklearn-color-unfitted-level-3);\n",
       "  color: var(--sklearn-color-background);\n",
       "  text-decoration: none;\n",
       "}\n",
       "\n",
       "#sk-container-id-5 a.estimator_doc_link.fitted:hover {\n",
       "  /* fitted */\n",
       "  background-color: var(--sklearn-color-fitted-level-3);\n",
       "}\n",
       "</style><div id=\"sk-container-id-5\" class=\"sk-top-container\"><div class=\"sk-text-repr-fallback\"><pre>GradientBoostingRegressor(random_state=50)</pre><b>In a Jupyter environment, please rerun this cell to show the HTML representation or trust the notebook. <br />On GitHub, the HTML representation is unable to render, please try loading this page with nbviewer.org.</b></div><div class=\"sk-container\" hidden><div class=\"sk-item\"><div class=\"sk-estimator fitted sk-toggleable\"><input class=\"sk-toggleable__control sk-hidden--visually\" id=\"sk-estimator-id-5\" type=\"checkbox\" checked><label for=\"sk-estimator-id-5\" class=\"sk-toggleable__label fitted sk-toggleable__label-arrow fitted\">&nbsp;&nbsp;GradientBoostingRegressor<a class=\"sk-estimator-doc-link fitted\" rel=\"noreferrer\" target=\"_blank\" href=\"https://scikit-learn.org/1.4/modules/generated/sklearn.ensemble.GradientBoostingRegressor.html\">?<span>Documentation for GradientBoostingRegressor</span></a><span class=\"sk-estimator-doc-link fitted\">i<span>Fitted</span></span></label><div class=\"sk-toggleable__content fitted\"><pre>GradientBoostingRegressor(random_state=50)</pre></div> </div></div></div></div>"
      ],
      "text/plain": [
       "GradientBoostingRegressor(random_state=50)"
      ]
     },
     "execution_count": 156,
     "metadata": {},
     "output_type": "execute_result"
    }
   ],
   "source": [
    "%%time\n",
    "boost.fit(X_train_transformed,y_train)"
   ]
  },
  {
   "cell_type": "code",
   "execution_count": 157,
   "id": "6bb473f0",
   "metadata": {},
   "outputs": [],
   "source": [
    "y_train_pred4 = boost.predict(X_train_transformed)"
   ]
  },
  {
   "cell_type": "code",
   "execution_count": 158,
   "id": "8b769c61",
   "metadata": {},
   "outputs": [],
   "source": [
    "y_test_pred4 = boost.predict(X_test_transformed)"
   ]
  },
  {
   "cell_type": "code",
   "execution_count": 159,
   "id": "ddd02c3b",
   "metadata": {},
   "outputs": [
    {
     "name": "stdout",
     "output_type": "stream",
     "text": [
      "Train  score :: 0.3453404467178293\n",
      "\n",
      "Test  score :: 0.35219619709206856\n"
     ]
    }
   ],
   "source": [
    "print(f\"Train  score :: {metrics.mean_absolute_error(y_train_pred4,y_train)}\")\n",
    "print()\n",
    "print(f\"Test  score :: {metrics.mean_absolute_error(y_test_pred4,y_test)}\")"
   ]
  },
  {
   "cell_type": "code",
   "execution_count": 179,
   "id": "51b0e87c",
   "metadata": {},
   "outputs": [],
   "source": [
    "gb_train_mae = metrics.mean_absolute_error(y_train_pred4,y_train)"
   ]
  },
  {
   "cell_type": "code",
   "execution_count": 180,
   "id": "0e1c9619",
   "metadata": {},
   "outputs": [],
   "source": [
    "gb_test_mae = metrics.mean_absolute_error(y_test_pred4,y_test)"
   ]
  },
  {
   "cell_type": "code",
   "execution_count": 160,
   "id": "20ac4e9f",
   "metadata": {},
   "outputs": [
    {
     "name": "stdout",
     "output_type": "stream",
     "text": [
      "Train score :: 0.47693387305525703\n",
      "\n",
      "Test score :: 0.45677571430694597\n"
     ]
    }
   ],
   "source": [
    "print(f\"Train score :: {metrics.r2_score(y_train_pred4,y_train)}\")\n",
    "print()\n",
    "print(f\"Test score :: {metrics.r2_score(y_test_pred4,y_test)}\")"
   ]
  },
  {
   "cell_type": "code",
   "execution_count": 181,
   "id": "d5dc9465",
   "metadata": {},
   "outputs": [],
   "source": [
    "gb_train_r2 = metrics.r2_score(y_train_pred4,y_train)"
   ]
  },
  {
   "cell_type": "code",
   "execution_count": 182,
   "id": "b3e801ce",
   "metadata": {},
   "outputs": [],
   "source": [
    "gb_test_r2 = metrics.r2_score(y_test_pred4,y_test)"
   ]
  },
  {
   "cell_type": "code",
   "execution_count": 183,
   "id": "f8a9163f",
   "metadata": {},
   "outputs": [],
   "source": [
    "alg = [\"LinearRegression\",\"DecisionTreeRegressor\",\"RandomForestRegressor\",\"SVR\",\"GradientBoostingRegressor\"]"
   ]
  },
  {
   "cell_type": "code",
   "execution_count": 184,
   "id": "0df30a22",
   "metadata": {},
   "outputs": [],
   "source": [
    "MAE_train_scores = [Li_train_mae*100,tr_train_mae*100,rf_train_mae*100,svm_train_mae*100,gb_train_mae*100]"
   ]
  },
  {
   "cell_type": "code",
   "execution_count": 185,
   "id": "f7e43d4c",
   "metadata": {},
   "outputs": [],
   "source": [
    "MAE_test_scores = [Li_test_mae*100,tr_test_mae*100,rf_test_mae*100,svm_test_mae*100,gb_test_mae*100]"
   ]
  },
  {
   "cell_type": "code",
   "execution_count": 186,
   "id": "3859dc2d",
   "metadata": {},
   "outputs": [],
   "source": [
    "R2_train_scores = [Li_train_r2*100,tr_train_r2*100,rf_train_r2*100,svm_train_r2*100,gb_train_r2*100]"
   ]
  },
  {
   "cell_type": "code",
   "execution_count": 187,
   "id": "37874f83",
   "metadata": {},
   "outputs": [],
   "source": [
    "R2_test_scores = [Li_test_r2*100,tr_test_r2*100,rf_test_r2*100,svm_test_r2*100,gb_test_r2*100]"
   ]
  },
  {
   "cell_type": "code",
   "execution_count": 188,
   "id": "0c74ac30",
   "metadata": {},
   "outputs": [],
   "source": [
    "re_df = pd.DataFrame({\"Models\":alg,\"MAE_train_scores\":MAE_train_scores,\"R2_train_scores\":R2_train_scores,\n",
    "                     \"MAE_test_scores\":MAE_test_scores,\"R2_test_scores\":R2_test_scores})"
   ]
  },
  {
   "cell_type": "code",
   "execution_count": 189,
   "id": "1425cd49",
   "metadata": {},
   "outputs": [
    {
     "data": {
      "text/html": [
       "<div>\n",
       "<style scoped>\n",
       "    .dataframe tbody tr th:only-of-type {\n",
       "        vertical-align: middle;\n",
       "    }\n",
       "\n",
       "    .dataframe tbody tr th {\n",
       "        vertical-align: top;\n",
       "    }\n",
       "\n",
       "    .dataframe thead th {\n",
       "        text-align: right;\n",
       "    }\n",
       "</style>\n",
       "<table border=\"1\" class=\"dataframe\">\n",
       "  <thead>\n",
       "    <tr style=\"text-align: right;\">\n",
       "      <th></th>\n",
       "      <th>Models</th>\n",
       "      <th>MAE_train_scores</th>\n",
       "      <th>R2_train_scores</th>\n",
       "      <th>MAE_test_scores</th>\n",
       "      <th>R2_test_scores</th>\n",
       "    </tr>\n",
       "  </thead>\n",
       "  <tbody>\n",
       "    <tr>\n",
       "      <th>0</th>\n",
       "      <td>LinearRegression</td>\n",
       "      <td>0.424241</td>\n",
       "      <td>99.666524</td>\n",
       "      <td>47.908484</td>\n",
       "      <td>30.961149</td>\n",
       "    </tr>\n",
       "    <tr>\n",
       "      <th>1</th>\n",
       "      <td>DecisionTreeRegressor</td>\n",
       "      <td>0.424241</td>\n",
       "      <td>99.666524</td>\n",
       "      <td>47.908484</td>\n",
       "      <td>30.961149</td>\n",
       "    </tr>\n",
       "    <tr>\n",
       "      <th>2</th>\n",
       "      <td>RandomForestRegressor</td>\n",
       "      <td>13.415071</td>\n",
       "      <td>92.996625</td>\n",
       "      <td>35.173104</td>\n",
       "      <td>46.971710</td>\n",
       "    </tr>\n",
       "    <tr>\n",
       "      <th>3</th>\n",
       "      <td>SVR</td>\n",
       "      <td>33.398350</td>\n",
       "      <td>44.486887</td>\n",
       "      <td>35.707768</td>\n",
       "      <td>37.466953</td>\n",
       "    </tr>\n",
       "    <tr>\n",
       "      <th>4</th>\n",
       "      <td>GradientBoostingRegressor</td>\n",
       "      <td>34.534045</td>\n",
       "      <td>47.693387</td>\n",
       "      <td>35.219620</td>\n",
       "      <td>45.677571</td>\n",
       "    </tr>\n",
       "  </tbody>\n",
       "</table>\n",
       "</div>"
      ],
      "text/plain": [
       "                      Models  MAE_train_scores  R2_train_scores  \\\n",
       "0           LinearRegression          0.424241        99.666524   \n",
       "1      DecisionTreeRegressor          0.424241        99.666524   \n",
       "2      RandomForestRegressor         13.415071        92.996625   \n",
       "3                        SVR         33.398350        44.486887   \n",
       "4  GradientBoostingRegressor         34.534045        47.693387   \n",
       "\n",
       "   MAE_test_scores  R2_test_scores  \n",
       "0        47.908484       30.961149  \n",
       "1        47.908484       30.961149  \n",
       "2        35.173104       46.971710  \n",
       "3        35.707768       37.466953  \n",
       "4        35.219620       45.677571  "
      ]
     },
     "execution_count": 189,
     "metadata": {},
     "output_type": "execute_result"
    }
   ],
   "source": [
    "re_df"
   ]
  },
  {
   "cell_type": "code",
   "execution_count": 201,
   "id": "f18d366f",
   "metadata": {},
   "outputs": [
    {
     "data": {
      "image/png": "[encoded data removed]",
      "text/plain": [
       "<Figure size 1500x600 with 1 Axes>"
      ]
     },
     "metadata": {},
     "output_type": "display_data"
    }
   ],
   "source": [
    "plt.figure(figsize=(15,6))\n",
    "sns.barplot(data = re_df, x = \"Models\",y = \"MAE_train_scores\")\n",
    "plt.title(\"MEAN_ABSOULTE_ERROR TRAIN SCORES COMAPARISION\")\n",
    "plt.show()"
   ]
  },
  {
   "cell_type": "code",
   "execution_count": 202,
   "id": "2df2342b",
   "metadata": {},
   "outputs": [
    {
     "data": {
      "image/png": "[encoded data removed]",
      "text/plain": [
       "<Figure size 1500x600 with 1 Axes>"
      ]
     },
     "metadata": {},
     "output_type": "display_data"
    }
   ],
   "source": [
    "plt.figure(figsize=(15,6))\n",
    "sns.barplot(data = re_df, x = \"Models\",y = \"MAE_test_scores\")\n",
    "plt.title(\"MEAN_ABSOULTE_ERROR TEST SCORES COMAPARISION\")\n",
    "plt.show()"
   ]
  },
  {
   "cell_type": "code",
   "execution_count": 204,
   "id": "a606837f",
   "metadata": {},
   "outputs": [
    {
     "data": {
      "image/png": "[encoded data removed]",
      "text/plain": [
       "<Figure size 1500x600 with 1 Axes>"
      ]
     },
     "metadata": {},
     "output_type": "display_data"
    }
   ],
   "source": [
    "plt.figure(figsize=(15,6))\n",
    "sns.barplot(data=re_df,x = \"Models\",y = \"R2_train_scores\")\n",
    "plt.title(\"R2 TRAIN SCORES COMPARISION\")\n",
    "plt.show()"
   ]
  },
  {
   "cell_type": "code",
   "execution_count": 205,
   "id": "a7e32ae4",
   "metadata": {},
   "outputs": [
    {
     "data": {
      "image/png": "[encoded data removed]",
      "text/plain": [
       "<Figure size 1500x600 with 1 Axes>"
      ]
     },
     "metadata": {},
     "output_type": "display_data"
    }
   ],
   "source": [
    "plt.figure(figsize=(15,6))\n",
    "sns.barplot(data=re_df,x = \"Models\",y = \"R2_test_scores\")\n",
    "plt.title(\"R2 TEST SCORES COMPARISION\")\n",
    "plt.show()"
   ]
  },
  {
   "cell_type": "code",
   "execution_count": null,
   "id": "cfd079f5",
   "metadata": {},
   "outputs": [],
   "source": []
  },
  {
   "cell_type": "code",
   "execution_count": null,
   "id": "a9c34425",
   "metadata": {},
   "outputs": [],
   "source": []
  }
 ],
 "metadata": {
  "kernelspec": {
   "display_name": "Python 3 (ipykernel)",
   "language": "python",
   "name": "python3"
  },
  "language_info": {
   "codemirror_mode": {
    "name": "ipython",
    "version": 3
   },
   "file_extension": ".py",
   "mimetype": "text/x-python",
   "name": "python",
   "nbconvert_exporter": "python",
   "pygments_lexer": "ipython3",
   "version": "3.11.5"
  }
 },
 "nbformat": 4,
 "nbformat_minor": 5
}
